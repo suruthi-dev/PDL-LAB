{
  "nbformat": 4,
  "nbformat_minor": 0,
  "metadata": {
    "colab": {
      "provenance": []
    },
    "kernelspec": {
      "name": "python3",
      "display_name": "Python 3"
    },
    "language_info": {
      "name": "python"
    },
    "accelerator": "TPU"
  },
  "cells": [
    {
      "cell_type": "code",
      "execution_count": null,
      "metadata": {
        "id": "G1UwYjANasXH"
      },
      "outputs": [],
      "source": [
        "import numpy as np\n",
        "from sklearn.manifold import TSNE\n",
        "import matplotlib.pyplot as plt\n",
        "import nltk"
      ]
    },
    {
      "cell_type": "markdown",
      "source": [
        "# Gensim = “Generate Similar”"
      ],
      "metadata": {
        "id": "pJxztp1Sbskp"
      }
    },
    {
      "cell_type": "markdown",
      "source": [
        "Gensim is a free open-source Python library for representing documents as semantic vectors, as efficiently (computer-wise) and painlessly (human-wise) as possible."
      ],
      "metadata": {
        "id": "f5ZN28mTbcq6"
      }
    },
    {
      "cell_type": "markdown",
      "source": [
        "Gensim is designed to process raw, unstructured digital texts (“plain text”) using unsupervised machine learning algorithms."
      ],
      "metadata": {
        "id": "_1cyGIxPbd4d"
      }
    },
    {
      "cell_type": "markdown",
      "source": [
        "The algorithms in Gensim, such as Word2Vec, FastText, Latent Semantic Indexing (LSI, LSA, LsiModel), Latent Dirichlet Allocation (LDA, LdaModel) etc, automatically discover the semantic structure of documents by examining statistical co-occurrence patterns within a corpus of training documents. These algorithms are unsupervised, which means no human input is necessary – you only need a corpus of plain text documents."
      ],
      "metadata": {
        "id": "Y31PdTG3bhv8"
      }
    },
    {
      "cell_type": "code",
      "source": [
        "import gensim.downloader as api\n",
        "glove_model = api.load('glove-wiki-gigaword-300')"
      ],
      "metadata": {
        "colab": {
          "base_uri": "https://localhost:8080/"
        },
        "id": "n6phPmIJaupW",
        "outputId": "95405c07-7ced-4e3a-f334-97a0c675b6d9"
      },
      "execution_count": null,
      "outputs": [
        {
          "output_type": "stream",
          "name": "stdout",
          "text": [
            "[==================================================] 100.0% 376.1/376.1MB downloaded\n"
          ]
        }
      ]
    },
    {
      "cell_type": "code",
      "source": [
        "glove_model.save('glove.bin')"
      ],
      "metadata": {
        "id": "bxQkztobcwv0"
      },
      "execution_count": null,
      "outputs": []
    },
    {
      "cell_type": "code",
      "source": [
        "glove_model['beautiful']"
      ],
      "metadata": {
        "colab": {
          "base_uri": "https://localhost:8080/"
        },
        "id": "ETYKcH38ausA",
        "outputId": "c13adb0a-df5e-4e61-9e76-7aa20755617a"
      },
      "execution_count": null,
      "outputs": [
        {
          "output_type": "execute_result",
          "data": {
            "text/plain": [
              "array([-2.3852e-01, -3.3704e-01, -2.6531e-01, -3.4693e-01, -1.2875e-01,\n",
              "        1.0698e-01, -2.4669e-02,  2.6829e-02, -1.0024e-01, -9.1494e-01,\n",
              "        4.8989e-01, -1.0362e-01, -2.4535e-01,  5.7003e-01, -3.5189e-02,\n",
              "       -3.7690e-01, -6.9177e-02, -2.5942e-01,  2.2511e-01,  5.1855e-01,\n",
              "       -3.9326e-01,  1.2665e+00, -4.4396e-01,  7.6827e-01, -1.0909e-02,\n",
              "       -2.4237e-01, -1.0275e-01, -4.9712e-01, -8.0183e-02,  4.0611e-01,\n",
              "        2.1275e-01,  6.5182e-01, -1.1487e+00,  4.6080e-03, -6.8265e-01,\n",
              "        9.6941e-01, -7.6194e-02, -4.1590e-01, -2.7069e-01, -5.3364e-02,\n",
              "       -7.9631e-02, -2.6670e-01, -2.1544e-02,  2.2392e-01,  5.5741e-02,\n",
              "        8.4611e-02,  8.6011e-01,  4.8927e-01,  4.7428e-01, -2.4446e-01,\n",
              "       -2.1553e-01,  1.4370e-01,  5.0683e-01, -5.8435e-01, -5.6243e-01,\n",
              "       -6.3757e-02, -2.2861e-01, -6.9374e-02,  5.6618e-01, -8.7813e-02,\n",
              "       -2.1272e-01, -1.6319e-01,  3.3545e-01,  1.3707e-01, -1.1920e-03,\n",
              "        9.7461e-02,  3.2382e-01, -2.2693e-01, -1.7767e-01,  4.0166e-02,\n",
              "       -5.3029e-01, -4.5809e-01, -2.3483e-01,  3.1453e-01,  1.7206e-01,\n",
              "       -6.9996e-02,  2.1818e-01, -1.3370e-01,  7.0031e-02, -5.1293e-01,\n",
              "       -5.9242e-01,  2.6683e-01,  3.4211e-02, -2.3073e-01,  9.2629e-02,\n",
              "        9.7956e-01, -1.7105e-01,  3.4766e-01,  1.5655e-01,  1.6473e-01,\n",
              "       -4.8657e-02, -3.3195e-01,  4.0701e-02, -3.6882e-01,  3.8325e-02,\n",
              "        1.4471e-01,  4.5228e-01, -5.3237e-01,  1.6001e-01,  9.1856e-02,\n",
              "       -3.3670e-02, -2.8456e-01,  2.7661e-01,  2.5678e-01, -5.0600e-01,\n",
              "        9.0557e-02,  2.3590e-01, -2.3907e-01, -1.0190e-01, -4.3150e-01,\n",
              "       -1.9739e-01,  3.4452e-01,  3.3246e-01, -8.2128e-02,  2.3898e-01,\n",
              "        2.8935e-02,  3.4182e-01,  6.4785e-01,  4.4846e-02,  2.3185e-01,\n",
              "       -9.0600e-02,  3.2501e-01, -1.1690e-01,  6.3490e-01, -3.9302e-02,\n",
              "       -1.9762e-01, -1.1636e-01,  6.4526e-01, -6.8176e-01, -2.7499e-01,\n",
              "        2.3495e-01,  3.8022e-01, -7.2129e-02,  3.2216e-01, -6.3217e-01,\n",
              "       -1.3036e-01, -7.2367e-02, -1.8482e-01, -7.8929e-02,  1.2480e-01,\n",
              "        9.6149e-02,  4.8628e-02, -5.9320e-02, -1.5919e-01, -2.1533e-01,\n",
              "       -3.8724e-01,  3.5391e-01,  3.4231e-01, -3.9314e-01, -1.1976e-01,\n",
              "       -3.7050e-01, -1.2089e-01, -5.8203e-03, -3.3442e-01,  6.4367e-01,\n",
              "       -2.2489e-01, -4.5688e-01,  1.8812e-02,  1.7772e-01, -1.5363e-01,\n",
              "        4.2730e-02, -3.4811e-01,  6.1017e-01,  3.0632e-01, -4.0521e-01,\n",
              "        1.1642e-02,  8.0483e-05,  1.9665e-01,  2.7749e-01, -2.7826e-01,\n",
              "       -2.8165e-01, -1.7904e-01, -3.9776e-01,  2.9140e-01,  8.6537e-02,\n",
              "       -5.2711e-02, -2.4818e-01,  1.3174e-01, -5.0422e-01, -1.7553e-01,\n",
              "       -5.0302e-02, -6.6879e-01,  4.8007e-01,  2.3588e-02,  3.8455e-01,\n",
              "       -2.0443e-01,  3.2373e-01, -2.6863e-01, -1.1948e-03,  4.1770e-01,\n",
              "       -2.8839e-01, -5.8236e-02, -1.5103e-01, -5.2364e-02, -4.4363e-01,\n",
              "        1.8137e-01, -4.0447e-01, -4.2684e-01, -3.0427e-01,  3.6178e-01,\n",
              "        1.5595e+00, -3.3639e-01, -9.7822e-02, -1.7268e-02,  6.5117e-02,\n",
              "       -3.8777e-01,  5.7876e-02,  4.3497e-01, -3.1166e-01, -2.7618e-01,\n",
              "       -1.7773e-01,  3.3641e-01, -1.0508e-01, -3.1227e-01,  3.9182e-01,\n",
              "       -3.7915e-02,  2.5229e-01, -6.6904e-01,  1.0371e-01,  1.7643e-01,\n",
              "        2.5485e-01, -3.6815e-02,  1.7848e-01,  8.2182e-02, -6.1077e-01,\n",
              "        2.0832e-01,  4.1189e-01, -2.0953e-01, -5.2351e-01, -4.5922e-02,\n",
              "        1.0356e-01, -1.1626e-01, -2.3241e-01, -4.1366e-01, -5.6315e-02,\n",
              "        4.5747e-01, -2.9707e-01, -1.6137e-01, -3.3410e-01, -3.1331e-01,\n",
              "        3.3484e-01,  1.7417e-01, -4.1686e-01,  4.8983e-01, -1.7848e-01,\n",
              "        4.7937e-01, -3.0127e-01,  4.2611e-01,  1.9762e-01,  3.4076e-01,\n",
              "        2.6479e-01, -5.3770e-01, -1.0298e-01, -3.8824e-02,  7.3822e-01,\n",
              "        3.3278e-02,  1.1207e-01,  7.8605e-02,  1.3025e-01, -3.6788e-01,\n",
              "       -3.6885e-01, -4.0836e-01, -1.6628e-01, -2.1534e-01, -7.3451e-02,\n",
              "       -3.4754e-01, -8.6115e-03, -2.1517e-01,  4.9213e-01,  2.8894e-01,\n",
              "        1.9182e-01, -5.3703e-01,  1.5176e-02, -1.9287e-02,  1.2511e-01,\n",
              "        2.9509e-01, -1.0003e+00,  1.0112e-01, -1.3583e-01, -3.6766e-01,\n",
              "       -3.1532e-01,  3.9986e-01, -7.4484e-02, -1.6293e-01, -6.4623e-01,\n",
              "        1.8405e-01, -2.3892e-01,  3.5487e-01, -2.8264e-01, -3.4756e-01,\n",
              "        1.9120e-01,  7.6232e-02, -4.6812e-01,  3.9841e-01,  1.2330e-01,\n",
              "       -2.5784e-01,  4.5218e-01,  3.2891e-01,  3.7239e-02,  2.3779e-01],\n",
              "      dtype=float32)"
            ]
          },
          "metadata": {},
          "execution_count": 3
        }
      ]
    },
    {
      "cell_type": "code",
      "source": [
        "glove_model.most_similar(\"friday\")"
      ],
      "metadata": {
        "colab": {
          "base_uri": "https://localhost:8080/"
        },
        "id": "07Ir3ka5auuk",
        "outputId": "2a1e88c1-05a2-470e-8fd8-8a3832aafeb8"
      },
      "execution_count": null,
      "outputs": [
        {
          "output_type": "execute_result",
          "data": {
            "text/plain": [
              "[('thursday', 0.9821224212646484),\n",
              " ('monday', 0.9758938550949097),\n",
              " ('tuesday', 0.9734106659889221),\n",
              " ('wednesday', 0.971026599407196),\n",
              " ('saturday', 0.8776869773864746),\n",
              " ('sunday', 0.8603045344352722),\n",
              " ('week', 0.794519305229187),\n",
              " ('afternoon', 0.7875707745552063),\n",
              " ('earlier', 0.7377878427505493),\n",
              " ('morning', 0.737604558467865)]"
            ]
          },
          "metadata": {},
          "execution_count": 7
        }
      ]
    },
    {
      "cell_type": "markdown",
      "source": [
        "# queen - girl + boy = king"
      ],
      "metadata": {
        "id": "SOj1mI0fddj3"
      }
    },
    {
      "cell_type": "code",
      "source": [],
      "metadata": {
        "id": "O7hblXrrfJuA"
      },
      "execution_count": null,
      "outputs": []
    },
    {
      "cell_type": "code",
      "source": [
        "glove_model.most_similar(positive=['queen','boy'],\n",
        "                         negative = ['girl'],topn=10)"
      ],
      "metadata": {
        "colab": {
          "base_uri": "https://localhost:8080/"
        },
        "id": "z-ZQC7pidg87",
        "outputId": "deed6028-1908-4ef7-da80-d0d162c23d00"
      },
      "execution_count": null,
      "outputs": [
        {
          "output_type": "execute_result",
          "data": {
            "text/plain": [
              "[('king', 0.6770139932632446),\n",
              " ('monarch', 0.5442801117897034),\n",
              " ('elizabeth', 0.5344177484512329),\n",
              " ('majesty', 0.5312743186950684),\n",
              " ('ii', 0.5138020515441895),\n",
              " ('royal', 0.5046806335449219),\n",
              " ('throne', 0.49595192074775696),\n",
              " ('prince', 0.4886452555656433),\n",
              " ('princess', 0.4612610340118408),\n",
              " ('vi', 0.4535139799118042)]"
            ]
          },
          "metadata": {},
          "execution_count": 11
        }
      ]
    },
    {
      "cell_type": "markdown",
      "source": [
        "# king - boy + girl = Queen"
      ],
      "metadata": {
        "id": "FHOHQgaZd-QY"
      }
    },
    {
      "cell_type": "code",
      "source": [
        "glove_model.most_similar(positive = ['girl','king'],\n",
        "                         negative = ['boy'], topn = 1)"
      ],
      "metadata": {
        "colab": {
          "base_uri": "https://localhost:8080/"
        },
        "id": "io6pbz31auxK",
        "outputId": "34dc1339-1d40-42b0-d94a-34840364d2ba"
      },
      "execution_count": null,
      "outputs": [
        {
          "output_type": "execute_result",
          "data": {
            "text/plain": [
              "[('queen', 0.6850624084472656)]"
            ]
          },
          "metadata": {},
          "execution_count": 10
        }
      ]
    },
    {
      "cell_type": "markdown",
      "source": [
        "# visualization"
      ],
      "metadata": {
        "id": "5IAb9JHaeyf1"
      }
    },
    {
      "cell_type": "code",
      "source": [
        "vocab = ['boy', 'girl', 'man', 'king', 'queen' , 'banana', 'mango' , 'fruit', 'coconut', 'orange', 'kiwi', 'guava',\n",
        "         'person', 'people', 'prince', 'princess', 'monarch', 'sunday', 'monday', 'tuesday', 'wednesday',\n",
        "         'thursday', 'friday', 'sunday', 'holiday', 'pen', 'pencil', 'eraser', 'school', 'teacher', 'board']"
      ],
      "metadata": {
        "id": "5KcbeZ1pau0S"
      },
      "execution_count": null,
      "outputs": []
    },
    {
      "cell_type": "code",
      "source": [
        "def tsne_plot(model):\n",
        "  labels = []\n",
        "  wordvecs = []\n",
        "\n",
        "  for word in vocab:\n",
        "    wordvecs.append(model[word]) # saves the word representation in an array\n",
        "    labels.append(word) # saves the words in an array\n",
        "\n",
        "  wordvecs = np.array(wordvecs)  # Convert to NumPy array\n",
        "\n",
        "  tsne_model = TSNE(perplexity = 3, n_components = 2,\n",
        "                    init = 'pca', random_state = 41)\n",
        "\n",
        "  coordinates = tsne_model.fit_transform(wordvecs)\n",
        "\n",
        "  x,y = [], []\n",
        "\n",
        "  for value in coordinates:\n",
        "    x.append(value[0])\n",
        "    y.append(value[1])\n",
        "\n",
        "    plt.figure(figsize = (8,8))\n",
        "\n",
        "  for i in range(len(x)):\n",
        "    plt.scatter(x[i], y[i])\n",
        "    plt.annotate(labels[i],\n",
        "                  xy = (x[i], y[i]),\n",
        "                  xytext = (2,2),\n",
        "                  textcoords = 'offset points',\n",
        "                  ha = 'right',\n",
        "                  va = 'bottom')\n",
        "  plt.show()"
      ],
      "metadata": {
        "id": "owRyh1CPau3E"
      },
      "execution_count": null,
      "outputs": []
    },
    {
      "cell_type": "code",
      "source": [
        "tsne_plot(glove_model)"
      ],
      "metadata": {
        "colab": {
          "base_uri": "https://localhost:8080/",
          "height": 1000
        },
        "id": "1YbFx_8Sau9G",
        "outputId": "af12ed6f-6338-47fc-f315-8b980dafb553"
      },
      "execution_count": null,
      "outputs": [
        {
          "output_type": "stream",
          "name": "stderr",
          "text": [
            "<ipython-input-22-da5a9bc2a373>:22: RuntimeWarning: More than 20 figures have been opened. Figures created through the pyplot interface (`matplotlib.pyplot.figure`) are retained until explicitly closed and may consume too much memory. (To control this warning, see the rcParam `figure.max_open_warning`). Consider using `matplotlib.pyplot.close()`.\n",
            "  plt.figure(figsize = (8,8))\n"
          ]
        },
        {
          "output_type": "display_data",
          "data": {
            "text/plain": [
              "<Figure size 800x800 with 0 Axes>"
            ]
          },
          "metadata": {}
        },
        {
          "output_type": "display_data",
          "data": {
            "text/plain": [
              "<Figure size 800x800 with 0 Axes>"
            ]
          },
          "metadata": {}
        },
        {
          "output_type": "display_data",
          "data": {
            "text/plain": [
              "<Figure size 800x800 with 0 Axes>"
            ]
          },
          "metadata": {}
        },
        {
          "output_type": "display_data",
          "data": {
            "text/plain": [
              "<Figure size 800x800 with 0 Axes>"
            ]
          },
          "metadata": {}
        },
        {
          "output_type": "display_data",
          "data": {
            "text/plain": [
              "<Figure size 800x800 with 0 Axes>"
            ]
          },
          "metadata": {}
        },
        {
          "output_type": "display_data",
          "data": {
            "text/plain": [
              "<Figure size 800x800 with 0 Axes>"
            ]
          },
          "metadata": {}
        },
        {
          "output_type": "display_data",
          "data": {
            "text/plain": [
              "<Figure size 800x800 with 0 Axes>"
            ]
          },
          "metadata": {}
        },
        {
          "output_type": "display_data",
          "data": {
            "text/plain": [
              "<Figure size 800x800 with 0 Axes>"
            ]
          },
          "metadata": {}
        },
        {
          "output_type": "display_data",
          "data": {
            "text/plain": [
              "<Figure size 800x800 with 0 Axes>"
            ]
          },
          "metadata": {}
        },
        {
          "output_type": "display_data",
          "data": {
            "text/plain": [
              "<Figure size 800x800 with 0 Axes>"
            ]
          },
          "metadata": {}
        },
        {
          "output_type": "display_data",
          "data": {
            "text/plain": [
              "<Figure size 800x800 with 0 Axes>"
            ]
          },
          "metadata": {}
        },
        {
          "output_type": "display_data",
          "data": {
            "text/plain": [
              "<Figure size 800x800 with 0 Axes>"
            ]
          },
          "metadata": {}
        },
        {
          "output_type": "display_data",
          "data": {
            "text/plain": [
              "<Figure size 800x800 with 0 Axes>"
            ]
          },
          "metadata": {}
        },
        {
          "output_type": "display_data",
          "data": {
            "text/plain": [
              "<Figure size 800x800 with 0 Axes>"
            ]
          },
          "metadata": {}
        },
        {
          "output_type": "display_data",
          "data": {
            "text/plain": [
              "<Figure size 800x800 with 0 Axes>"
            ]
          },
          "metadata": {}
        },
        {
          "output_type": "display_data",
          "data": {
            "text/plain": [
              "<Figure size 800x800 with 0 Axes>"
            ]
          },
          "metadata": {}
        },
        {
          "output_type": "display_data",
          "data": {
            "text/plain": [
              "<Figure size 800x800 with 0 Axes>"
            ]
          },
          "metadata": {}
        },
        {
          "output_type": "display_data",
          "data": {
            "text/plain": [
              "<Figure size 800x800 with 0 Axes>"
            ]
          },
          "metadata": {}
        },
        {
          "output_type": "display_data",
          "data": {
            "text/plain": [
              "<Figure size 800x800 with 0 Axes>"
            ]
          },
          "metadata": {}
        },
        {
          "output_type": "display_data",
          "data": {
            "text/plain": [
              "<Figure size 800x800 with 0 Axes>"
            ]
          },
          "metadata": {}
        },
        {
          "output_type": "display_data",
          "data": {
            "text/plain": [
              "<Figure size 800x800 with 0 Axes>"
            ]
          },
          "metadata": {}
        },
        {
          "output_type": "display_data",
          "data": {
            "text/plain": [
              "<Figure size 800x800 with 0 Axes>"
            ]
          },
          "metadata": {}
        },
        {
          "output_type": "display_data",
          "data": {
            "text/plain": [
              "<Figure size 800x800 with 0 Axes>"
            ]
          },
          "metadata": {}
        },
        {
          "output_type": "display_data",
          "data": {
            "text/plain": [
              "<Figure size 800x800 with 0 Axes>"
            ]
          },
          "metadata": {}
        },
        {
          "output_type": "display_data",
          "data": {
            "text/plain": [
              "<Figure size 800x800 with 0 Axes>"
            ]
          },
          "metadata": {}
        },
        {
          "output_type": "display_data",
          "data": {
            "text/plain": [
              "<Figure size 800x800 with 0 Axes>"
            ]
          },
          "metadata": {}
        },
        {
          "output_type": "display_data",
          "data": {
            "text/plain": [
              "<Figure size 800x800 with 0 Axes>"
            ]
          },
          "metadata": {}
        },
        {
          "output_type": "display_data",
          "data": {
            "text/plain": [
              "<Figure size 800x800 with 0 Axes>"
            ]
          },
          "metadata": {}
        },
        {
          "output_type": "display_data",
          "data": {
            "text/plain": [
              "<Figure size 800x800 with 0 Axes>"
            ]
          },
          "metadata": {}
        },
        {
          "output_type": "display_data",
          "data": {
            "text/plain": [
              "<Figure size 800x800 with 0 Axes>"
            ]
          },
          "metadata": {}
        },
        {
          "output_type": "display_data",
          "data": {
            "text/plain": [
              "<Figure size 800x800 with 1 Axes>"
            ],
            "image/png": "[encoded data removed]"
          },
          "metadata": {}
        }
      ]
    },
    {
      "cell_type": "code",
      "source": [],
      "metadata": {
        "id": "1Sak2I7Kau-Y"
      },
      "execution_count": null,
      "outputs": []
    },
    {
      "cell_type": "markdown",
      "source": [
        "# Getting into Transfer Learning of GloVe"
      ],
      "metadata": {
        "id": "de8olw-elgJc"
      }
    },
    {
      "cell_type": "code",
      "source": [
        "import numpy as np\n",
        "import pandas as pd\n",
        "import gensim\n",
        "import tensorflow\n",
        "import gensim.downloader as api\n",
        "\n",
        "from tensorflow.keras.preprocessing.text import Tokenizer\n",
        "from tensorflow.keras.preprocessing.sequence import pad_sequences\n",
        "\n",
        "from keras.models import Sequential\n",
        "from keras.layers import Dense, Embedding, GRU, LSTM, Conv1D, GlobalMaxPooling1D, Dropout, Reshape\n",
        "\n",
        "from keras.initializers import Constant\n",
        "from keras.callbacks import ModelCheckpoint\n",
        "from keras.models import load_model\n",
        "\n",
        "from sklearn.model_selection import train_test_split\n",
        "import nltk\n",
        "from nltk.corpus import stopwords\n",
        "import re\n",
        "from nltk.stem import WordNetLemmatizer"
      ],
      "metadata": {
        "id": "YNAWBZHUavBI"
      },
      "execution_count": null,
      "outputs": []
    },
    {
      "cell_type": "markdown",
      "source": [],
      "metadata": {
        "id": "USA_9tChxIha"
      }
    },
    {
      "cell_type": "code",
      "source": [],
      "metadata": {
        "id": "704T7eg7lfvo"
      },
      "execution_count": null,
      "outputs": []
    },
    {
      "cell_type": "code",
      "source": [
        "from sklearn.datasets import fetch_20newsgroups"
      ],
      "metadata": {
        "id": "6EpDbbhNlfrj"
      },
      "execution_count": null,
      "outputs": []
    },
    {
      "cell_type": "code",
      "source": [
        "train = fetch_20newsgroups(subset='train', shuffle = True)\n",
        "test = fetch_20newsgroups(subset='test', shuffle = True)"
      ],
      "metadata": {
        "id": "qa_yvlRnlfqn"
      },
      "execution_count": null,
      "outputs": []
    },
    {
      "cell_type": "markdown",
      "source": [
        "# Labels to be predicted"
      ],
      "metadata": {
        "id": "EFi8fnJNvKy6"
      }
    },
    {
      "cell_type": "code",
      "source": [
        "categories = train.target_names\n",
        "categories"
      ],
      "metadata": {
        "colab": {
          "base_uri": "https://localhost:8080/"
        },
        "id": "XN0OFoiXlfkp",
        "outputId": "877ae8a1-348b-4947-8711-f92561e42c55"
      },
      "execution_count": null,
      "outputs": [
        {
          "output_type": "execute_result",
          "data": {
            "text/plain": [
              "['alt.atheism',\n",
              " 'comp.graphics',\n",
              " 'comp.os.ms-windows.misc',\n",
              " 'comp.sys.ibm.pc.hardware',\n",
              " 'comp.sys.mac.hardware',\n",
              " 'comp.windows.x',\n",
              " 'misc.forsale',\n",
              " 'rec.autos',\n",
              " 'rec.motorcycles',\n",
              " 'rec.sport.baseball',\n",
              " 'rec.sport.hockey',\n",
              " 'sci.crypt',\n",
              " 'sci.electronics',\n",
              " 'sci.med',\n",
              " 'sci.space',\n",
              " 'soc.religion.christian',\n",
              " 'talk.politics.guns',\n",
              " 'talk.politics.mideast',\n",
              " 'talk.politics.misc',\n",
              " 'talk.religion.misc']"
            ]
          },
          "metadata": {},
          "execution_count": 41
        }
      ]
    },
    {
      "cell_type": "code",
      "source": [
        "pd.Series(train.target).value_counts()"
      ],
      "metadata": {
        "colab": {
          "base_uri": "https://localhost:8080/"
        },
        "id": "49FuwdmOu9Hy",
        "outputId": "7669c0e3-5ca5-4c1c-e85a-388f9ab2ca05"
      },
      "execution_count": null,
      "outputs": [
        {
          "output_type": "execute_result",
          "data": {
            "text/plain": [
              "10    600\n",
              "15    599\n",
              "8     598\n",
              "9     597\n",
              "11    595\n",
              "7     594\n",
              "13    594\n",
              "5     593\n",
              "14    593\n",
              "2     591\n",
              "12    591\n",
              "3     590\n",
              "6     585\n",
              "1     584\n",
              "4     578\n",
              "17    564\n",
              "16    546\n",
              "0     480\n",
              "18    465\n",
              "19    377\n",
              "dtype: int64"
            ]
          },
          "metadata": {},
          "execution_count": 71
        }
      ]
    },
    {
      "cell_type": "code",
      "source": [
        "pd.Series(train.target).value_counts().plot(kind= 'bar')"
      ],
      "metadata": {
        "colab": {
          "base_uri": "https://localhost:8080/",
          "height": 451
        },
        "id": "Ar80rIljt03w",
        "outputId": "d2499e96-cd5a-4e63-acff-68c3792c0b37"
      },
      "execution_count": null,
      "outputs": [
        {
          "output_type": "execute_result",
          "data": {
            "text/plain": [
              "<Axes: >"
            ]
          },
          "metadata": {},
          "execution_count": 67
        },
        {
          "output_type": "display_data",
          "data": {
            "text/plain": [
              "<Figure size 640x480 with 1 Axes>"
            ],
            "image/png": "[encoded data removed]"
          },
          "metadata": {}
        }
      ]
    },
    {
      "cell_type": "code",
      "source": [
        "len(train.data), len(test.data)"
      ],
      "metadata": {
        "colab": {
          "base_uri": "https://localhost:8080/"
        },
        "id": "h9JBedqKlfiN",
        "outputId": "7a5521aa-bb28-4e10-dfff-b8e266a6f6b3"
      },
      "execution_count": null,
      "outputs": [
        {
          "output_type": "execute_result",
          "data": {
            "text/plain": [
              "(11314, 7532)"
            ]
          },
          "metadata": {},
          "execution_count": 42
        }
      ]
    },
    {
      "cell_type": "code",
      "source": [
        "len(categories)"
      ],
      "metadata": {
        "colab": {
          "base_uri": "https://localhost:8080/"
        },
        "id": "WK3GaN11rpEv",
        "outputId": "4b9e1987-b796-4aa6-ef26-fd72fce496e4"
      },
      "execution_count": null,
      "outputs": [
        {
          "output_type": "execute_result",
          "data": {
            "text/plain": [
              "20"
            ]
          },
          "metadata": {},
          "execution_count": 45
        }
      ]
    },
    {
      "cell_type": "code",
      "source": [
        "# downloading nltk dependencies\n",
        "nltk.download('stopwords')\n",
        "nltk.download('omw-1.4')\n",
        "nltk.download('wordnet')"
      ],
      "metadata": {
        "colab": {
          "base_uri": "https://localhost:8080/"
        },
        "id": "8wtOZZrKrpCy",
        "outputId": "9a35f675-d6b5-4c24-b0c0-2e43228fe20e"
      },
      "execution_count": null,
      "outputs": [
        {
          "output_type": "stream",
          "name": "stderr",
          "text": [
            "[nltk_data] Downloading package stopwords to /root/nltk_data...\n",
            "[nltk_data]   Unzipping corpora/stopwords.zip.\n",
            "[nltk_data] Downloading package omw-1.4 to /root/nltk_data...\n",
            "[nltk_data] Downloading package wordnet to /root/nltk_data...\n"
          ]
        },
        {
          "output_type": "execute_result",
          "data": {
            "text/plain": [
              "True"
            ]
          },
          "metadata": {},
          "execution_count": 74
        }
      ]
    },
    {
      "cell_type": "code",
      "source": [
        "all_stopwords = stopwords.words('english')\n",
        "all_stopwords = [w for w in all_stopwords ]\n",
        "\n",
        "def preprocessing(data):\n",
        "    corpus = []\n",
        "    for i in range(len(data)):\n",
        "        # remove urls\n",
        "        tweet = re.sub(r'http\\S+', ' ', data[i]) # links\n",
        "\n",
        "        # remove html tags\n",
        "        tweet = re.sub(r'<.*?>', ' ', tweet) # tags\n",
        "        tweet = re.sub('&\\w+([-.]\\w+)*', ' ', tweet) # colorcodes\n",
        "\n",
        "        # remove digits\n",
        "        tweet = re.sub(r'\\d+', ' ', tweet)\n",
        "        tweet = re.sub('@\\w+([-.]\\w+)*', ' ', tweet) # mentions\n",
        "\n",
        "        # remove emojis\n",
        "        emoji_pattern = re.compile(\"[\"\n",
        "        u\"\\U0001F600-\\U0001F64F\"  # emoticons\n",
        "        u\"\\U0001F300-\\U0001F5FF\"  # symbols & pictographs\n",
        "        u\"\\U0001F680-\\U0001F6FF\"  # transport & map symbols\n",
        "        u\"\\U0001F1E0-\\U0001F1FF\"  # flags (iOS)\n",
        "                           \"]+\", flags=re.UNICODE)\n",
        "        tweet = emoji_pattern.sub(r'', tweet) # no emoji\n",
        "\n",
        "        # remove hashtags\n",
        "        tweet = re.sub(r'#\\w+', ' ', tweet) # hashtags\n",
        "        tweet = re.sub(r'[^\\w\\s]', '', tweet) # punctuations\n",
        "        review = re.sub('[^a-zA-Z]', ' ', tweet) # any characters other than alphabets\n",
        "        review = review.lower() # casefolding\n",
        "        review = review.split()\n",
        "        lemma= WordNetLemmatizer() # lemmatization\n",
        "        review = [lemma.lemmatize(word) for word in review if word not in all_stopwords]\n",
        "        review = ' '.join(review)\n",
        "        corpus.append(review)\n",
        "    return corpus"
      ],
      "metadata": {
        "id": "WWCs7_LnrpBX"
      },
      "execution_count": null,
      "outputs": []
    },
    {
      "cell_type": "code",
      "source": [
        "x_train = preprocessing(train.data)"
      ],
      "metadata": {
        "id": "cu9Yk1zhro82"
      },
      "execution_count": null,
      "outputs": []
    },
    {
      "cell_type": "code",
      "source": [
        "x_test = preprocessing(test.data)"
      ],
      "metadata": {
        "id": "84Kc7WrIyMNN"
      },
      "execution_count": null,
      "outputs": []
    },
    {
      "cell_type": "code",
      "source": [
        "x_train[:3]"
      ],
      "metadata": {
        "colab": {
          "base_uri": "https://localhost:8080/"
        },
        "id": "M5TCPmN8xg2O",
        "outputId": "c67dba61-9e15-4a99-e519-d53af7dac2ce"
      },
      "execution_count": null,
      "outputs": [
        {
          "output_type": "execute_result",
          "data": {
            "text/plain": [
              "['lerxst wheres thing subject car nntppostinghost rac wamumdedu organization university maryland college park line wondering anyone could enlighten car saw day door sport car looked late early called bricklin door really small addition front bumper separate rest body know anyone tellme model name engine spec year production car made history whatever info funky looking car please email thanks il brought neighborhood lerxst',\n",
              " 'guykuo guy kuo subject si clock poll final call summary final call si clock report keywords siaccelerationclockupgrade articleid shelley qvfo innc organization university washington line nntppostinghost carsonuwashingtonedu fair number brave soul upgraded si clock oscillator shared experience poll please send brief message detailing experience procedure top speed attained cpu rated speed add card adapter heat sink hour usage per day floppy disk functionality floppy especially requested summarizing next two day please add network knowledge base done clock upgrade havent answered poll thanks guy kuo',\n",
              " 'twillis thomas e willis subject pb question organization purdue university engineering computer network distribution usa line well folk mac plus finally gave ghost weekend starting life k way back sooo im market new machine bit sooner intended im looking picking powerbook maybe bunch question hopefully somebody answer anybody know dirt next round powerbook introduction expected id heard c supposed make appearence summer havent heard anymore since dont access macleak wondering anybody info anybody heard rumor price drop powerbook line like one duo went recently whats impression display could probably swing got mb disk rather dont really feel much better display yea look great store wow really good could solicit opinion people use daytoday worth taking disk size money hit get active display realize real subjective question ive played around machine computer store breifly figured opinion somebody actually us machine daily might prove helpful well hellcat perform thanks bunch advance info could email ill post summary news reading time premium final around corner tom willis twillis purdue electrical engineering conviction dangerous enemy truth lie f w nietzsche']"
            ]
          },
          "metadata": {},
          "execution_count": 106
        }
      ]
    },
    {
      "cell_type": "code",
      "source": [
        "x_test[:3]"
      ],
      "metadata": {
        "colab": {
          "base_uri": "https://localhost:8080/"
        },
        "id": "0iVD082PyQUY",
        "outputId": "89012061-dede-4d89-dc1a-94c740f232a1"
      },
      "execution_count": null,
      "outputs": [
        {
          "output_type": "execute_result",
          "data": {
            "text/plain": [
              "['v mb k neil b gandler subject need info bonneville organization university buffalo line newssoftware vaxvms vnews nntppostinghost ubvmsdccbuffaloedu little confused model bonnevilles heard le se lse sse ssei could someone tell difference far feature performance also curious know book value prefereably model much le book value usually get word much demand time year heard midspring early summer best time buy neil gandler',\n",
              " 'rick miller subject xface organization line distribution world nntppostinghost summary go ahead swamp im familiar format xface thingies seeing folk header ive got see maybe make one ive got dpgview linux box display uncompressed xfaces ive managed compile uncompface im looking cant seem find xfaces anyones news header could would please send xface header know ill probably get little swamped handle hope rick miller ricxjo muelisto send postcard get one back enposxtigu bildkarton kaj vi ricevos alion rick miller wood muskego wi usa',\n",
              " 'mathew subject strong weak atheism organization mantis consultant cambridge uk xnewsreader rusnews v line acooper turin turambar department utter misery writes faq ever got modified redefine strong atheist assert nonexistence god assert believe nonexistence god word yes mathew']"
            ]
          },
          "metadata": {},
          "execution_count": 107
        }
      ]
    },
    {
      "cell_type": "markdown",
      "source": [
        "# **Converting text data to sequences of integers and padding**"
      ],
      "metadata": {
        "id": "TccF3mObxX5-"
      }
    },
    {
      "cell_type": "code",
      "source": [
        "# step-1 Tokenization\n",
        "\n",
        "tokenizer = Tokenizer()\n",
        "tokenizer.fit_on_texts(x_train)"
      ],
      "metadata": {
        "id": "eiwWTidIro6J"
      },
      "execution_count": null,
      "outputs": []
    },
    {
      "cell_type": "code",
      "source": [
        "# step-2 Convert text data into sequence of integers\n",
        "\n",
        "train_seq = tokenizer.texts_to_sequences(x_train)\n",
        "test_seq = tokenizer.texts_to_sequences(x_test)\n"
      ],
      "metadata": {
        "id": "khr6_VEpro3o"
      },
      "execution_count": null,
      "outputs": []
    },
    {
      "cell_type": "code",
      "source": [
        "# checking the size of the vocabulary for the given corpus\n",
        "\n",
        "vocab_size = len(tokenizer.word_index)+1\n",
        "vocab_size"
      ],
      "metadata": {
        "colab": {
          "base_uri": "https://localhost:8080/"
        },
        "id": "rcZNELVGro1C",
        "outputId": "1ad107f9-cb31-43cc-c5ef-5a8bbe9fc4ee"
      },
      "execution_count": null,
      "outputs": [
        {
          "output_type": "execute_result",
          "data": {
            "text/plain": [
              "110733"
            ]
          },
          "metadata": {},
          "execution_count": 110
        }
      ]
    },
    {
      "cell_type": "code",
      "source": [
        "# step-4 padding the sequence to make them of same length\n",
        "\n",
        "maxlen = 100\n",
        "x_train = pad_sequences(train_seq, maxlen = maxlen, padding = 'post')\n",
        "x_test= pad_sequences(test_seq, maxlen = maxlen, padding = 'post')"
      ],
      "metadata": {
        "id": "zenOfkn20swJ"
      },
      "execution_count": null,
      "outputs": []
    },
    {
      "cell_type": "code",
      "source": [
        "x_train.shape"
      ],
      "metadata": {
        "colab": {
          "base_uri": "https://localhost:8080/"
        },
        "id": "rXBPeSdf0stX",
        "outputId": "38ed844a-b465-469d-e97c-41b64804d439"
      },
      "execution_count": null,
      "outputs": [
        {
          "output_type": "execute_result",
          "data": {
            "text/plain": [
              "(11314, 100)"
            ]
          },
          "metadata": {},
          "execution_count": 113
        }
      ]
    },
    {
      "cell_type": "code",
      "source": [
        "x_test.shape"
      ],
      "metadata": {
        "colab": {
          "base_uri": "https://localhost:8080/"
        },
        "id": "BJ_QzWSJCiqO",
        "outputId": "2ac39c8e-95d5-42b6-85bd-1819e3f0b89c"
      },
      "execution_count": null,
      "outputs": [
        {
          "output_type": "execute_result",
          "data": {
            "text/plain": [
              "(7532, 100)"
            ]
          },
          "metadata": {},
          "execution_count": 166
        }
      ]
    },
    {
      "cell_type": "code",
      "source": [
        "y_train = train.target\n",
        "y_train"
      ],
      "metadata": {
        "colab": {
          "base_uri": "https://localhost:8080/"
        },
        "id": "JZyEFj6v8IQs",
        "outputId": "6cc9ab42-d2ae-42ce-98ed-9d0337570f9e"
      },
      "execution_count": null,
      "outputs": [
        {
          "output_type": "execute_result",
          "data": {
            "text/plain": [
              "array([7, 4, 4, ..., 3, 1, 8])"
            ]
          },
          "metadata": {},
          "execution_count": 167
        }
      ]
    },
    {
      "cell_type": "code",
      "source": [
        "y_test = test.target\n",
        "y_test"
      ],
      "metadata": {
        "colab": {
          "base_uri": "https://localhost:8080/"
        },
        "id": "eW4x8o9F8NQm",
        "outputId": "6e600551-1de0-4229-96aa-e781865730c0"
      },
      "execution_count": null,
      "outputs": [
        {
          "output_type": "execute_result",
          "data": {
            "text/plain": [
              "array([ 7,  5,  0, ...,  9,  6, 15])"
            ]
          },
          "metadata": {},
          "execution_count": 168
        }
      ]
    },
    {
      "cell_type": "code",
      "source": [
        "y_train = to_categorical(y_train, 20)\n",
        "y_test = to_categorical(y_test, 20)"
      ],
      "metadata": {
        "id": "JsumEE1bAN2j"
      },
      "execution_count": null,
      "outputs": []
    },
    {
      "cell_type": "markdown",
      "source": [
        "# **LSTM**"
      ],
      "metadata": {
        "id": "aStGERRh1qSf"
      }
    },
    {
      "cell_type": "code",
      "source": [
        "lstm_model = Sequential()\n",
        "lstm_model.add(Embedding(input_dim = len(glove_model.index_to_key),\n",
        "         output_dim = 300,\n",
        "         input_length = maxlen,\n",
        "         weights = [glove_model.vectors],\n",
        "         trainable = False))\n",
        "lstm_model.add(LSTM(128, return_sequences = True))\n",
        "lstm_model.add(LSTM(64))\n",
        "lstm_model.add(Dense(20,activation='softmax'))\n"
      ],
      "metadata": {
        "id": "iidT4CwC0snx"
      },
      "execution_count": null,
      "outputs": []
    },
    {
      "cell_type": "code",
      "source": [
        "lstm_model.summary()"
      ],
      "metadata": {
        "colab": {
          "base_uri": "https://localhost:8080/"
        },
        "id": "0Lbfe2dw9eN9",
        "outputId": "f63a1334-4112-41d3-a363-2e17e4777a34"
      },
      "execution_count": null,
      "outputs": [
        {
          "output_type": "stream",
          "name": "stdout",
          "text": [
            "Model: \"sequential_10\"\n",
            "_________________________________________________________________\n",
            " Layer (type)                Output Shape              Param #   \n",
            "=================================================================\n",
            " embedding_9 (Embedding)     (None, 100, 300)          120000000 \n",
            "                                                                 \n",
            " lstm_12 (LSTM)              (None, 100, 128)          219648    \n",
            "                                                                 \n",
            " lstm_13 (LSTM)              (None, 64)                49408     \n",
            "                                                                 \n",
            " dense_5 (Dense)             (None, 20)                1300      \n",
            "                                                                 \n",
            "=================================================================\n",
            "Total params: 120,270,356\n",
            "Trainable params: 270,356\n",
            "Non-trainable params: 120,000,000\n",
            "_________________________________________________________________\n"
          ]
        }
      ]
    },
    {
      "cell_type": "code",
      "source": [
        "lstm_model.compile(loss = \"categorical_crossentropy\",optimizer='adam',\n",
        "             metrics = ['accuracy'])"
      ],
      "metadata": {
        "id": "yaqzkVv90slE"
      },
      "execution_count": null,
      "outputs": []
    },
    {
      "cell_type": "code",
      "source": [
        "lstm_model_history = lstm_model.fit(x_train,y_train,epochs=15,\n",
        "                        validation_data=(x_test,y_test))"
      ],
      "metadata": {
        "colab": {
          "base_uri": "https://localhost:8080/"
        },
        "id": "rbOtakCn0siZ",
        "outputId": "00d31709-8fcc-4db9-bf2c-b8bd8cba8a30"
      },
      "execution_count": null,
      "outputs": [
        {
          "metadata": {
            "tags": null
          },
          "name": "stdout",
          "output_type": "stream",
          "text": [
            "Epoch 1/15\n",
            "354/354 [==============================] - 172s 464ms/step - loss: 2.8894 - accuracy: 0.1077 - val_loss: 2.8189 - val_accuracy: 0.1265\n",
            "Epoch 2/15\n",
            "354/354 [==============================] - 175s 495ms/step - loss: 2.5372 - accuracy: 0.2169 - val_loss: 2.4461 - val_accuracy: 0.2315\n",
            "Epoch 3/15\n",
            "354/354 [==============================] - 181s 510ms/step - loss: 2.1480 - accuracy: 0.3311 - val_loss: 2.2359 - val_accuracy: 0.2970\n",
            "Epoch 4/15\n",
            "354/354 [==============================] - 186s 525ms/step - loss: 1.8304 - accuracy: 0.4157 - val_loss: 2.1183 - val_accuracy: 0.3343\n",
            "Epoch 5/15\n",
            "354/354 [==============================] - 176s 499ms/step - loss: 1.5378 - accuracy: 0.5059 - val_loss: 2.1147 - val_accuracy: 0.3621\n",
            "Epoch 6/15\n",
            "354/354 [==============================] - 178s 502ms/step - loss: 1.3258 - accuracy: 0.5722 - val_loss: 1.8867 - val_accuracy: 0.4080\n",
            "Epoch 7/15\n",
            "354/354 [==============================] - 180s 508ms/step - loss: 1.1061 - accuracy: 0.6407 - val_loss: 1.9409 - val_accuracy: 0.4243\n",
            "Epoch 8/15\n",
            "354/354 [==============================] - 177s 500ms/step - loss: 0.9094 - accuracy: 0.7071 - val_loss: 1.8898 - val_accuracy: 0.4517\n",
            "Epoch 9/15\n",
            "354/354 [==============================] - 178s 502ms/step - loss: 0.7543 - accuracy: 0.7592 - val_loss: 1.8743 - val_accuracy: 0.4683\n",
            "Epoch 10/15\n",
            "354/354 [==============================] - 176s 498ms/step - loss: 0.5906 - accuracy: 0.8154 - val_loss: 1.8802 - val_accuracy: 0.4837\n",
            "Epoch 11/15\n",
            "354/354 [==============================] - 170s 480ms/step - loss: 0.4858 - accuracy: 0.8472 - val_loss: 2.0688 - val_accuracy: 0.4847\n",
            "Epoch 12/15\n",
            "354/354 [==============================] - 173s 490ms/step - loss: 0.3897 - accuracy: 0.8786 - val_loss: 2.0129 - val_accuracy: 0.4906\n",
            "Epoch 13/15\n",
            "354/354 [==============================] - 177s 501ms/step - loss: 0.3149 - accuracy: 0.9068 - val_loss: 2.0408 - val_accuracy: 0.5021\n",
            "Epoch 14/15\n",
            "354/354 [==============================] - 180s 508ms/step - loss: 0.2599 - accuracy: 0.9216 - val_loss: 2.0842 - val_accuracy: 0.5135\n",
            "Epoch 15/15\n",
            "354/354 [==============================] - 177s 500ms/step - loss: 0.2263 - accuracy: 0.9323 - val_loss: 2.1421 - val_accuracy: 0.5198\n"
          ]
        }
      ]
    },
    {
      "cell_type": "code",
      "source": [
        "import matplotlib.pyplot as plt\n",
        "def plot_acc(history):\n",
        "  plt.plot(history.history['accuracy'])\n",
        "  plt.plot(history.history['val_accuracy'])\n",
        "  plt.title(\"CNN  Accuracy \")\n",
        "  plt.ylabel(\"Accuracy\")\n",
        "  plt.xlabel(\"Epochs\")\n",
        "  plt.legend(['Train','Test'],loc='best')\n",
        "  plt.show()\n",
        "\n",
        "def plot_loss(history):\n",
        "  plt.plot(history.history['loss'])\n",
        "  plt.plot(history.history['val_loss'])\n",
        "  plt.title(\"CNN  Loss \")\n",
        "  plt.ylabel(\"Loss\")\n",
        "  plt.xlabel(\"Epochs\")\n",
        "  plt.legend(['Train','Test'],loc='best')\n",
        "  plt.show()\n",
        "\n"
      ],
      "metadata": {
        "id": "O8cyBFKZGED5"
      },
      "execution_count": null,
      "outputs": []
    },
    {
      "cell_type": "code",
      "source": [
        "plot_acc(lstm_model_history)"
      ],
      "metadata": {
        "colab": {
          "base_uri": "https://localhost:8080/",
          "height": 472
        },
        "id": "eKgE1jqzGVLL",
        "outputId": "91f1cdfd-ba79-4d98-daf0-933cbe7b45d5"
      },
      "execution_count": null,
      "outputs": [
        {
          "output_type": "display_data",
          "data": {
            "text/plain": [
              "<Figure size 640x480 with 1 Axes>"
            ],
            "image/png": "[encoded data removed]"
          },
          "metadata": {}
        }
      ]
    },
    {
      "cell_type": "code",
      "source": [
        "plot_loss(lstm_model_history)"
      ],
      "metadata": {
        "colab": {
          "base_uri": "https://localhost:8080/",
          "height": 472
        },
        "id": "3g5kB1kYGVHs",
        "outputId": "4e9841df-48fd-4f2a-b226-6a8a3fed8a49"
      },
      "execution_count": null,
      "outputs": [
        {
          "output_type": "display_data",
          "data": {
            "text/plain": [
              "<Figure size 640x480 with 1 Axes>"
            ],
            "image/png": "[encoded data removed]"
          },
          "metadata": {}
        }
      ]
    },
    {
      "cell_type": "markdown",
      "source": [
        "# **CNN-1D**"
      ],
      "metadata": {
        "id": "dKFkmAXUT18c"
      }
    },
    {
      "cell_type": "code",
      "source": [
        "cnn_1d = Sequential()\n",
        "cnn_1d.add(Embedding(input_dim = len(glove_model.index_to_key),\n",
        "         output_dim = 300,\n",
        "         input_length = maxlen,\n",
        "         weights = [glove_model.vectors],\n",
        "         trainable = False))\n",
        "\n",
        "cnn_1d.add(Conv1D(64,8,activation = 'relu'))\n",
        "# cnn_1d.add(MaxPooling1D(2))\n",
        "cnn_1d.add(Dropout(0.5))\n",
        "\n",
        "cnn_1d.add(Dense(32,activation = 'relu'))\n",
        "# cnn_1d.add(Dropout(0.5))\n",
        "\n",
        "cnn_1d.add(Dense(16,activation = 'relu'))\n",
        "\n",
        "cnn_1d.add(GlobalMaxPooling1D())\n",
        "\n",
        "cnn_1d.add(Dense(20,activation='softmax'))\n",
        "\n"
      ],
      "metadata": {
        "id": "VExYQMEdF2HU"
      },
      "execution_count": null,
      "outputs": []
    },
    {
      "cell_type": "code",
      "source": [
        "cnn_1d.compile(optimizer = 'adam',\n",
        "               loss = 'categorical_crossentropy' ,\n",
        "               metrics = ['accuracy'])"
      ],
      "metadata": {
        "id": "7me6ftXUF2D0"
      },
      "execution_count": null,
      "outputs": []
    },
    {
      "cell_type": "code",
      "source": [
        "cnn_history = cnn_1d.fit(x_train,y_train,epochs=15,\n",
        "                        validation_data=(x_test,y_test))"
      ],
      "metadata": {
        "colab": {
          "base_uri": "https://localhost:8080/"
        },
        "id": "41t4xIOQF2BY",
        "outputId": "32a2ac7e-bdec-4c04-c58c-d733a65848a0"
      },
      "execution_count": null,
      "outputs": [
        {
          "output_type": "stream",
          "name": "stdout",
          "text": [
            "Epoch 1/15\n",
            "354/354 [==============================] - 40s 108ms/step - loss: 2.9956 - accuracy: 0.0660 - val_loss: 2.9666 - val_accuracy: 0.0936\n",
            "Epoch 2/15\n",
            "354/354 [==============================] - 43s 121ms/step - loss: 2.8761 - accuracy: 0.1233 - val_loss: 2.8276 - val_accuracy: 0.1560\n",
            "Epoch 3/15\n",
            "354/354 [==============================] - 41s 116ms/step - loss: 2.6215 - accuracy: 0.2072 - val_loss: 2.6622 - val_accuracy: 0.2067\n",
            "Epoch 4/15\n",
            "354/354 [==============================] - 42s 118ms/step - loss: 2.3918 - accuracy: 0.2697 - val_loss: 2.5530 - val_accuracy: 0.2350\n",
            "Epoch 5/15\n",
            "354/354 [==============================] - 47s 133ms/step - loss: 2.1745 - accuracy: 0.3345 - val_loss: 2.4668 - val_accuracy: 0.2617\n",
            "Epoch 6/15\n",
            "354/354 [==============================] - 39s 110ms/step - loss: 2.0053 - accuracy: 0.3786 - val_loss: 2.4016 - val_accuracy: 0.2800\n",
            "Epoch 7/15\n",
            "354/354 [==============================] - 40s 113ms/step - loss: 1.8724 - accuracy: 0.4224 - val_loss: 2.3605 - val_accuracy: 0.2967\n",
            "Epoch 8/15\n",
            "354/354 [==============================] - 68s 192ms/step - loss: 1.7721 - accuracy: 0.4537 - val_loss: 2.3110 - val_accuracy: 0.3117\n",
            "Epoch 9/15\n",
            "354/354 [==============================] - 62s 175ms/step - loss: 1.6536 - accuracy: 0.4844 - val_loss: 2.3064 - val_accuracy: 0.3174\n",
            "Epoch 10/15\n",
            "354/354 [==============================] - 53s 149ms/step - loss: 1.5678 - accuracy: 0.5102 - val_loss: 2.2513 - val_accuracy: 0.3319\n",
            "Epoch 11/15\n",
            "354/354 [==============================] - 41s 116ms/step - loss: 1.4738 - accuracy: 0.5379 - val_loss: 2.2637 - val_accuracy: 0.3281\n",
            "Epoch 12/15\n",
            "354/354 [==============================] - 47s 134ms/step - loss: 1.4017 - accuracy: 0.5596 - val_loss: 2.2223 - val_accuracy: 0.3475\n",
            "Epoch 13/15\n",
            "354/354 [==============================] - 42s 119ms/step - loss: 1.3286 - accuracy: 0.5896 - val_loss: 2.2462 - val_accuracy: 0.3350\n",
            "Epoch 14/15\n",
            "354/354 [==============================] - 44s 125ms/step - loss: 1.2925 - accuracy: 0.5918 - val_loss: 2.2358 - val_accuracy: 0.3386\n",
            "Epoch 15/15\n",
            "354/354 [==============================] - 39s 109ms/step - loss: 1.2165 - accuracy: 0.6161 - val_loss: 2.2246 - val_accuracy: 0.3482\n"
          ]
        }
      ]
    },
    {
      "cell_type": "code",
      "source": [
        "plot_acc(cnn_history)"
      ],
      "metadata": {
        "colab": {
          "base_uri": "https://localhost:8080/",
          "height": 472
        },
        "id": "YNx9ClNXF1_J",
        "outputId": "35e455e3-bdfa-4db4-e3de-925b33c64637"
      },
      "execution_count": null,
      "outputs": [
        {
          "output_type": "display_data",
          "data": {
            "text/plain": [
              "<Figure size 640x480 with 1 Axes>"
            ],
            "image/png": "[encoded data removed]"
          },
          "metadata": {}
        }
      ]
    },
    {
      "cell_type": "code",
      "source": [
        "plot_loss(cnn_history)"
      ],
      "metadata": {
        "colab": {
          "base_uri": "https://localhost:8080/",
          "height": 472
        },
        "id": "uIkJKlT7F184",
        "outputId": "f2735838-3e2a-4bf0-cdfd-86b663462c50"
      },
      "execution_count": null,
      "outputs": [
        {
          "output_type": "display_data",
          "data": {
            "text/plain": [
              "<Figure size 640x480 with 1 Axes>"
            ],
            "image/png": "[encoded data removed]"
          },
          "metadata": {}
        }
      ]
    },
    {
      "cell_type": "code",
      "source": [],
      "metadata": {
        "id": "Ze3pigfDBpLX"
      },
      "execution_count": null,
      "outputs": []
    }
  ]
}