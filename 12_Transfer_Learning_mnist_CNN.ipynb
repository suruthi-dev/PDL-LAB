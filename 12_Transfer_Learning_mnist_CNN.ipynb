{
  "cells": [
    {
      "cell_type": "markdown",
      "source": [
        "# 225229141\n",
        "# SURUTHI S\n",
        "# PDL LAB 12\n",
        "# Image corpus creation and Transfer Learning in CNN"
      ],
      "metadata": {
        "id": "_15Ect3dLzCF"
      },
      "id": "_15Ect3dLzCF"
    },
    {
      "cell_type": "code",
      "execution_count": null,
      "id": "8c399e45",
      "metadata": {
        "id": "8c399e45"
      },
      "outputs": [],
      "source": [
        "import datetime\n",
        "import keras\n",
        "import pandas as pd\n",
        "from keras.datasets import mnist\n",
        "from keras.models import Sequential\n",
        "from keras.layers import Dense, Dropout, Activation, Flatten\n",
        "from keras.layers import Conv2D, MaxPooling2D"
      ]
    },
    {
      "cell_type": "code",
      "execution_count": null,
      "id": "79221498",
      "metadata": {
        "id": "79221498"
      },
      "outputs": [],
      "source": [
        "now = datetime.datetime.now  #get current time\n",
        "\n",
        "batch_size = 128\n",
        "num_classes = 5\n",
        "epochs = 5\n",
        "\n",
        "img_rows, img_cols = 28, 28\n",
        "filters = 32\n",
        "pool_size = 2\n",
        "kernel_size = 3"
      ]
    },
    {
      "cell_type": "code",
      "execution_count": null,
      "id": "75e7a7fd",
      "metadata": {
        "colab": {
          "base_uri": "https://localhost:8080/"
        },
        "id": "75e7a7fd",
        "outputId": "c93604a1-b2e4-4eb4-f31a-9085722095cc"
      },
      "outputs": [
        {
          "output_type": "stream",
          "name": "stdout",
          "text": [
            "Downloading data from https://storage.googleapis.com/tensorflow/tf-keras-datasets/mnist.npz\n",
            "11490434/11490434 [==============================] - 0s 0us/step\n"
          ]
        }
      ],
      "source": [
        "#data, shuffled and split between train and test sets\n",
        "\n",
        "(x_train, y_train), (x_test, y_test) = mnist.load_data()"
      ]
    },
    {
      "cell_type": "code",
      "execution_count": null,
      "id": "f43503a0",
      "metadata": {
        "id": "f43503a0"
      },
      "outputs": [],
      "source": [
        "#create 2 datasets: one with digits below 5 and one with 5 and above\n",
        "\n",
        "x_train_lt5 = x_train[y_train < 5]\n",
        "y_train_lt5 = y_train[y_train < 5]\n",
        "x_test_lt5 = x_test[y_test < 5]\n",
        "y_test_lt5 = y_test[y_test < 5]\n",
        "\n",
        "x_train_gte5 = x_train[y_train >= 5]\n",
        "y_train_gte5 = y_train[y_train >= 5] - 5\n",
        "x_test_gte5 = x_test[y_test >= 5]\n",
        "y_test_gte5 = y_test[y_test >= 5] - 5"
      ]
    },
    {
      "cell_type": "code",
      "execution_count": null,
      "id": "d9fa5399",
      "metadata": {
        "colab": {
          "base_uri": "https://localhost:8080/"
        },
        "id": "d9fa5399",
        "outputId": "3c07d72f-46c6-4fcb-b5bd-bb6846d7d7cb"
      },
      "outputs": [
        {
          "output_type": "execute_result",
          "data": {
            "text/plain": [
              "(30596, 28, 28)"
            ]
          },
          "metadata": {},
          "execution_count": 5
        }
      ],
      "source": [
        "x_train_lt5.shape"
      ]
    },
    {
      "cell_type": "code",
      "execution_count": null,
      "id": "8edb49f8",
      "metadata": {
        "colab": {
          "base_uri": "https://localhost:8080/"
        },
        "id": "8edb49f8",
        "outputId": "2ce7cf97-22e9-4881-91f9-afb8674e993e"
      },
      "outputs": [
        {
          "output_type": "execute_result",
          "data": {
            "text/plain": [
              "(29404, 28, 28)"
            ]
          },
          "metadata": {},
          "execution_count": 6
        }
      ],
      "source": [
        "x_train_gte5.shape"
      ]
    },
    {
      "cell_type": "code",
      "execution_count": null,
      "id": "8d5728de",
      "metadata": {
        "id": "8d5728de"
      },
      "outputs": [],
      "source": [
        "feature_layers =[\n",
        "    Conv2D(filters, kernel_size = (3,3), activation = 'relu',padding='same',input_shape = (img_rows,img_cols, 1)),\n",
        "    Conv2D(filters, kernel_size = (3,3), activation = 'relu'),\n",
        "    MaxPooling2D(pool_size=2),\n",
        "    Dropout(0.25),\n",
        "    Flatten()\n",
        "]"
      ]
    },
    {
      "cell_type": "code",
      "execution_count": null,
      "id": "28c83199",
      "metadata": {
        "id": "28c83199"
      },
      "outputs": [],
      "source": [
        "classification_layers = [\n",
        "    Dense(128, activation = 'relu'),\n",
        "    Dropout(0.5),\n",
        "    Dense(num_classes, activation = 'softmax')\n",
        "]"
      ]
    },
    {
      "cell_type": "code",
      "execution_count": null,
      "id": "fe50da79",
      "metadata": {
        "colab": {
          "base_uri": "https://localhost:8080/"
        },
        "id": "fe50da79",
        "outputId": "4a748665-711e-447a-f88c-7421e6d28c49"
      },
      "outputs": [
        {
          "output_type": "stream",
          "name": "stdout",
          "text": [
            "Model: \"sequential\"\n",
            "_________________________________________________________________\n",
            " Layer (type)                Output Shape              Param #   \n",
            "=================================================================\n",
            " conv2d (Conv2D)             (None, 28, 28, 32)        320       \n",
            "                                                                 \n",
            " conv2d_1 (Conv2D)           (None, 26, 26, 32)        9248      \n",
            "                                                                 \n",
            " max_pooling2d (MaxPooling2  (None, 13, 13, 32)        0         \n",
            " D)                                                              \n",
            "                                                                 \n",
            " dropout (Dropout)           (None, 13, 13, 32)        0         \n",
            "                                                                 \n",
            " flatten (Flatten)           (None, 5408)              0         \n",
            "                                                                 \n",
            " dense (Dense)               (None, 128)               692352    \n",
            "                                                                 \n",
            " dropout_1 (Dropout)         (None, 128)               0         \n",
            "                                                                 \n",
            " dense_1 (Dense)             (None, 5)                 645       \n",
            "                                                                 \n",
            "=================================================================\n",
            "Total params: 702565 (2.68 MB)\n",
            "Trainable params: 702565 (2.68 MB)\n",
            "Non-trainable params: 0 (0.00 Byte)\n",
            "_________________________________________________________________\n"
          ]
        }
      ],
      "source": [
        "model = Sequential(feature_layers+classification_layers)\n",
        "model.summary()"
      ]
    },
    {
      "cell_type": "code",
      "execution_count": null,
      "id": "72c96ff1",
      "metadata": {
        "id": "72c96ff1"
      },
      "outputs": [],
      "source": [
        "def train_model(model,train,test,num_classes):\n",
        "    train[0] = train[0].reshape(train[0].shape[0],img_rows,img_cols,1)\n",
        "    test[0] = test[0].reshape(test[0].shape[0],img_rows,img_cols,1)\n",
        "\n",
        "    train[0] = train[0].astype('float32')\n",
        "    test[0] = test[0].astype('float32')\n",
        "\n",
        "    train[0] /= 255\n",
        "    test[0] /= 255\n",
        "\n",
        "    print(train[0].shape)\n",
        "    print(test[0].shape)\n",
        "\n",
        "    s = pd.Series(train[1])\n",
        "    train[1] = pd.get_dummies(s)\n",
        "    train[1] = train[1].values\n",
        "\n",
        "    s = pd.Series(test[1])\n",
        "    test[1] = pd.get_dummies(s)\n",
        "    test[1] = test[1].values\n",
        "\n",
        "    model.compile(optimizer='adadelta',loss='categorical_crossentropy',metrics=['accuracy'])\n",
        "\n",
        "    train_start_time=now()\n",
        "\n",
        "    model.fit(train[0],train[1],epochs=epochs,verbose=2)\n",
        "\n",
        "    print('\\n')\n",
        "    print('\\n')\n",
        "\n",
        "    print('Training time: %s' % (now() - train_start_time))\n",
        "\n",
        "    score=model.evaluate(test[0],test[1],verbose=0)\n",
        "\n",
        "    print('test loss ',score[0])\n",
        "    print('test accuracy ',score[1])"
      ]
    },
    {
      "cell_type": "code",
      "execution_count": null,
      "id": "f7509906",
      "metadata": {
        "colab": {
          "base_uri": "https://localhost:8080/"
        },
        "id": "f7509906",
        "outputId": "95dc425d-880d-4d67-90bc-2584c8a13bde"
      },
      "outputs": [
        {
          "output_type": "stream",
          "name": "stdout",
          "text": [
            "(29404, 28, 28, 1)\n",
            "(4861, 28, 28, 1)\n",
            "Epoch 1/5\n",
            "919/919 - 14s - loss: 1.5870 - accuracy: 0.2487 - 14s/epoch - 15ms/step\n",
            "Epoch 2/5\n",
            "919/919 - 3s - loss: 1.5152 - accuracy: 0.3974 - 3s/epoch - 3ms/step\n",
            "Epoch 3/5\n",
            "919/919 - 3s - loss: 1.4247 - accuracy: 0.5478 - 3s/epoch - 4ms/step\n",
            "Epoch 4/5\n",
            "919/919 - 3s - loss: 1.3074 - accuracy: 0.6476 - 3s/epoch - 3ms/step\n",
            "Epoch 5/5\n",
            "919/919 - 3s - loss: 1.1647 - accuracy: 0.7144 - 3s/epoch - 3ms/step\n",
            "\n",
            "\n",
            "\n",
            "\n",
            "Training time: 0:00:26.397010\n",
            "test loss  1.0272140502929688\n",
            "test accuracy  0.852705180644989\n"
          ]
        }
      ],
      "source": [
        "train_model(model, [x_train_gte5, y_train_gte5], [x_test_gte5, y_test_gte5], num_classes)\n"
      ]
    },
    {
      "cell_type": "code",
      "execution_count": null,
      "id": "91145d80",
      "metadata": {
        "id": "91145d80"
      },
      "outputs": [],
      "source": [
        "#Freeze only the feature layers\n",
        "\n",
        "for l in feature_layers:\n",
        "  l.trainable = False"
      ]
    },
    {
      "cell_type": "code",
      "execution_count": null,
      "id": "6a62a2c7",
      "metadata": {
        "colab": {
          "base_uri": "https://localhost:8080/"
        },
        "id": "6a62a2c7",
        "outputId": "654b6dd3-16a4-4826-82ab-80bf2ca39bdf"
      },
      "outputs": [
        {
          "output_type": "stream",
          "name": "stdout",
          "text": [
            "Model: \"sequential\"\n",
            "_________________________________________________________________\n",
            " Layer (type)                Output Shape              Param #   \n",
            "=================================================================\n",
            " conv2d (Conv2D)             (None, 28, 28, 32)        320       \n",
            "                                                                 \n",
            " conv2d_1 (Conv2D)           (None, 26, 26, 32)        9248      \n",
            "                                                                 \n",
            " max_pooling2d (MaxPooling2  (None, 13, 13, 32)        0         \n",
            " D)                                                              \n",
            "                                                                 \n",
            " dropout (Dropout)           (None, 13, 13, 32)        0         \n",
            "                                                                 \n",
            " flatten (Flatten)           (None, 5408)              0         \n",
            "                                                                 \n",
            " dense (Dense)               (None, 128)               692352    \n",
            "                                                                 \n",
            " dropout_1 (Dropout)         (None, 128)               0         \n",
            "                                                                 \n",
            " dense_1 (Dense)             (None, 5)                 645       \n",
            "                                                                 \n",
            "=================================================================\n",
            "Total params: 702565 (2.68 MB)\n",
            "Trainable params: 692997 (2.64 MB)\n",
            "Non-trainable params: 9568 (37.38 KB)\n",
            "_________________________________________________________________\n"
          ]
        }
      ],
      "source": [
        "model.summary()"
      ]
    },
    {
      "cell_type": "code",
      "execution_count": null,
      "id": "9b3937aa",
      "metadata": {
        "scrolled": true,
        "colab": {
          "base_uri": "https://localhost:8080/"
        },
        "id": "9b3937aa",
        "outputId": "59352f10-85f3-403c-e41e-fbad19a94603"
      },
      "outputs": [
        {
          "output_type": "stream",
          "name": "stdout",
          "text": [
            "(30596, 28, 28, 1)\n",
            "(5139, 28, 28, 1)\n",
            "Epoch 1/5\n",
            "957/957 - 4s - loss: 1.4567 - accuracy: 0.4285 - 4s/epoch - 4ms/step\n",
            "Epoch 2/5\n",
            "957/957 - 3s - loss: 1.2730 - accuracy: 0.5569 - 3s/epoch - 3ms/step\n",
            "Epoch 3/5\n",
            "957/957 - 3s - loss: 1.1306 - accuracy: 0.6707 - 3s/epoch - 3ms/step\n",
            "Epoch 4/5\n",
            "957/957 - 3s - loss: 1.0010 - accuracy: 0.7619 - 3s/epoch - 3ms/step\n",
            "Epoch 5/5\n",
            "957/957 - 3s - loss: 0.8904 - accuracy: 0.8148 - 3s/epoch - 3ms/step\n",
            "\n",
            "\n",
            "\n",
            "\n",
            "Training time: 0:00:21.188800\n",
            "test loss  0.7739014625549316\n",
            "test accuracy  0.8877213597297668\n"
          ]
        }
      ],
      "source": [
        "train_model(model, [x_train_lt5, y_train_lt5], [x_test_lt5, y_test_lt5], num_classes)\n"
      ]
    },
    {
      "cell_type": "markdown",
      "id": "786f94c6",
      "metadata": {
        "id": "786f94c6"
      },
      "source": [
        "## Reversing the training process"
      ]
    },
    {
      "cell_type": "code",
      "execution_count": null,
      "id": "0c13ed10",
      "metadata": {
        "colab": {
          "base_uri": "https://localhost:8080/"
        },
        "id": "0c13ed10",
        "outputId": "8a8d7116-c8ea-4e5a-ae54-1ffb3610275e"
      },
      "outputs": [
        {
          "output_type": "stream",
          "name": "stdout",
          "text": [
            "Model: \"sequential_1\"\n",
            "_________________________________________________________________\n",
            " Layer (type)                Output Shape              Param #   \n",
            "=================================================================\n",
            " conv2d (Conv2D)             (None, 28, 28, 32)        320       \n",
            "                                                                 \n",
            " conv2d_1 (Conv2D)           (None, 26, 26, 32)        9248      \n",
            "                                                                 \n",
            " max_pooling2d (MaxPooling2  (None, 13, 13, 32)        0         \n",
            " D)                                                              \n",
            "                                                                 \n",
            " dropout (Dropout)           (None, 13, 13, 32)        0         \n",
            "                                                                 \n",
            " flatten (Flatten)           (None, 5408)              0         \n",
            "                                                                 \n",
            " dense (Dense)               (None, 128)               692352    \n",
            "                                                                 \n",
            " dropout_1 (Dropout)         (None, 128)               0         \n",
            "                                                                 \n",
            " dense_1 (Dense)             (None, 5)                 645       \n",
            "                                                                 \n",
            "=================================================================\n",
            "Total params: 702565 (2.68 MB)\n",
            "Trainable params: 692997 (2.64 MB)\n",
            "Non-trainable params: 9568 (37.38 KB)\n",
            "_________________________________________________________________\n"
          ]
        }
      ],
      "source": [
        "modelReverse = Sequential(feature_layers+classification_layers)\n",
        "modelReverse.summary()"
      ]
    },
    {
      "cell_type": "code",
      "execution_count": null,
      "id": "5c53e039",
      "metadata": {
        "colab": {
          "base_uri": "https://localhost:8080/"
        },
        "id": "5c53e039",
        "outputId": "f80ca363-2067-45cf-c385-3f6990b2c4d3"
      },
      "outputs": [
        {
          "output_type": "stream",
          "name": "stdout",
          "text": [
            "(30596, 28, 28, 1)\n",
            "(5139, 28, 28, 1)\n",
            "Epoch 1/5\n",
            "957/957 - 4s - loss: 0.7960 - accuracy: 0.8454 - 4s/epoch - 4ms/step\n",
            "Epoch 2/5\n",
            "957/957 - 3s - loss: 0.7170 - accuracy: 0.8640 - 3s/epoch - 3ms/step\n",
            "Epoch 3/5\n",
            "957/957 - 3s - loss: 0.6528 - accuracy: 0.8770 - 3s/epoch - 3ms/step\n",
            "Epoch 4/5\n",
            "957/957 - 3s - loss: 0.6018 - accuracy: 0.8833 - 3s/epoch - 3ms/step\n",
            "Epoch 5/5\n",
            "957/957 - 3s - loss: 0.5566 - accuracy: 0.8922 - 3s/epoch - 3ms/step\n",
            "\n",
            "\n",
            "\n",
            "\n",
            "Training time: 0:00:21.183369\n",
            "test loss  0.45908495783805847\n",
            "test accuracy  0.9303366541862488\n"
          ]
        }
      ],
      "source": [
        "train_model(modelReverse, [x_train_lt5, y_train_lt5], [x_test_lt5, y_test_lt5], num_classes)"
      ]
    },
    {
      "cell_type": "code",
      "execution_count": null,
      "id": "c0046437",
      "metadata": {
        "id": "c0046437"
      },
      "outputs": [],
      "source": [
        "#Freeze only the feature layers\n",
        "\n",
        "for l in feature_layers:\n",
        "  l.trainable = False"
      ]
    },
    {
      "cell_type": "code",
      "execution_count": null,
      "id": "ea04ec94",
      "metadata": {
        "colab": {
          "base_uri": "https://localhost:8080/"
        },
        "id": "ea04ec94",
        "outputId": "7ac5f028-3a0a-4f87-d5e5-05fecc603b1d"
      },
      "outputs": [
        {
          "output_type": "stream",
          "name": "stdout",
          "text": [
            "Model: \"sequential_1\"\n",
            "_________________________________________________________________\n",
            " Layer (type)                Output Shape              Param #   \n",
            "=================================================================\n",
            " conv2d (Conv2D)             (None, 28, 28, 32)        320       \n",
            "                                                                 \n",
            " conv2d_1 (Conv2D)           (None, 26, 26, 32)        9248      \n",
            "                                                                 \n",
            " max_pooling2d (MaxPooling2  (None, 13, 13, 32)        0         \n",
            " D)                                                              \n",
            "                                                                 \n",
            " dropout (Dropout)           (None, 13, 13, 32)        0         \n",
            "                                                                 \n",
            " flatten (Flatten)           (None, 5408)              0         \n",
            "                                                                 \n",
            " dense (Dense)               (None, 128)               692352    \n",
            "                                                                 \n",
            " dropout_1 (Dropout)         (None, 128)               0         \n",
            "                                                                 \n",
            " dense_1 (Dense)             (None, 5)                 645       \n",
            "                                                                 \n",
            "=================================================================\n",
            "Total params: 702565 (2.68 MB)\n",
            "Trainable params: 692997 (2.64 MB)\n",
            "Non-trainable params: 9568 (37.38 KB)\n",
            "_________________________________________________________________\n"
          ]
        }
      ],
      "source": [
        "modelReverse.summary()"
      ]
    }
  ],
  "metadata": {
    "kernelspec": {
      "display_name": "Python 3",
      "name": "python3"
    },
    "language_info": {
      "codemirror_mode": {
        "name": "ipython",
        "version": 3
      },
      "file_extension": ".py",
      "mimetype": "text/x-python",
      "name": "python",
      "nbconvert_exporter": "python",
      "pygments_lexer": "ipython3",
      "version": "3.9.13"
    },
    "colab": {
      "provenance": [],
      "gpuType": "T4"
    },
    "accelerator": "GPU"
  },
  "nbformat": 4,
  "nbformat_minor": 5
}