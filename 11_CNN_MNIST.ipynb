{
  "nbformat": 4,
  "nbformat_minor": 0,
  "metadata": {
    "colab": {
      "provenance": [],
      "gpuType": "T4"
    },
    "kernelspec": {
      "name": "python3",
      "display_name": "Python 3"
    },
    "language_info": {
      "name": "python"
    },
    "accelerator": "GPU"
  },
  "cells": [
    {
      "cell_type": "markdown",
      "source": [
        "# SURUTHI S\n",
        "# 225229141"
      ],
      "metadata": {
        "id": "3GnFRHPcNpVU"
      }
    },
    {
      "cell_type": "code",
      "execution_count": null,
      "metadata": {
        "colab": {
          "base_uri": "https://localhost:8080/"
        },
        "id": "J2u6_6agtu4N",
        "outputId": "1338a9e2-d94a-4b76-c01c-f24c5abdecb5"
      },
      "outputs": [
        {
          "output_type": "stream",
          "name": "stdout",
          "text": [
            "Collecting keras-tuner\n",
            "  Downloading keras_tuner-1.3.5-py3-none-any.whl (176 kB)\n",
            "\u001b[?25l     \u001b[90m━━━━━━━━━━━━━━━━━━━━━━━━━━━━━━━━━━━━━━━━\u001b[0m \u001b[32m0.0/176.1 kB\u001b[0m \u001b[31m?\u001b[0m eta \u001b[36m-:--:--\u001b[0m\r\u001b[2K     \u001b[91m━━━━━━━━━━━━━━━━━━━━━━━━━━━\u001b[0m\u001b[90m╺\u001b[0m\u001b[90m━━━━━━━━━━━\u001b[0m \u001b[32m122.9/176.1 kB\u001b[0m \u001b[31m3.6 MB/s\u001b[0m eta \u001b[36m0:00:01\u001b[0m\r\u001b[2K     \u001b[90m━━━━━━━━━━━━━━━━━━━━━━━━━━━━━━━━━━━━━━━\u001b[0m \u001b[32m176.1/176.1 kB\u001b[0m \u001b[31m3.9 MB/s\u001b[0m eta \u001b[36m0:00:00\u001b[0m\n",
            "\u001b[?25hRequirement already satisfied: packaging in /usr/local/lib/python3.10/dist-packages (from keras-tuner) (23.1)\n",
            "Requirement already satisfied: requests in /usr/local/lib/python3.10/dist-packages (from keras-tuner) (2.31.0)\n",
            "Collecting kt-legacy (from keras-tuner)\n",
            "  Downloading kt_legacy-1.0.5-py3-none-any.whl (9.6 kB)\n",
            "Requirement already satisfied: charset-normalizer<4,>=2 in /usr/local/lib/python3.10/dist-packages (from requests->keras-tuner) (3.2.0)\n",
            "Requirement already satisfied: idna<4,>=2.5 in /usr/local/lib/python3.10/dist-packages (from requests->keras-tuner) (3.4)\n",
            "Requirement already satisfied: urllib3<3,>=1.21.1 in /usr/local/lib/python3.10/dist-packages (from requests->keras-tuner) (2.0.4)\n",
            "Requirement already satisfied: certifi>=2017.4.17 in /usr/local/lib/python3.10/dist-packages (from requests->keras-tuner) (2023.7.22)\n",
            "Installing collected packages: kt-legacy, keras-tuner\n",
            "Successfully installed keras-tuner-1.3.5 kt-legacy-1.0.5\n"
          ]
        }
      ],
      "source": [
        "pip install keras-tuner"
      ]
    },
    {
      "cell_type": "code",
      "source": [
        "import tensorflow as tf\n",
        "from tensorflow.keras import layers,models\n",
        "from kerastuner.tuners import RandomSearch\n",
        "import keras\n",
        "import keras_tuner\n",
        "from kerastuner.tuners import Hyperband\n",
        "import matplotlib.pyplot as plt"
      ],
      "metadata": {
        "id": "PxxveIKHt1Ef",
        "colab": {
          "base_uri": "https://localhost:8080/"
        },
        "outputId": "a86552de-ab10-4cad-9aba-105f3d372a7b"
      },
      "execution_count": null,
      "outputs": [
        {
          "output_type": "stream",
          "name": "stderr",
          "text": [
            "<ipython-input-3-0afa839d41ea>:3: DeprecationWarning: `import kerastuner` is deprecated, please use `import keras_tuner`.\n",
            "  from kerastuner.tuners import RandomSearch\n"
          ]
        }
      ]
    },
    {
      "cell_type": "code",
      "source": [
        "(x_train_full, y_train_full), (x_test, y_test) = tf.keras.datasets.mnist.load_data()"
      ],
      "metadata": {
        "id": "D8wLz1GAt1IH",
        "colab": {
          "base_uri": "https://localhost:8080/"
        },
        "outputId": "23144445-3ad2-451e-ac83-275643301412"
      },
      "execution_count": null,
      "outputs": [
        {
          "output_type": "stream",
          "name": "stdout",
          "text": [
            "Downloading data from https://storage.googleapis.com/tensorflow/tf-keras-datasets/mnist.npz\n",
            "11490434/11490434 [==============================] - 2s 0us/step\n"
          ]
        }
      ]
    },
    {
      "cell_type": "code",
      "source": [
        "# Split the training data into training and validation sets\n",
        "validation_split = 0.2  # You can adjust this split ratio as needed\n",
        "\n",
        "# Calculate the number of samples to use for validation\n",
        "num_validation_samples = int(validation_split * len(x_train_full))\n",
        "\n",
        "# Split the training data into training and validation sets\n",
        "x_train = x_train_full[:-num_validation_samples]\n",
        "y_train = y_train_full[:-num_validation_samples]\n",
        "\n",
        "x_val = x_train_full[-num_validation_samples:]\n",
        "y_val = y_train_full[-num_validation_samples:]\n",
        "\n",
        "\n",
        "# Reshape the data to match the input shape expected by the model\n",
        "x_train = x_train.reshape((-1, 28, 28, 1))\n",
        "x_val = x_val.reshape((-1, 28, 28, 1))\n",
        "x_test = x_test.reshape((-1, 28, 28, 1))"
      ],
      "metadata": {
        "id": "V42MTGUL3wwj"
      },
      "execution_count": null,
      "outputs": []
    },
    {
      "cell_type": "code",
      "source": [
        "len(x_train),len(x_test)\n",
        "\n",
        "# 60000 for training\n",
        "# 10000 for testing"
      ],
      "metadata": {
        "colab": {
          "base_uri": "https://localhost:8080/"
        },
        "id": "TkaeyPu2t1Ku",
        "outputId": "6982b9f9-b86b-446f-c4e3-a2bb9473c883"
      },
      "execution_count": null,
      "outputs": [
        {
          "output_type": "execute_result",
          "data": {
            "text/plain": [
              "(48000, 10000)"
            ]
          },
          "metadata": {},
          "execution_count": 5
        }
      ]
    },
    {
      "cell_type": "code",
      "source": [
        "x_train[2].dtype"
      ],
      "metadata": {
        "colab": {
          "base_uri": "https://localhost:8080/"
        },
        "id": "jrAuwRMet1NN",
        "outputId": "a579c2e7-16cd-450c-97a8-1de0b80e7d63"
      },
      "execution_count": null,
      "outputs": [
        {
          "output_type": "execute_result",
          "data": {
            "text/plain": [
              "dtype('uint8')"
            ]
          },
          "metadata": {},
          "execution_count": 6
        }
      ]
    },
    {
      "cell_type": "code",
      "source": [
        "for i in range(5):\n",
        "  plt.imshow(x_train[i])\n",
        "  plt.title(y_train[i])\n",
        "  plt.axis(\"off\")\n",
        "  plt.show()"
      ],
      "metadata": {
        "id": "PVx9BrmRt2c2",
        "colab": {
          "base_uri": "https://localhost:8080/",
          "height": 1000
        },
        "outputId": "83386ff7-6de7-40ef-ffdf-4506bf67ed33"
      },
      "execution_count": null,
      "outputs": [
        {
          "output_type": "display_data",
          "data": {
            "text/plain": [
              "<Figure size 640x480 with 1 Axes>"
            ],
            "image/png": "[encoded data removed]"
          },
          "metadata": {}
        },
        {
          "output_type": "display_data",
          "data": {
            "text/plain": [
              "<Figure size 640x480 with 1 Axes>"
            ],
            "image/png": "[encoded data removed]"
          },
          "metadata": {}
        },
        {
          "output_type": "display_data",
          "data": {
            "text/plain": [
              "<Figure size 640x480 with 1 Axes>"
            ],
            "image/png": "[encoded data removed]"
          },
          "metadata": {}
        },
        {
          "output_type": "display_data",
          "data": {
            "text/plain": [
              "<Figure size 640x480 with 1 Axes>"
            ],
            "image/png": "[encoded data removed]"
          },
          "metadata": {}
        },
        {
          "output_type": "display_data",
          "data": {
            "text/plain": [
              "<Figure size 640x480 with 1 Axes>"
            ],
            "image/png": "[encoded data removed]"
          },
          "metadata": {}
        }
      ]
    },
    {
      "cell_type": "code",
      "source": [
        "x_train[1].shape"
      ],
      "metadata": {
        "colab": {
          "base_uri": "https://localhost:8080/"
        },
        "id": "s_24L83tt2f1",
        "outputId": "daeff08a-98fb-4bde-c601-a3a096ee9feb"
      },
      "execution_count": null,
      "outputs": [
        {
          "output_type": "execute_result",
          "data": {
            "text/plain": [
              "(28, 28, 1)"
            ]
          },
          "metadata": {},
          "execution_count": 8
        }
      ]
    },
    {
      "cell_type": "code",
      "source": [
        "INPUT_DIM =  (28,28,1)"
      ],
      "metadata": {
        "id": "tKPG49GZt2im"
      },
      "execution_count": null,
      "outputs": []
    },
    {
      "cell_type": "code",
      "source": [],
      "metadata": {
        "id": "-tQzlw7FEz3K"
      },
      "execution_count": null,
      "outputs": []
    },
    {
      "cell_type": "code",
      "source": [
        "model_baseline = tf.keras.Sequential()\n",
        "model_baseline.add(layers.Conv2D(filters=32,\n",
        "                        kernel_size=(3, 3),\n",
        "                        activation = 'relu',\n",
        "                        input_shape = INPUT_DIM\n",
        "                        ))\n",
        "model_baseline.add(layers.Flatten())\n",
        "model_baseline.add(layers.Dense(10,activation = 'softmax'))\n",
        "\n",
        "model_baseline.compile(optimizer = 'adam',\n",
        "              loss = 'sparse_categorical_crossentropy',\n",
        "              metrics = ['accuracy'])"
      ],
      "metadata": {
        "id": "mEwaYU74t2lf"
      },
      "execution_count": null,
      "outputs": []
    },
    {
      "cell_type": "code",
      "source": [
        "history_bl = model_baseline.fit(x_train,y_train,epochs = 5,validation_split = 0.10)"
      ],
      "metadata": {
        "colab": {
          "base_uri": "https://localhost:8080/"
        },
        "id": "MAebIQGGt2oN",
        "outputId": "c0978104-1f09-4a83-f723-8f40140955b7"
      },
      "execution_count": null,
      "outputs": [
        {
          "output_type": "stream",
          "name": "stdout",
          "text": [
            "Epoch 1/5\n",
            "1350/1350 [==============================] - 20s 5ms/step - loss: 1.3541 - accuracy: 0.9292 - val_loss: 0.1764 - val_accuracy: 0.9579\n",
            "Epoch 2/5\n",
            "1350/1350 [==============================] - 4s 3ms/step - loss: 0.0811 - accuracy: 0.9756 - val_loss: 0.1778 - val_accuracy: 0.9546\n",
            "Epoch 3/5\n",
            "1350/1350 [==============================] - 4s 3ms/step - loss: 0.0626 - accuracy: 0.9803 - val_loss: 0.1848 - val_accuracy: 0.9590\n",
            "Epoch 4/5\n",
            "1350/1350 [==============================] - 4s 3ms/step - loss: 0.0581 - accuracy: 0.9819 - val_loss: 0.2252 - val_accuracy: 0.9592\n",
            "Epoch 5/5\n",
            "1350/1350 [==============================] - 5s 3ms/step - loss: 0.0461 - accuracy: 0.9863 - val_loss: 0.2066 - val_accuracy: 0.9592\n"
          ]
        }
      ]
    },
    {
      "cell_type": "code",
      "source": [
        "def accuracy_plot(history):\n",
        "  plt.plot(history.history['accuracy'])\n",
        "  plt.plot(history.history['val_accuracy'])\n",
        "  plt.title(\" Accuracy \")\n",
        "  plt.xlabel('Epochs')\n",
        "  plt.ylabel(\"Accuracy\")\n",
        "  plt.legend(['Train',\"Test\"])\n",
        "  plt.show()\n",
        "\n",
        "def loss_plot(history):\n",
        "  plt.plot(history.history['loss'])\n",
        "  plt.plot(history.history['val_loss'])\n",
        "  plt.title(\" Loss \")\n",
        "  plt.ylabel(\"Loss\")\n",
        "  plt.xlabel(\"Epochs\")\n",
        "  plt.legend(['Train','Test'],loc='best')\n",
        "  plt.show()\n"
      ],
      "metadata": {
        "id": "AHMUa4Rvt2rF"
      },
      "execution_count": null,
      "outputs": []
    },
    {
      "cell_type": "code",
      "source": [
        "accuracy_plot(history_bl)"
      ],
      "metadata": {
        "colab": {
          "base_uri": "https://localhost:8080/",
          "height": 472
        },
        "id": "dWnE3BtawVmN",
        "outputId": "7eacddb0-d67e-4d25-92ee-6e5463793cd8"
      },
      "execution_count": null,
      "outputs": [
        {
          "output_type": "display_data",
          "data": {
            "text/plain": [
              "<Figure size 640x480 with 1 Axes>"
            ],
            "image/png": "[encoded data removed]"
          },
          "metadata": {}
        }
      ]
    },
    {
      "cell_type": "code",
      "source": [
        "loss_plot(history_bl)"
      ],
      "metadata": {
        "colab": {
          "base_uri": "https://localhost:8080/",
          "height": 472
        },
        "id": "bYwBNotzwVj6",
        "outputId": "a56779b9-0985-4f97-8f07-40cfb6172b01"
      },
      "execution_count": null,
      "outputs": [
        {
          "output_type": "display_data",
          "data": {
            "text/plain": [
              "<Figure size 640x480 with 1 Axes>"
            ],
            "image/png": "[encoded data removed]"
          },
          "metadata": {}
        }
      ]
    },
    {
      "cell_type": "markdown",
      "source": [
        "# 1. Number of Filters"
      ],
      "metadata": {
        "id": "_jsYmWeWNVsm"
      }
    },
    {
      "cell_type": "code",
      "source": [
        "import tensorflow as tf\n",
        "from tensorflow import keras\n",
        "from kerastuner.tuners import RandomSearch"
      ],
      "metadata": {
        "id": "LsVTi9p0wVee"
      },
      "execution_count": null,
      "outputs": []
    },
    {
      "cell_type": "code",
      "source": [
        "# Load the MNIST dataset\n",
        "(x_train_full, y_train_full), (x_test, y_test) = tf.keras.datasets.mnist.load_data()\n",
        "\n",
        "# Split the training data into training and validation sets\n",
        "validation_split = 0.2  # You can adjust this split ratio as needed\n",
        "\n",
        "# Calculate the number of samples to use for validation\n",
        "num_validation_samples = int(validation_split * len(x_train_full))\n",
        "\n",
        "# Split the training data into training and validation sets\n",
        "x_train = x_train_full[:-num_validation_samples]\n",
        "y_train = y_train_full[:-num_validation_samples]\n",
        "\n",
        "x_val = x_train_full[-num_validation_samples:]\n",
        "y_val = y_train_full[-num_validation_samples:]\n",
        "\n",
        "# Normalize the pixel values to a range of [0, 1]\n",
        "x_train = x_train.astype('float32') / 255.0\n",
        "x_val = x_val.astype('float32') / 255.0\n",
        "x_test = x_test.astype('float32') / 255.0\n",
        "\n",
        "# Reshape the data to match the input shape expected by the model\n",
        "x_train = x_train.reshape((-1, 28, 28, 1))\n",
        "x_val = x_val.reshape((-1, 28, 28, 1))\n",
        "x_test = x_test.reshape((-1, 28, 28, 1))\n"
      ],
      "metadata": {
        "id": "-HP3BE6A4Uny"
      },
      "execution_count": null,
      "outputs": []
    },
    {
      "cell_type": "code",
      "source": [
        "def build_model_filters(hp):\n",
        "    model = keras.Sequential()\n",
        "\n",
        "    # Tune the number of filters in the first convolutional layer\n",
        "    hp_filters = hp.Choice('filters', values=[4, 32, 128, 512, 2056])\n",
        "    model.add(layers.Conv2D(filters=hp_filters, kernel_size=(3, 3), activation='relu', input_shape=(28, 28, 1)))\n",
        "    model.add(layers.Flatten())\n",
        "    model.add(layers.Dense(10, activation='softmax'))\n",
        "\n",
        "    # Compile the model\n",
        "    model.compile(optimizer='adam',\n",
        "                  loss='sparse_categorical_crossentropy',\n",
        "                  metrics=['accuracy'])\n",
        "\n",
        "    return model\n"
      ],
      "metadata": {
        "id": "Y49Y4v_f4Uq5"
      },
      "execution_count": null,
      "outputs": []
    },
    {
      "cell_type": "code",
      "source": [
        "# Initialize the tuner\n",
        "tuner_filters = RandomSearch(\n",
        "    build_model_filters,\n",
        "    objective='val_accuracy',\n",
        "    max_trials=10,  # Adjust the number of trials as needed\n",
        "    directory='my_tuning_directory',\n",
        "    project_name='mnist_cnn_tuning'\n",
        ")"
      ],
      "metadata": {
        "id": "s7PXiugh4Ut6"
      },
      "execution_count": null,
      "outputs": []
    },
    {
      "cell_type": "code",
      "source": [
        "#  Search for the best hyperparameters\n",
        "tuner_filters.search(x_train, y_train_full, epochs=5, validation_split=0.2)\n"
      ],
      "metadata": {
        "colab": {
          "base_uri": "https://localhost:8080/"
        },
        "id": "ZDdBXrTZ4UxK",
        "outputId": "f4ecc8af-99bf-4bb2-f984-21a07878f4cc"
      },
      "execution_count": null,
      "outputs": [
        {
          "output_type": "stream",
          "name": "stdout",
          "text": [
            "Trial 5 Complete [00h 00m 42s]\n",
            "val_accuracy: 0.9748958349227905\n",
            "\n",
            "Best val_accuracy So Far: 0.9748958349227905\n",
            "Total elapsed time: 00h 05m 51s\n"
          ]
        }
      ]
    },
    {
      "cell_type": "code",
      "source": [
        "# Train the final model\n",
        "# Get the best hyperparameters and build the final model\n",
        "best_hps = tuner_filters.get_best_hyperparameters(num_trials=1)[0]\n",
        "best_model = build_model_filters(best_hps)\n",
        "\n",
        "# Train the final model\n",
        "best_model.fit(x_train, y_train_full, epochs=5, validation_split=0.2)\n",
        "\n"
      ],
      "metadata": {
        "colab": {
          "base_uri": "https://localhost:8080/"
        },
        "id": "GlpMXq9E4Uz0",
        "outputId": "e890b249-fbea-49a1-eead-0bcc6d02119d"
      },
      "execution_count": null,
      "outputs": [
        {
          "output_type": "stream",
          "name": "stdout",
          "text": [
            "Epoch 1/5\n",
            "1200/1200 [==============================] - 5s 3ms/step - loss: 0.2244 - accuracy: 0.9345 - val_loss: 0.1223 - val_accuracy: 0.9643\n",
            "Epoch 2/5\n",
            "1200/1200 [==============================] - 4s 4ms/step - loss: 0.0771 - accuracy: 0.9766 - val_loss: 0.0884 - val_accuracy: 0.9719\n",
            "Epoch 3/5\n",
            "1200/1200 [==============================] - 4s 3ms/step - loss: 0.0514 - accuracy: 0.9849 - val_loss: 0.0907 - val_accuracy: 0.9719\n",
            "Epoch 4/5\n",
            "1200/1200 [==============================] - 4s 3ms/step - loss: 0.0358 - accuracy: 0.9895 - val_loss: 0.0897 - val_accuracy: 0.9712\n",
            "Epoch 5/5\n",
            "1200/1200 [==============================] - 4s 4ms/step - loss: 0.0277 - accuracy: 0.9918 - val_loss: 0.0869 - val_accuracy: 0.9745\n"
          ]
        },
        {
          "output_type": "execute_result",
          "data": {
            "text/plain": [
              "<keras.callbacks.History at 0x7abb9d29d690>"
            ]
          },
          "metadata": {},
          "execution_count": 22
        }
      ]
    },
    {
      "cell_type": "code",
      "source": [
        "# Evaluate the model on the test data\n",
        "test_loss, test_acc = best_model.evaluate(x_test, y_test)\n",
        "print(\"Test accuracy:\", test_acc)"
      ],
      "metadata": {
        "colab": {
          "base_uri": "https://localhost:8080/"
        },
        "id": "GuuG0hTRwVbW",
        "outputId": "2beb80e9-bc22-4fa8-d3fe-b209d2b56dbc"
      },
      "execution_count": null,
      "outputs": [
        {
          "output_type": "stream",
          "name": "stdout",
          "text": [
            "313/313 [==============================] - 1s 3ms/step - loss: 0.0680 - accuracy: 0.9806\n",
            "Test accuracy: 0.9805999994277954\n"
          ]
        }
      ]
    },
    {
      "cell_type": "markdown",
      "source": [
        "# 2.Number of Layers"
      ],
      "metadata": {
        "id": "claf-2RS58ta"
      }
    },
    {
      "cell_type": "code",
      "source": [
        "def build_model_layers(hp):\n",
        "    model = keras.Sequential()\n",
        "\n",
        "    # Tune the number of convolutional layers\n",
        "    num_conv_layers = hp.Int('num_conv_layers', min_value=1, max_value=4, step=1)\n",
        "\n",
        "    # Add convolutional layers based on the hyperparameter\n",
        "    for i in range(num_conv_layers):\n",
        "        model.add(keras.layers.Conv2D(filters=32, kernel_size=(3, 3), activation='relu', input_shape=(28, 28, 1)))\n",
        "\n",
        "    model.add(keras.layers.Flatten())\n",
        "    model.add(keras.layers.Dense(10, activation='softmax'))\n",
        "\n",
        "    # Compile the model\n",
        "    model.compile(optimizer='adam',\n",
        "                  loss='sparse_categorical_crossentropy',\n",
        "                  metrics=['accuracy'])\n",
        "\n",
        "    return model"
      ],
      "metadata": {
        "id": "xSjiIRMZ5fBT"
      },
      "execution_count": null,
      "outputs": []
    },
    {
      "cell_type": "code",
      "source": [
        "tuner_layers = RandomSearch(\n",
        "    build_model_layers,\n",
        "    objective='val_accuracy',\n",
        "    max_trials=10,  # Adjust the number of trials as needed\n",
        "    directory='my_tuning_directory',\n",
        "    project_name='mnist_cnn_tuning'\n",
        ")"
      ],
      "metadata": {
        "id": "J8oEG4Ss7XEV"
      },
      "execution_count": null,
      "outputs": []
    },
    {
      "cell_type": "code",
      "source": [],
      "metadata": {
        "id": "Tj8HSlmRFPfv"
      },
      "execution_count": null,
      "outputs": []
    },
    {
      "cell_type": "code",
      "source": [
        "tuner_layers.search(x_train, y_train_full, epochs=5, validation_split=0.2)"
      ],
      "metadata": {
        "id": "JYyAAhlF5e-U"
      },
      "execution_count": null,
      "outputs": []
    },
    {
      "cell_type": "code",
      "source": [],
      "metadata": {
        "id": "2mRuBPy6FQDb"
      },
      "execution_count": null,
      "outputs": []
    },
    {
      "cell_type": "code",
      "source": [
        "best_hps = tuner_layers.get_best_hyperparameters(num_trials=1)[0]\n",
        "best_model = build_model_layers(best_hps)"
      ],
      "metadata": {
        "id": "P-FTUILy5e7d"
      },
      "execution_count": null,
      "outputs": []
    },
    {
      "cell_type": "code",
      "source": [
        "\n",
        "# Train the final model\n",
        "best_model.fit(x_train, y_train_full, epochs=10, validation_split=0.2)\n"
      ],
      "metadata": {
        "colab": {
          "base_uri": "https://localhost:8080/"
        },
        "id": "vWk-83KO5e4T",
        "outputId": "936a3ff0-acf0-42c2-b071-c417833edca7"
      },
      "execution_count": null,
      "outputs": [
        {
          "output_type": "stream",
          "name": "stdout",
          "text": [
            "Epoch 1/10\n",
            "1200/1200 [==============================] - 5s 3ms/step - loss: 0.2164 - accuracy: 0.9367 - val_loss: 0.1058 - val_accuracy: 0.9675\n",
            "Epoch 2/10\n",
            "1200/1200 [==============================] - 4s 3ms/step - loss: 0.0740 - accuracy: 0.9785 - val_loss: 0.0969 - val_accuracy: 0.9696\n",
            "Epoch 3/10\n",
            "1200/1200 [==============================] - 4s 3ms/step - loss: 0.0497 - accuracy: 0.9851 - val_loss: 0.0809 - val_accuracy: 0.9746\n",
            "Epoch 4/10\n",
            "1200/1200 [==============================] - 4s 3ms/step - loss: 0.0354 - accuracy: 0.9901 - val_loss: 0.0892 - val_accuracy: 0.9733\n",
            "Epoch 5/10\n",
            "1200/1200 [==============================] - 4s 3ms/step - loss: 0.0259 - accuracy: 0.9923 - val_loss: 0.0877 - val_accuracy: 0.9740\n",
            "Epoch 6/10\n",
            "1200/1200 [==============================] - 4s 3ms/step - loss: 0.0188 - accuracy: 0.9948 - val_loss: 0.0917 - val_accuracy: 0.9747\n",
            "Epoch 7/10\n",
            "1200/1200 [==============================] - 4s 4ms/step - loss: 0.0137 - accuracy: 0.9961 - val_loss: 0.0954 - val_accuracy: 0.9748\n",
            "Epoch 8/10\n",
            "1200/1200 [==============================] - 4s 3ms/step - loss: 0.0099 - accuracy: 0.9971 - val_loss: 0.0988 - val_accuracy: 0.9764\n",
            "Epoch 9/10\n",
            "1200/1200 [==============================] - 4s 3ms/step - loss: 0.0084 - accuracy: 0.9974 - val_loss: 0.1156 - val_accuracy: 0.9740\n",
            "Epoch 10/10\n",
            "1200/1200 [==============================] - 4s 4ms/step - loss: 0.0072 - accuracy: 0.9978 - val_loss: 0.1104 - val_accuracy: 0.9744\n"
          ]
        },
        {
          "output_type": "execute_result",
          "data": {
            "text/plain": [
              "<keras.callbacks.History at 0x7abb9d5fe080>"
            ]
          },
          "metadata": {},
          "execution_count": 28
        }
      ]
    },
    {
      "cell_type": "code",
      "source": [
        "\n",
        "# Train the final model\n",
        "best_model.fit(x_train, y_train_full, epochs=10, validation_split=0.2)\n"
      ],
      "metadata": {
        "colab": {
          "base_uri": "https://localhost:8080/"
        },
        "id": "LhJavki85e1U",
        "outputId": "67c3d576-e729-4fb9-905e-abebbcbc0c50"
      },
      "execution_count": null,
      "outputs": [
        {
          "output_type": "stream",
          "name": "stdout",
          "text": [
            "Epoch 1/10\n",
            "1200/1200 [==============================] - 4s 3ms/step - loss: 0.0054 - accuracy: 0.9986 - val_loss: 0.1231 - val_accuracy: 0.9740\n",
            "Epoch 2/10\n",
            "1200/1200 [==============================] - 4s 3ms/step - loss: 0.0053 - accuracy: 0.9984 - val_loss: 0.1191 - val_accuracy: 0.9756\n",
            "Epoch 3/10\n",
            "1200/1200 [==============================] - 4s 4ms/step - loss: 0.0039 - accuracy: 0.9989 - val_loss: 0.1227 - val_accuracy: 0.9755\n",
            "Epoch 4/10\n",
            "1200/1200 [==============================] - 4s 3ms/step - loss: 0.0027 - accuracy: 0.9994 - val_loss: 0.1306 - val_accuracy: 0.9741\n",
            "Epoch 5/10\n",
            "1200/1200 [==============================] - 4s 3ms/step - loss: 0.0040 - accuracy: 0.9988 - val_loss: 0.1290 - val_accuracy: 0.9753\n",
            "Epoch 6/10\n",
            "1200/1200 [==============================] - 4s 4ms/step - loss: 0.0024 - accuracy: 0.9994 - val_loss: 0.1244 - val_accuracy: 0.9777\n",
            "Epoch 7/10\n",
            "1200/1200 [==============================] - 4s 3ms/step - loss: 0.0020 - accuracy: 0.9993 - val_loss: 0.1662 - val_accuracy: 0.9736\n",
            "Epoch 8/10\n",
            "1200/1200 [==============================] - 4s 3ms/step - loss: 0.0042 - accuracy: 0.9988 - val_loss: 0.1386 - val_accuracy: 0.9759\n",
            "Epoch 9/10\n",
            "1200/1200 [==============================] - 4s 4ms/step - loss: 0.0018 - accuracy: 0.9994 - val_loss: 0.1387 - val_accuracy: 0.9758\n",
            "Epoch 10/10\n",
            "1200/1200 [==============================] - 4s 3ms/step - loss: 0.0013 - accuracy: 0.9997 - val_loss: 0.1383 - val_accuracy: 0.9777\n"
          ]
        },
        {
          "output_type": "execute_result",
          "data": {
            "text/plain": [
              "<keras.callbacks.History at 0x7abb9d5e3c70>"
            ]
          },
          "metadata": {},
          "execution_count": 29
        }
      ]
    },
    {
      "cell_type": "markdown",
      "source": [
        "# Size of filters"
      ],
      "metadata": {
        "id": "iK3znT8C8vAJ"
      }
    },
    {
      "cell_type": "code",
      "source": [
        "def build_model_kernel(hp):\n",
        "  model = keras.Sequential()\n",
        "  hp_filter_size = hp.Int('filter_size_' + str(i), min_value=3, max_value=7, step=2)\n",
        "\n",
        "  model.add(keras.layers.Conv2D(filters=16, kernel_size=(hp_filter_size, hp_filter_size), activation='relu', input_shape=(28, 28, 1)))\n",
        "  model.add(keras.layers.Conv2D(filters=16, kernel_size=(hp_filter_size, hp_filter_size), activation='relu', input_shape=(28, 28, 1)))\n",
        "\n",
        "  model.add(keras.layers.Flatten())\n",
        "  model.add(keras.layers.Dense(10, activation='softmax'))\n",
        "\n",
        "  model.compile(optimizer='adam',\n",
        "                loss='sparse_categorical_crossentropy',\n",
        "                metrics=['accuracy'])"
      ],
      "metadata": {
        "id": "gcO8FxOq5eyL"
      },
      "execution_count": null,
      "outputs": []
    },
    {
      "cell_type": "code",
      "source": [
        "tuner_kernel = RandomSearch(\n",
        "    build_model_kernel,\n",
        "    objective='val_accuracy',\n",
        "    max_trials=10,  # Adjust the number of trials as needed\n",
        "    directory='my_tuning_directory',\n",
        "    project_name='mnist_cnn_tuning'\n",
        ")"
      ],
      "metadata": {
        "id": "K6KSMh1D5esH"
      },
      "execution_count": null,
      "outputs": []
    },
    {
      "cell_type": "code",
      "source": [
        "# Search for the best hyperparameters\n",
        "tuner_kernel.search(x_train, y_train_full, epochs=5, validation_split=0.2)"
      ],
      "metadata": {
        "id": "-25FcnJm5eo0"
      },
      "execution_count": null,
      "outputs": []
    },
    {
      "cell_type": "code",
      "source": [
        "# Get the best hyperparameters and build the final model\n",
        "best_hps = tuner_kernel.get_best_hyperparameters(num_trials=1)[0]\n",
        "best_model = build_model_kernel(best_hps)"
      ],
      "metadata": {
        "id": "ivZs2fKi-ldA"
      },
      "execution_count": null,
      "outputs": []
    },
    {
      "cell_type": "markdown",
      "source": [
        "# Activation Function"
      ],
      "metadata": {
        "id": "pu4FxAY-Dj2x"
      }
    },
    {
      "cell_type": "code",
      "source": [
        "def build_model_act(hp):\n",
        "    model = keras.Sequential()\n",
        "\n",
        "    # First convolutional layer\n",
        "    model.add(keras.layers.Conv2D(filters=16, kernel_size=(3, 3),\n",
        "                                  activation=hp.Choice('activation_1', values=['relu', 'sigmoid', 'tanh']),\n",
        "                                  input_shape=(28, 28, 1)))\n",
        "\n",
        "\n",
        "    # Second convolutional layer\n",
        "    model.add(keras.layers.Conv2D(filters=16, kernel_size=(3, 3),\n",
        "                                  activation=hp.Choice('activation_2', values=['relu', 'sigmoid', 'tanh'])))\n",
        "\n",
        "    model.add(keras.layers.Flatten())\n",
        "    model.add(keras.layers.Dense(10, activation='softmax'))\n",
        "\n",
        "    # Compile the model\n",
        "    model.compile(optimizer='adam',\n",
        "                  loss='sparse_categorical_crossentropy',\n",
        "                  metrics=['accuracy'])\n",
        "\n",
        "    return model\n"
      ],
      "metadata": {
        "id": "4om5psY8yqXf"
      },
      "execution_count": null,
      "outputs": []
    },
    {
      "cell_type": "code",
      "source": [
        "# Initialize the tuner\n",
        "tuner_act = RandomSearch(\n",
        "    build_model_act,\n",
        "    objective='val_accuracy',\n",
        "    max_trials=10,  # Adjust the number of trials as needed\n",
        "    directory='my_tuning_directory',\n",
        "    project_name='mnist_cnn_tuning'\n",
        ")\n"
      ],
      "metadata": {
        "id": "Ha6lLygNyqUO"
      },
      "execution_count": null,
      "outputs": []
    },
    {
      "cell_type": "code",
      "source": [
        "tuner_act.search(x_train, y_train_full, epochs=5, validation_split=0.2)\n",
        "\n",
        "# Get the best hyperparameters and build the final model\n",
        "best_hps = tuner_act.get_best_hyperparameters(num_trials=1)[0]\n",
        "best_model = build_model_act(best_hps)"
      ],
      "metadata": {
        "colab": {
          "base_uri": "https://localhost:8080/"
        },
        "id": "Y6u1WnJiyqQL",
        "outputId": "2b743e5f-cacf-46b8-de31-04c7b4094d76"
      },
      "execution_count": null,
      "outputs": [
        {
          "output_type": "stream",
          "name": "stdout",
          "text": [
            "Trial 9 Complete [00h 00m 42s]\n",
            "val_accuracy: 0.96875\n",
            "\n",
            "Best val_accuracy So Far: 0.9785416722297668\n",
            "Total elapsed time: 00h 06m 03s\n"
          ]
        }
      ]
    },
    {
      "cell_type": "code",
      "source": [
        "history_act = best_model.fit(x_train, y_train_full, epochs=5, validation_split=0.2)"
      ],
      "metadata": {
        "colab": {
          "base_uri": "https://localhost:8080/"
        },
        "id": "lGAAubJbyqMo",
        "outputId": "35a47f4f-0b38-4437-b2d0-cff70b5e90c0"
      },
      "execution_count": null,
      "outputs": [
        {
          "output_type": "stream",
          "name": "stdout",
          "text": [
            "Epoch 1/5\n",
            "1200/1200 [==============================] - 7s 5ms/step - loss: 0.3195 - accuracy: 0.9047 - val_loss: 0.1108 - val_accuracy: 0.9647\n",
            "Epoch 2/5\n",
            "1200/1200 [==============================] - 5s 4ms/step - loss: 0.0891 - accuracy: 0.9721 - val_loss: 0.0883 - val_accuracy: 0.9743\n",
            "Epoch 3/5\n",
            "1200/1200 [==============================] - 5s 4ms/step - loss: 0.0636 - accuracy: 0.9800 - val_loss: 0.0978 - val_accuracy: 0.9711\n",
            "Epoch 4/5\n",
            "1200/1200 [==============================] - 4s 4ms/step - loss: 0.0511 - accuracy: 0.9836 - val_loss: 0.0876 - val_accuracy: 0.9762\n",
            "Epoch 5/5\n",
            "1200/1200 [==============================] - 4s 3ms/step - loss: 0.0386 - accuracy: 0.9875 - val_loss: 0.0912 - val_accuracy: 0.9735\n"
          ]
        }
      ]
    },
    {
      "cell_type": "code",
      "source": [
        "accuracy_plot(history_act)"
      ],
      "metadata": {
        "colab": {
          "base_uri": "https://localhost:8080/",
          "height": 472
        },
        "id": "ZAhF-qh5Fui0",
        "outputId": "268363d8-f71d-47df-b923-67c84ad86a78"
      },
      "execution_count": null,
      "outputs": [
        {
          "output_type": "display_data",
          "data": {
            "text/plain": [
              "<Figure size 640x480 with 1 Axes>"
            ],
            "image/png": "[encoded data removed]"
          },
          "metadata": {}
        }
      ]
    },
    {
      "cell_type": "code",
      "source": [
        "loss_plot(history_act)"
      ],
      "metadata": {
        "colab": {
          "base_uri": "https://localhost:8080/",
          "height": 472
        },
        "id": "5NwEEht9GFoQ",
        "outputId": "18ca5441-4024-4318-f821-cb0b2972fa39"
      },
      "execution_count": null,
      "outputs": [
        {
          "output_type": "display_data",
          "data": {
            "text/plain": [
              "<Figure size 640x480 with 1 Axes>"
            ],
            "image/png": "[encoded data removed]"
          },
          "metadata": {}
        }
      ]
    },
    {
      "cell_type": "code",
      "source": [
        "# Evaluate the model on the test data\n",
        "test_loss, test_acc = best_model.evaluate(x_test, y_test)\n",
        "print(\"Test accuracy:\", test_acc)"
      ],
      "metadata": {
        "colab": {
          "base_uri": "https://localhost:8080/"
        },
        "id": "RGogFm5VyqI9",
        "outputId": "c269da53-9960-4faa-c8ae-074ff7ac6f9e"
      },
      "execution_count": null,
      "outputs": [
        {
          "output_type": "stream",
          "name": "stdout",
          "text": [
            "313/313 [==============================] - 1s 3ms/step - loss: 0.0703 - accuracy: 0.9800\n",
            "Test accuracy: 0.9800000190734863\n"
          ]
        }
      ]
    },
    {
      "cell_type": "markdown",
      "source": [
        "# Filter Size Combinations"
      ],
      "metadata": {
        "id": "PjCg5it5Ejce"
      }
    },
    {
      "cell_type": "code",
      "source": [
        "def build_model_filter_size(hp):\n",
        "    model = keras.Sequential()\n",
        "\n",
        "    # First convolutional layer with 3x3 kernel size\n",
        "    model.add(keras.layers.Conv2D(filters=16, kernel_size=(3, 3),\n",
        "                                  activation='relu',\n",
        "                                  input_shape=(28, 28, 1)))\n",
        "\n",
        "    # Second convolutional layer with 5x5 kernel size\n",
        "    model.add(keras.layers.Conv2D(filters=16,\n",
        "                                  kernel_size=(5, 5),\n",
        "                                  activation='relu'))\n",
        "\n",
        "    model.add(keras.layers.Flatten())\n",
        "    model.add(keras.layers.Dense(10, activation='softmax'))\n",
        "\n",
        "    # Compile the model\n",
        "    model.compile(optimizer='adam',\n",
        "                  loss='sparse_categorical_crossentropy',\n",
        "                  metrics=['accuracy'])\n"
      ],
      "metadata": {
        "id": "LVEMLjNfyqFm"
      },
      "execution_count": null,
      "outputs": []
    },
    {
      "cell_type": "code",
      "source": [
        "# Initialize the tuner\n",
        "tuner_act = RandomSearch(\n",
        "    build_model_act,\n",
        "    objective='val_accuracy',\n",
        "    max_trials=10,  # Adjust the number of trials as needed\n",
        "    directory='my_tuning_directory',\n",
        "    project_name='mnist_cnn_tuning'\n",
        ")\n"
      ],
      "metadata": {
        "id": "UY4BHrlPyqCD"
      },
      "execution_count": null,
      "outputs": []
    },
    {
      "cell_type": "code",
      "source": [
        "tuner_act.search(x_train, y_train_full, epochs=5, validation_split=0.2)\n",
        "\n",
        "# Get the best hyperparameters and build the final model\n",
        "best_hps = tuner_act.get_best_hyperparameters(num_trials=1)[0]\n",
        "best_model = build_model_act(best_hps)"
      ],
      "metadata": {
        "id": "0eakvzI7yp95"
      },
      "execution_count": null,
      "outputs": []
    },
    {
      "cell_type": "code",
      "source": [
        "history_filter = best_model.fit(x_train, y_train_full, epochs=5, validation_split=0.2)"
      ],
      "metadata": {
        "colab": {
          "base_uri": "https://localhost:8080/"
        },
        "id": "wZ-zSfDUyp6W",
        "outputId": "6500268e-671e-429a-8ee5-b945d9a1372d"
      },
      "execution_count": null,
      "outputs": [
        {
          "output_type": "stream",
          "name": "stdout",
          "text": [
            "Epoch 1/5\n",
            "1200/1200 [==============================] - 7s 5ms/step - loss: 0.3129 - accuracy: 0.9099 - val_loss: 0.1195 - val_accuracy: 0.9634\n",
            "Epoch 2/5\n",
            "1200/1200 [==============================] - 4s 3ms/step - loss: 0.0944 - accuracy: 0.9705 - val_loss: 0.1004 - val_accuracy: 0.9693\n",
            "Epoch 3/5\n",
            "1200/1200 [==============================] - 4s 3ms/step - loss: 0.0664 - accuracy: 0.9796 - val_loss: 0.1047 - val_accuracy: 0.9682\n",
            "Epoch 4/5\n",
            "1200/1200 [==============================] - 5s 4ms/step - loss: 0.0518 - accuracy: 0.9840 - val_loss: 0.0875 - val_accuracy: 0.9740\n",
            "Epoch 5/5\n",
            "1200/1200 [==============================] - 4s 3ms/step - loss: 0.0392 - accuracy: 0.9875 - val_loss: 0.0915 - val_accuracy: 0.9739\n"
          ]
        }
      ]
    },
    {
      "cell_type": "code",
      "source": [
        "accuracy_plot(history_filter)"
      ],
      "metadata": {
        "colab": {
          "base_uri": "https://localhost:8080/",
          "height": 472
        },
        "id": "4TYF5P13yp3P",
        "outputId": "d7108727-e88f-4c2c-9a45-ba091c11abad"
      },
      "execution_count": null,
      "outputs": [
        {
          "output_type": "display_data",
          "data": {
            "text/plain": [
              "<Figure size 640x480 with 1 Axes>"
            ],
            "image/png": "[encoded data removed]"
          },
          "metadata": {}
        }
      ]
    },
    {
      "cell_type": "code",
      "source": [
        "loss_plot(history_filter)"
      ],
      "metadata": {
        "colab": {
          "base_uri": "https://localhost:8080/",
          "height": 472
        },
        "id": "4WwZoNBGypzn",
        "outputId": "47b47a8f-cd0a-42f0-e260-704af3951fbb"
      },
      "execution_count": null,
      "outputs": [
        {
          "output_type": "display_data",
          "data": {
            "text/plain": [
              "<Figure size 640x480 with 1 Axes>"
            ],
            "image/png": "[encoded data removed]"
          },
          "metadata": {}
        }
      ]
    },
    {
      "cell_type": "markdown",
      "source": [
        "## Layer Filter Combination"
      ],
      "metadata": {
        "id": "CZq8E8M4HLhg"
      }
    },
    {
      "cell_type": "code",
      "source": [
        "def build_model_layer_filter(hp):\n",
        "    model = keras.Sequential()\n",
        "\n",
        "    # Tune the number of filters for the first convolutional layer\n",
        "    hp_filters_1 = hp.Choice('filters_1', values=[16, 32, 64])\n",
        "\n",
        "    model.add(layers.Conv2D(filters=hp_filters_1, kernel_size=(3, 3), activation='relu', input_shape=(28, 28, 1)))\n",
        "\n",
        "    # Tune the number of filters for the second convolutional layer\n",
        "    hp_filters_2 = hp.Choice('filters_2', values=[32, 64, 128])\n",
        "\n",
        "    model.add(layers.Conv2D(filters=hp_filters_2, kernel_size=(3, 3), activation='relu'))\n",
        "\n",
        "    model.add(layers.Flatten())\n",
        "    model.add(layers.Dense(128, activation='relu'))\n",
        "    model.add(layers.Dense(10, activation='softmax'))\n",
        "\n",
        "    # Compile the model\n",
        "    model.compile(optimizer='adam',\n",
        "                  loss='sparse_categorical_crossentropy',\n",
        "                  metrics=['accuracy'])\n",
        "\n",
        "    return model\n"
      ],
      "metadata": {
        "id": "PWc3a8V4HMgc"
      },
      "execution_count": null,
      "outputs": []
    },
    {
      "cell_type": "code",
      "source": [
        "# Initialize the tuner\n",
        "tuner_layer_filter = RandomSearch(\n",
        "    build_model_layer_filter,\n",
        "    objective='val_accuracy',\n",
        "    max_trials=10,  # Adjust the number of trials as needed\n",
        "    directory='my_tuning_directory',\n",
        "    project_name='mnist_cnn_tuning'\n",
        ")\n"
      ],
      "metadata": {
        "id": "SHxFzGuxHMeA"
      },
      "execution_count": null,
      "outputs": []
    },
    {
      "cell_type": "code",
      "source": [
        "tuner_layer_filter.search(x_train, y_train_full, epochs=5, validation_split=0.2)\n",
        "\n",
        "# Get the best hyperparameters and build the final model\n",
        "best_hps = tuner_layer_filter.get_best_hyperparameters(num_trials=1)[0]\n",
        "best_model = build_model_layer_filter(best_hps)"
      ],
      "metadata": {
        "id": "KN5TMWPxHMaj"
      },
      "execution_count": null,
      "outputs": []
    },
    {
      "cell_type": "code",
      "source": [
        "history_layer = best_model.fit(x_train, y_train_full, epochs=5, validation_split=0.2)"
      ],
      "metadata": {
        "colab": {
          "base_uri": "https://localhost:8080/"
        },
        "id": "zD4hMfEDHMVT",
        "outputId": "0a0ee49d-6c89-4b23-ed6b-e6fd1fe500a5"
      },
      "execution_count": null,
      "outputs": [
        {
          "output_type": "stream",
          "name": "stdout",
          "text": [
            "Epoch 1/5\n",
            "1200/1200 [==============================] - 7s 5ms/step - loss: 0.7129 - accuracy: 0.9417 - val_loss: 0.1342 - val_accuracy: 0.9602\n",
            "Epoch 2/5\n",
            "1200/1200 [==============================] - 5s 4ms/step - loss: 0.0567 - accuracy: 0.9834 - val_loss: 0.1181 - val_accuracy: 0.9698\n",
            "Epoch 3/5\n",
            "1200/1200 [==============================] - 7s 6ms/step - loss: 0.0408 - accuracy: 0.9869 - val_loss: 0.1544 - val_accuracy: 0.9628\n",
            "Epoch 4/5\n",
            "1200/1200 [==============================] - 4s 4ms/step - loss: 0.0339 - accuracy: 0.9890 - val_loss: 0.1077 - val_accuracy: 0.9760\n",
            "Epoch 5/5\n",
            "1200/1200 [==============================] - 5s 4ms/step - loss: 0.0297 - accuracy: 0.9907 - val_loss: 0.1400 - val_accuracy: 0.9722\n"
          ]
        }
      ]
    },
    {
      "cell_type": "code",
      "source": [
        "accuracy_plot(history_layer)"
      ],
      "metadata": {
        "colab": {
          "base_uri": "https://localhost:8080/",
          "height": 472
        },
        "id": "oEUSWsxLHMSZ",
        "outputId": "1a4a400f-c60a-4234-9ccc-6a55a02d060e"
      },
      "execution_count": null,
      "outputs": [
        {
          "output_type": "display_data",
          "data": {
            "text/plain": [
              "<Figure size 640x480 with 1 Axes>"
            ],
            "image/png": "[encoded data removed]"
          },
          "metadata": {}
        }
      ]
    },
    {
      "cell_type": "code",
      "source": [
        "loss_plot(history_layer)"
      ],
      "metadata": {
        "colab": {
          "base_uri": "https://localhost:8080/",
          "height": 472
        },
        "id": "nubjLtYoypwh",
        "outputId": "494fee99-1a88-439b-c247-3f2da030d36b"
      },
      "execution_count": null,
      "outputs": [
        {
          "output_type": "display_data",
          "data": {
            "text/plain": [
              "<Figure size 640x480 with 1 Axes>"
            ],
            "image/png": "[encoded data removed]"
          },
          "metadata": {}
        }
      ]
    },
    {
      "cell_type": "markdown",
      "source": [
        "Influence of Striding"
      ],
      "metadata": {
        "id": "AggrBVf-K920"
      }
    },
    {
      "cell_type": "code",
      "source": [
        "def build_model_stride(hp):\n",
        "    model = keras.Sequential([\n",
        "        keras.layers.Conv2D(\n",
        "            filters=hp.Int('filters', min_value=16, max_value=64, step=16),\n",
        "            kernel_size=hp.Choice('kernel_size', values=[(5, 5), (7, 7)]),\n",
        "            activation='relu',\n",
        "            input_shape=(28, 28, 1)\n",
        "        ),\n",
        "        keras.layers.Flatten(),\n",
        "        keras.layers.Dense(10, activation='softmax')\n",
        "    ])\n",
        "\n",
        "    model.compile(optimizer='adam',\n",
        "                  loss='sparse_categorical_crossentropy',\n",
        "                  metrics=['accuracy'])\n",
        "\n",
        "    return model"
      ],
      "metadata": {
        "id": "M6pZZ6jhJU8_"
      },
      "execution_count": null,
      "outputs": []
    },
    {
      "cell_type": "code",
      "source": [
        "tuner_stride = RandomSearch(\n",
        "    build_model_stride,\n",
        "    objective='val_accuracy',\n",
        "    max_trials=10,  # Adjust the number of trials as needed\n",
        "    directory='my_tuning_directory',\n",
        "    project_name='mnist_cnn_tuning'\n",
        ")"
      ],
      "metadata": {
        "id": "b6AIr4AWJU5F"
      },
      "execution_count": null,
      "outputs": []
    },
    {
      "cell_type": "code",
      "source": [
        "tuner_stride.search(x_train, y_train_full, epochs=5, validation_split=0.2)\n",
        "\n",
        "# Get the best hyperparameters and build the final model\n",
        "best_hps = tuner_stride.get_best_hyperparameters(num_trials=1)[0]\n",
        "best_model = build_model_stride(best_hps)"
      ],
      "metadata": {
        "id": "fJzkfYmDJU2O"
      },
      "execution_count": null,
      "outputs": []
    },
    {
      "cell_type": "markdown",
      "source": [
        "#Padding"
      ],
      "metadata": {
        "id": "DowhgqC9MPBY"
      }
    },
    {
      "cell_type": "code",
      "source": [
        "# Define a model builder function\n",
        "def build_model_pad(use_padding, filter_size):\n",
        "    model = keras.Sequential()\n",
        "\n",
        "    # Set padding\n",
        "    padding = 'valid' if not use_padding else 'same'\n",
        "\n",
        "    # First convolutional layer\n",
        "    model.add(keras.layers.Conv2D(32, (filter_size, filter_size), activation='relu', padding=padding, input_shape=(28, 28, 1)))\n",
        "\n",
        "    # Second convolutional layer\n",
        "    model.add(keras.layers.Conv2D(32, (filter_size, filter_size), activation='relu', padding=padding))\n",
        "\n",
        "    model.add(keras.layers.Flatten())\n",
        "    model.add(keras.layers.Dense(10, activation='softmax'))\n",
        "\n",
        "    # Compile the model\n",
        "    model.compile(optimizer='adam',\n",
        "                  loss='sparse_categorical_crossentropy',\n",
        "                  metrics=['accuracy'])\n",
        "\n",
        "    return model"
      ],
      "metadata": {
        "id": "Byzu1_XPJUv2"
      },
      "execution_count": null,
      "outputs": []
    },
    {
      "cell_type": "code",
      "source": [
        "# Run the model without padding and with 3x3 filter size\n",
        "model_no_padding_3x3 = build_model_pad(use_padding=False, filter_size=3)\n",
        "\n",
        "# Train the model for five epochs\n",
        "model_no_padding_3x3.fit(x_train, y_train_full, epochs=5, validation_split=0.2)\n",
        "\n",
        "# Evaluate the model on the test data\n",
        "test_loss, test_acc = model_no_padding_3x3.evaluate(x_test, y_test)\n",
        "print(\"Test accuracy (no padding, 3x3 filter size):\", test_acc)"
      ],
      "metadata": {
        "colab": {
          "base_uri": "https://localhost:8080/"
        },
        "id": "9TAL3AVIMZHv",
        "outputId": "3c4bc773-6c02-439f-89b7-429180c2648a"
      },
      "execution_count": null,
      "outputs": [
        {
          "output_type": "stream",
          "name": "stdout",
          "text": [
            "Epoch 1/5\n",
            "1200/1200 [==============================] - 7s 4ms/step - loss: 0.3791 - accuracy: 0.9382 - val_loss: 0.1234 - val_accuracy: 0.9630\n",
            "Epoch 2/5\n",
            "1200/1200 [==============================] - 5s 4ms/step - loss: 0.0784 - accuracy: 0.9767 - val_loss: 0.1230 - val_accuracy: 0.9682\n",
            "Epoch 3/5\n",
            "1200/1200 [==============================] - 4s 4ms/step - loss: 0.0543 - accuracy: 0.9837 - val_loss: 0.1193 - val_accuracy: 0.9707\n",
            "Epoch 4/5\n",
            "1200/1200 [==============================] - 5s 4ms/step - loss: 0.0410 - accuracy: 0.9874 - val_loss: 0.1465 - val_accuracy: 0.9654\n",
            "Epoch 5/5\n",
            "1200/1200 [==============================] - 4s 4ms/step - loss: 0.0371 - accuracy: 0.9886 - val_loss: 0.1651 - val_accuracy: 0.9667\n",
            "313/313 [==============================] - 1s 3ms/step - loss: 0.1131 - accuracy: 0.9735\n",
            "Test accuracy (no padding, 3x3 filter size): 0.9735000133514404\n"
          ]
        }
      ]
    },
    {
      "cell_type": "code",
      "source": [
        "\n",
        "# Run the model with padding and with 3x3 filter size\n",
        "model_padding_3x3 = build_model_pad(use_padding=True, filter_size=3)\n",
        "\n",
        "# Train the model for five epochs\n",
        "model_padding_3x3.fit(x_train, y_train_full, epochs=5, validation_split=0.2)\n",
        "\n",
        "# Evaluate the model on the test data\n",
        "test_loss, test_acc = model_padding_3x3.evaluate(x_test, y_test)\n",
        "print(\"Test accuracy (padding, 3x3 filter size):\", test_acc)"
      ],
      "metadata": {
        "colab": {
          "base_uri": "https://localhost:8080/"
        },
        "id": "-KivhokAMT_n",
        "outputId": "1c4c996e-59b7-425e-e4af-2e93d18e664e"
      },
      "execution_count": null,
      "outputs": [
        {
          "output_type": "stream",
          "name": "stdout",
          "text": [
            "Epoch 1/5\n",
            "1200/1200 [==============================] - 7s 5ms/step - loss: 0.3106 - accuracy: 0.9450 - val_loss: 0.1156 - val_accuracy: 0.9671\n",
            "Epoch 2/5\n",
            "1200/1200 [==============================] - 4s 3ms/step - loss: 0.0640 - accuracy: 0.9808 - val_loss: 0.1340 - val_accuracy: 0.9656\n",
            "Epoch 3/5\n",
            "1200/1200 [==============================] - 4s 4ms/step - loss: 0.0420 - accuracy: 0.9867 - val_loss: 0.1405 - val_accuracy: 0.9671\n",
            "Epoch 4/5\n",
            "1200/1200 [==============================] - 5s 4ms/step - loss: 0.0347 - accuracy: 0.9895 - val_loss: 0.1414 - val_accuracy: 0.9693\n",
            "Epoch 5/5\n",
            "1200/1200 [==============================] - 4s 3ms/step - loss: 0.0271 - accuracy: 0.9919 - val_loss: 0.1918 - val_accuracy: 0.9688\n",
            "313/313 [==============================] - 1s 3ms/step - loss: 0.1582 - accuracy: 0.9720\n",
            "Test accuracy (padding, 3x3 filter size): 0.972000002861023\n"
          ]
        }
      ]
    },
    {
      "cell_type": "code",
      "source": [
        "# Run the model with padding and with 5x5 filter size\n",
        "model_padding_5x5 = build_model_pad(use_padding=True, filter_size=5)\n",
        "\n",
        "# Train the model for five epochs\n",
        "model_padding_5x5.fit(x_train, y_train_full, epochs=5, validation_split=0.2)\n",
        "\n",
        "# Evaluate the model on the test data\n",
        "test_loss, test_acc = model_padding_5x5.evaluate(x_test, y_test)\n",
        "print(\"Test accuracy (padding, 5x5 filter size):\", test_acc)"
      ],
      "metadata": {
        "colab": {
          "base_uri": "https://localhost:8080/"
        },
        "id": "t4FYgRzRMT9K",
        "outputId": "b1e4c6e7-4c3c-4ec5-8aad-85fd32a54e05"
      },
      "execution_count": null,
      "outputs": [
        {
          "output_type": "stream",
          "name": "stdout",
          "text": [
            "Epoch 1/5\n",
            "1200/1200 [==============================] - 6s 4ms/step - loss: 0.3225 - accuracy: 0.9436 - val_loss: 0.1193 - val_accuracy: 0.9643\n",
            "Epoch 2/5\n",
            "1200/1200 [==============================] - 5s 4ms/step - loss: 0.0757 - accuracy: 0.9776 - val_loss: 0.1216 - val_accuracy: 0.9656\n",
            "Epoch 3/5\n",
            "1200/1200 [==============================] - 4s 4ms/step - loss: 0.0596 - accuracy: 0.9814 - val_loss: 0.1329 - val_accuracy: 0.9684\n",
            "Epoch 4/5\n",
            "1200/1200 [==============================] - 8s 6ms/step - loss: 0.0509 - accuracy: 0.9849 - val_loss: 0.1628 - val_accuracy: 0.9645\n",
            "Epoch 5/5\n",
            "1200/1200 [==============================] - 5s 4ms/step - loss: 0.0460 - accuracy: 0.9872 - val_loss: 0.2168 - val_accuracy: 0.9597\n",
            "313/313 [==============================] - 1s 3ms/step - loss: 0.1815 - accuracy: 0.9649\n",
            "Test accuracy (padding, 5x5 filter size): 0.964900016784668\n"
          ]
        }
      ]
    },
    {
      "cell_type": "code",
      "source": [
        "# Run the model with padding and with 7x7 filter size\n",
        "model_padding_7x7 = build_model_pad(use_padding=True, filter_size=7)\n",
        "\n",
        "# Train the model for five epochs\n",
        "model_padding_7x7.fit(x_train, y_train_full, epochs=5, validation_split=0.2)\n",
        "\n",
        "# Evaluate the model on the test data\n",
        "test_loss, test_acc = model_padding_7x7.evaluate(x_test, y_test)\n",
        "print(\"Test accuracy (padding, 7x7 filter size):\", test_acc)\n"
      ],
      "metadata": {
        "colab": {
          "base_uri": "https://localhost:8080/"
        },
        "id": "d-jLfEyAMT6T",
        "outputId": "2ecfd902-255b-4467-bc8e-ae365b5befec"
      },
      "execution_count": null,
      "outputs": [
        {
          "output_type": "stream",
          "name": "stdout",
          "text": [
            "Epoch 1/5\n",
            "1200/1200 [==============================] - 12s 7ms/step - loss: 0.3496 - accuracy: 0.9382 - val_loss: 0.1043 - val_accuracy: 0.9658\n",
            "Epoch 2/5\n",
            "1200/1200 [==============================] - 6s 5ms/step - loss: 0.0904 - accuracy: 0.9730 - val_loss: 0.1116 - val_accuracy: 0.9692\n",
            "Epoch 3/5\n",
            "1200/1200 [==============================] - 6s 5ms/step - loss: 0.0730 - accuracy: 0.9787 - val_loss: 0.1252 - val_accuracy: 0.9688\n",
            "Epoch 4/5\n",
            "1200/1200 [==============================] - 7s 5ms/step - loss: 0.0580 - accuracy: 0.9832 - val_loss: 0.1259 - val_accuracy: 0.9690\n",
            "Epoch 5/5\n",
            "1200/1200 [==============================] - 6s 5ms/step - loss: 0.0605 - accuracy: 0.9839 - val_loss: 0.1652 - val_accuracy: 0.9670\n",
            "313/313 [==============================] - 1s 3ms/step - loss: 0.1480 - accuracy: 0.9707\n",
            "Test accuracy (padding, 7x7 filter size): 0.9707000255584717\n"
          ]
        }
      ]
    },
    {
      "cell_type": "markdown",
      "source": [
        "#Influence of Pooling"
      ],
      "metadata": {
        "id": "q23iToSRM_6f"
      }
    },
    {
      "cell_type": "code",
      "source": [
        "# Define a model builder function\n",
        "def build_model_pool(pooling_size):\n",
        "    model = keras.Sequential()\n",
        "\n",
        "    # First convolutional layer\n",
        "    model.add(keras.layers.Conv2D(32, (3, 3), activation='relu', input_shape=(28, 28, 1)))\n",
        "\n",
        "    # Max-pooling layer with specified pooling size\n",
        "    model.add(keras.layers.MaxPooling2D(pool_size=(pooling_size, pooling_size)))\n",
        "\n",
        "    # Second convolutional layer\n",
        "    model.add(keras.layers.Conv2D(32, (3, 3), activation='relu'))\n",
        "\n",
        "    # Max-pooling layer with the same pooling size as the first one\n",
        "    model.add(keras.layers.MaxPooling2D(pool_size=(pooling_size, pooling_size)))\n",
        "\n",
        "    model.add(keras.layers.Flatten())\n",
        "    model.add(keras.layers.Dense(10, activation='softmax'))\n",
        "\n",
        "    # Compile the model\n",
        "    model.compile(optimizer='adam',\n",
        "                  loss='sparse_categorical_crossentropy',\n",
        "                  metrics=['accuracy'])\n",
        "\n",
        "    return model"
      ],
      "metadata": {
        "id": "YhInTipDMT3G"
      },
      "execution_count": null,
      "outputs": []
    },
    {
      "cell_type": "code",
      "source": [
        "# Define a list of pooling sizes to test\n",
        "pooling_sizes = [2, 3, 5, 7]\n",
        "\n",
        "# Train and evaluate models with different pooling sizes\n",
        "for pooling_size in pooling_sizes:\n",
        "    model = build_model_pool(pooling_size)\n",
        "\n",
        "    # Train the model for 5 epochs\n",
        "    model.fit(x_train, y_train_full, epochs=5, validation_split=0.2)\n",
        "\n",
        "    # Evaluate the model on the test data\n",
        "    test_loss, test_acc = model.evaluate(x_test, y_test)\n",
        "    print(f\"Test accuracy (pooling size {pooling_size}x{pooling_size}): {test_acc}\")"
      ],
      "metadata": {
        "colab": {
          "base_uri": "https://localhost:8080/",
          "height": 1000
        },
        "id": "TwBMkxdSNFl0",
        "outputId": "d43bec03-c252-493e-fe32-ee4ea071b822"
      },
      "execution_count": null,
      "outputs": [
        {
          "output_type": "stream",
          "name": "stdout",
          "text": [
            "Epoch 1/5\n",
            "1200/1200 [==============================] - 5s 4ms/step - loss: 0.6692 - accuracy: 0.9072 - val_loss: 0.1135 - val_accuracy: 0.9683\n",
            "Epoch 2/5\n",
            "1200/1200 [==============================] - 5s 4ms/step - loss: 0.0946 - accuracy: 0.9721 - val_loss: 0.1276 - val_accuracy: 0.9635\n",
            "Epoch 3/5\n",
            "1200/1200 [==============================] - 4s 4ms/step - loss: 0.0721 - accuracy: 0.9779 - val_loss: 0.0929 - val_accuracy: 0.9744\n",
            "Epoch 4/5\n",
            "1200/1200 [==============================] - 4s 3ms/step - loss: 0.0590 - accuracy: 0.9822 - val_loss: 0.0890 - val_accuracy: 0.9757\n",
            "Epoch 5/5\n",
            "1200/1200 [==============================] - 5s 4ms/step - loss: 0.0517 - accuracy: 0.9840 - val_loss: 0.0970 - val_accuracy: 0.9746\n",
            "313/313 [==============================] - 1s 2ms/step - loss: 0.0817 - accuracy: 0.9789\n",
            "Test accuracy (pooling size 2x2): 0.9789000153541565\n",
            "Epoch 1/5\n",
            "1200/1200 [==============================] - 5s 4ms/step - loss: 1.3239 - accuracy: 0.8466 - val_loss: 0.2694 - val_accuracy: 0.9317\n",
            "Epoch 2/5\n",
            "1200/1200 [==============================] - 5s 4ms/step - loss: 0.2032 - accuracy: 0.9468 - val_loss: 0.2066 - val_accuracy: 0.9428\n",
            "Epoch 3/5\n",
            "1200/1200 [==============================] - 4s 3ms/step - loss: 0.1285 - accuracy: 0.9638 - val_loss: 0.1169 - val_accuracy: 0.9648\n",
            "Epoch 4/5\n",
            "1200/1200 [==============================] - 4s 3ms/step - loss: 0.0936 - accuracy: 0.9727 - val_loss: 0.1373 - val_accuracy: 0.9599\n",
            "Epoch 5/5\n",
            "1200/1200 [==============================] - 5s 4ms/step - loss: 0.0773 - accuracy: 0.9764 - val_loss: 0.0962 - val_accuracy: 0.9723\n",
            "313/313 [==============================] - 1s 2ms/step - loss: 0.0760 - accuracy: 0.9772\n",
            "Test accuracy (pooling size 3x3): 0.9771999716758728\n"
          ]
        },
        {
          "output_type": "error",
          "ename": "ValueError",
          "evalue": "ignored",
          "traceback": [
            "\u001b[0;31m---------------------------------------------------------------------------\u001b[0m",
            "\u001b[0;31mValueError\u001b[0m                                Traceback (most recent call last)",
            "\u001b[0;32m<ipython-input-47-1d8de7d45547>\u001b[0m in \u001b[0;36m<cell line: 5>\u001b[0;34m()\u001b[0m\n\u001b[1;32m      4\u001b[0m \u001b[0;31m# Train and evaluate models with different pooling sizes\u001b[0m\u001b[0;34m\u001b[0m\u001b[0;34m\u001b[0m\u001b[0m\n\u001b[1;32m      5\u001b[0m \u001b[0;32mfor\u001b[0m \u001b[0mpooling_size\u001b[0m \u001b[0;32min\u001b[0m \u001b[0mpooling_sizes\u001b[0m\u001b[0;34m:\u001b[0m\u001b[0;34m\u001b[0m\u001b[0;34m\u001b[0m\u001b[0m\n\u001b[0;32m----> 6\u001b[0;31m     \u001b[0mmodel\u001b[0m \u001b[0;34m=\u001b[0m \u001b[0mbuild_model_pool\u001b[0m\u001b[0;34m(\u001b[0m\u001b[0mpooling_size\u001b[0m\u001b[0;34m)\u001b[0m\u001b[0;34m\u001b[0m\u001b[0;34m\u001b[0m\u001b[0m\n\u001b[0m\u001b[1;32m      7\u001b[0m \u001b[0;34m\u001b[0m\u001b[0m\n\u001b[1;32m      8\u001b[0m     \u001b[0;31m# Train the model for 5 epochs\u001b[0m\u001b[0;34m\u001b[0m\u001b[0;34m\u001b[0m\u001b[0m\n",
            "\u001b[0;32m<ipython-input-45-ee73519f6103>\u001b[0m in \u001b[0;36mbuild_model_pool\u001b[0;34m(pooling_size)\u001b[0m\n\u001b[1;32m     13\u001b[0m \u001b[0;34m\u001b[0m\u001b[0m\n\u001b[1;32m     14\u001b[0m     \u001b[0;31m# Max-pooling layer with the same pooling size as the first one\u001b[0m\u001b[0;34m\u001b[0m\u001b[0;34m\u001b[0m\u001b[0m\n\u001b[0;32m---> 15\u001b[0;31m     \u001b[0mmodel\u001b[0m\u001b[0;34m.\u001b[0m\u001b[0madd\u001b[0m\u001b[0;34m(\u001b[0m\u001b[0mkeras\u001b[0m\u001b[0;34m.\u001b[0m\u001b[0mlayers\u001b[0m\u001b[0;34m.\u001b[0m\u001b[0mMaxPooling2D\u001b[0m\u001b[0;34m(\u001b[0m\u001b[0mpool_size\u001b[0m\u001b[0;34m=\u001b[0m\u001b[0;34m(\u001b[0m\u001b[0mpooling_size\u001b[0m\u001b[0;34m,\u001b[0m \u001b[0mpooling_size\u001b[0m\u001b[0;34m)\u001b[0m\u001b[0;34m)\u001b[0m\u001b[0;34m)\u001b[0m\u001b[0;34m\u001b[0m\u001b[0;34m\u001b[0m\u001b[0m\n\u001b[0m\u001b[1;32m     16\u001b[0m \u001b[0;34m\u001b[0m\u001b[0m\n\u001b[1;32m     17\u001b[0m     \u001b[0mmodel\u001b[0m\u001b[0;34m.\u001b[0m\u001b[0madd\u001b[0m\u001b[0;34m(\u001b[0m\u001b[0mkeras\u001b[0m\u001b[0;34m.\u001b[0m\u001b[0mlayers\u001b[0m\u001b[0;34m.\u001b[0m\u001b[0mFlatten\u001b[0m\u001b[0;34m(\u001b[0m\u001b[0;34m)\u001b[0m\u001b[0;34m)\u001b[0m\u001b[0;34m\u001b[0m\u001b[0;34m\u001b[0m\u001b[0m\n",
            "\u001b[0;32m/usr/local/lib/python3.10/dist-packages/tensorflow/python/trackable/base.py\u001b[0m in \u001b[0;36m_method_wrapper\u001b[0;34m(self, *args, **kwargs)\u001b[0m\n\u001b[1;32m    203\u001b[0m     \u001b[0mself\u001b[0m\u001b[0;34m.\u001b[0m\u001b[0m_self_setattr_tracking\u001b[0m \u001b[0;34m=\u001b[0m \u001b[0;32mFalse\u001b[0m  \u001b[0;31m# pylint: disable=protected-access\u001b[0m\u001b[0;34m\u001b[0m\u001b[0;34m\u001b[0m\u001b[0m\n\u001b[1;32m    204\u001b[0m     \u001b[0;32mtry\u001b[0m\u001b[0;34m:\u001b[0m\u001b[0;34m\u001b[0m\u001b[0;34m\u001b[0m\u001b[0m\n\u001b[0;32m--> 205\u001b[0;31m       \u001b[0mresult\u001b[0m \u001b[0;34m=\u001b[0m \u001b[0mmethod\u001b[0m\u001b[0;34m(\u001b[0m\u001b[0mself\u001b[0m\u001b[0;34m,\u001b[0m \u001b[0;34m*\u001b[0m\u001b[0margs\u001b[0m\u001b[0;34m,\u001b[0m \u001b[0;34m**\u001b[0m\u001b[0mkwargs\u001b[0m\u001b[0;34m)\u001b[0m\u001b[0;34m\u001b[0m\u001b[0;34m\u001b[0m\u001b[0m\n\u001b[0m\u001b[1;32m    206\u001b[0m     \u001b[0;32mfinally\u001b[0m\u001b[0;34m:\u001b[0m\u001b[0;34m\u001b[0m\u001b[0;34m\u001b[0m\u001b[0m\n\u001b[1;32m    207\u001b[0m       \u001b[0mself\u001b[0m\u001b[0;34m.\u001b[0m\u001b[0m_self_setattr_tracking\u001b[0m \u001b[0;34m=\u001b[0m \u001b[0mprevious_value\u001b[0m  \u001b[0;31m# pylint: disable=protected-access\u001b[0m\u001b[0;34m\u001b[0m\u001b[0;34m\u001b[0m\u001b[0m\n",
            "\u001b[0;32m/usr/local/lib/python3.10/dist-packages/keras/utils/traceback_utils.py\u001b[0m in \u001b[0;36merror_handler\u001b[0;34m(*args, **kwargs)\u001b[0m\n\u001b[1;32m     68\u001b[0m             \u001b[0;31m# To get the full stack trace, call:\u001b[0m\u001b[0;34m\u001b[0m\u001b[0;34m\u001b[0m\u001b[0m\n\u001b[1;32m     69\u001b[0m             \u001b[0;31m# `tf.debugging.disable_traceback_filtering()`\u001b[0m\u001b[0;34m\u001b[0m\u001b[0;34m\u001b[0m\u001b[0m\n\u001b[0;32m---> 70\u001b[0;31m             \u001b[0;32mraise\u001b[0m \u001b[0me\u001b[0m\u001b[0;34m.\u001b[0m\u001b[0mwith_traceback\u001b[0m\u001b[0;34m(\u001b[0m\u001b[0mfiltered_tb\u001b[0m\u001b[0;34m)\u001b[0m \u001b[0;32mfrom\u001b[0m \u001b[0;32mNone\u001b[0m\u001b[0;34m\u001b[0m\u001b[0;34m\u001b[0m\u001b[0m\n\u001b[0m\u001b[1;32m     71\u001b[0m         \u001b[0;32mfinally\u001b[0m\u001b[0;34m:\u001b[0m\u001b[0;34m\u001b[0m\u001b[0;34m\u001b[0m\u001b[0m\n\u001b[1;32m     72\u001b[0m             \u001b[0;32mdel\u001b[0m \u001b[0mfiltered_tb\u001b[0m\u001b[0;34m\u001b[0m\u001b[0;34m\u001b[0m\u001b[0m\n",
            "\u001b[0;32m/usr/local/lib/python3.10/dist-packages/tensorflow/python/framework/ops.py\u001b[0m in \u001b[0;36m_create_c_op\u001b[0;34m(graph, node_def, inputs, control_inputs, op_def, extract_traceback)\u001b[0m\n\u001b[1;32m   1971\u001b[0m   \u001b[0;32mexcept\u001b[0m \u001b[0merrors\u001b[0m\u001b[0;34m.\u001b[0m\u001b[0mInvalidArgumentError\u001b[0m \u001b[0;32mas\u001b[0m \u001b[0me\u001b[0m\u001b[0;34m:\u001b[0m\u001b[0;34m\u001b[0m\u001b[0;34m\u001b[0m\u001b[0m\n\u001b[1;32m   1972\u001b[0m     \u001b[0;31m# Convert to ValueError for backwards compatibility.\u001b[0m\u001b[0;34m\u001b[0m\u001b[0;34m\u001b[0m\u001b[0m\n\u001b[0;32m-> 1973\u001b[0;31m     \u001b[0;32mraise\u001b[0m \u001b[0mValueError\u001b[0m\u001b[0;34m(\u001b[0m\u001b[0me\u001b[0m\u001b[0;34m.\u001b[0m\u001b[0mmessage\u001b[0m\u001b[0;34m)\u001b[0m\u001b[0;34m\u001b[0m\u001b[0;34m\u001b[0m\u001b[0m\n\u001b[0m\u001b[1;32m   1974\u001b[0m \u001b[0;34m\u001b[0m\u001b[0m\n\u001b[1;32m   1975\u001b[0m   \u001b[0;31m# Record the current Python stack trace as the creating stacktrace of this\u001b[0m\u001b[0;34m\u001b[0m\u001b[0;34m\u001b[0m\u001b[0m\n",
            "\u001b[0;31mValueError\u001b[0m: Exception encountered when calling layer \"max_pooling2d_11\" (type MaxPooling2D).\n\nNegative dimension size caused by subtracting 5 from 3 for '{{node max_pooling2d_11/MaxPool}} = MaxPool[T=DT_FLOAT, data_format=\"NHWC\", explicit_paddings=[], ksize=[1, 5, 5, 1], padding=\"VALID\", strides=[1, 5, 5, 1]](Placeholder)' with input shapes: [?,3,3,32].\n\nCall arguments received by layer \"max_pooling2d_11\" (type MaxPooling2D):\n  • inputs=tf.Tensor(shape=(None, 3, 3, 32), dtype=float32)"
          ]
        }
      ]
    },
    {
      "cell_type": "code",
      "source": [],
      "metadata": {
        "id": "yfQYmbVxNFgS"
      },
      "execution_count": null,
      "outputs": []
    },
    {
      "cell_type": "code",
      "source": [],
      "metadata": {
        "id": "YZTOQtAQNFZz"
      },
      "execution_count": null,
      "outputs": []
    },
    {
      "cell_type": "code",
      "source": [],
      "metadata": {
        "id": "Obc8s_v_NFWy"
      },
      "execution_count": null,
      "outputs": []
    },
    {
      "cell_type": "code",
      "source": [],
      "metadata": {
        "id": "K79iFTPxNFTV"
      },
      "execution_count": null,
      "outputs": []
    },
    {
      "cell_type": "code",
      "source": [],
      "metadata": {
        "id": "wyzrQqhSMTz6"
      },
      "execution_count": null,
      "outputs": []
    },
    {
      "cell_type": "code",
      "source": [],
      "metadata": {
        "id": "gk1r5TlJypsi"
      },
      "execution_count": null,
      "outputs": []
    },
    {
      "cell_type": "code",
      "source": [],
      "metadata": {
        "id": "HVJgFLkNypoc"
      },
      "execution_count": null,
      "outputs": []
    }
  ]
}