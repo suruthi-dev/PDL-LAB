{
  "cells": [
    {
      "cell_type": "code",
      "execution_count": null,
      "metadata": {
        "id": "-jcnh-3_8scK"
      },
      "outputs": [],
      "source": [
        "import numpy as np"
      ]
    },
    {
      "cell_type": "code",
      "execution_count": null,
      "metadata": {
        "id": "LQrnbLZ78scM"
      },
      "outputs": [],
      "source": [
        "def logic_gate(w1, w2, b):\n",
        "    sigmoid = lambda x : 1/(1+np.exp(-x))\n",
        "    return lambda x1, x2: sigmoid(w1 * x1 + w2 * x2 + b)"
      ]
    },
    {
      "cell_type": "code",
      "execution_count": null,
      "metadata": {
        "id": "OW8W4Ml38scM"
      },
      "outputs": [],
      "source": [
        "def test(gate):\n",
        "    for a, b in (0, 0), (0, 1), (1, 0), (1, 1):\n",
        "        print(\"{} , {} : {}\".format(a, b, np.round(gate(a,b))))"
      ]
    },
    {
      "cell_type": "raw",
      "metadata": {
        "id": "h2j-jETh8scN"
      },
      "source": [
        "Internal Working\n",
        "\n",
        "gate = logic_gate(1,1,-0.5)\n",
        "np.round(gate(1,0))"
      ]
    },
    {
      "cell_type": "code",
      "execution_count": null,
      "metadata": {
        "colab": {
          "base_uri": "https://localhost:8080/"
        },
        "id": "eke4j50G8scN",
        "outputId": "832290e6-d721-4e96-8847-286ec1b86185"
      },
      "outputs": [
        {
          "output_type": "stream",
          "name": "stdout",
          "text": [
            "0 , 0 : 0.0\n",
            "0 , 1 : 1.0\n",
            "1 , 0 : 1.0\n",
            "1 , 1 : 1.0\n"
          ]
        }
      ],
      "source": [
        "or_gate = logic_gate(20, 20, -10)\n",
        "test(or_gate)"
      ]
    },
    {
      "cell_type": "code",
      "execution_count": null,
      "metadata": {
        "colab": {
          "base_uri": "https://localhost:8080/"
        },
        "id": "swLXvHmn8scO",
        "outputId": "b116012c-21fd-4a00-9e89-3b4b9645d8a2"
      },
      "outputs": [
        {
          "output_type": "stream",
          "name": "stdout",
          "text": [
            "0 , 0 : 0.0\n",
            "0 , 1 : 1.0\n",
            "1 , 0 : 1.0\n",
            "1 , 1 : 1.0\n"
          ]
        }
      ],
      "source": [
        "or_gate_01 = logic_gate(1,1,-0.5)\n",
        "test(or_gate_01)"
      ]
    },
    {
      "cell_type": "markdown",
      "metadata": {
        "id": "kGBWd1hO8scO"
      },
      "source": [
        "# Part-II: Implement the operations of AND, NOR and NAND gates"
      ]
    },
    {
      "cell_type": "markdown",
      "metadata": {
        "id": "K8qYptd08scP"
      },
      "source": [
        "### AND GATE"
      ]
    },
    {
      "cell_type": "code",
      "execution_count": null,
      "metadata": {
        "colab": {
          "base_uri": "https://localhost:8080/"
        },
        "id": "PBt_cIxU8scP",
        "outputId": "fe51320d-2ddb-4d2a-9554-beaf9154a1cb"
      },
      "outputs": [
        {
          "output_type": "stream",
          "name": "stdout",
          "text": [
            "AND GATE \n",
            "\n",
            "0 , 0 : 0.0\n",
            "0 , 1 : 0.0\n",
            "1 , 0 : 0.0\n",
            "1 , 1 : 1.0\n"
          ]
        }
      ],
      "source": [
        "and_gate = logic_gate(1,1,-1.5)\n",
        "print(\"AND GATE \\n\")\n",
        "test(and_gate)\n"
      ]
    },
    {
      "cell_type": "markdown",
      "metadata": {
        "id": "mzp__yJR8scQ"
      },
      "source": [
        "### NAND GATE"
      ]
    },
    {
      "cell_type": "code",
      "execution_count": null,
      "metadata": {
        "colab": {
          "base_uri": "https://localhost:8080/"
        },
        "id": "Iuc1d99q8scQ",
        "outputId": "015829e9-56c8-4528-d773-e5a128c7fd2b"
      },
      "outputs": [
        {
          "output_type": "stream",
          "name": "stdout",
          "text": [
            "NAND GATE \n",
            "\n",
            "0 , 0 : 1.0\n",
            "0 , 1 : 1.0\n",
            "1 , 0 : 1.0\n",
            "1 , 1 : 0.0\n"
          ]
        }
      ],
      "source": [
        "nand_gate = logic_gate(-0.5,-0.5,0.7)\n",
        "print(\"NAND GATE \\n\")\n",
        "test(nand_gate)"
      ]
    },
    {
      "cell_type": "markdown",
      "metadata": {
        "id": "Lha0Povw8scR"
      },
      "source": [
        "### NOR GATE"
      ]
    },
    {
      "cell_type": "code",
      "execution_count": null,
      "metadata": {
        "colab": {
          "base_uri": "https://localhost:8080/"
        },
        "id": "69zQyuUD8scR",
        "outputId": "17fce047-01e4-4951-80a1-0f38709aca2e"
      },
      "outputs": [
        {
          "output_type": "stream",
          "name": "stdout",
          "text": [
            "NOR GATE \n",
            "\n",
            "0 , 0 : 1.0\n",
            "0 , 1 : 0.0\n",
            "1 , 0 : 0.0\n",
            "1 , 1 : 0.0\n"
          ]
        }
      ],
      "source": [
        "nor_gate = logic_gate(-1,-1,0.5)\n",
        "print(\"NOR GATE \\n\")\n",
        "test(nor_gate)"
      ]
    },
    {
      "cell_type": "markdown",
      "metadata": {
        "id": "cq7QEoHa8scR"
      },
      "source": [
        "\n",
        "# Part-III: Limitations of single neuron for XOR operation"
      ]
    },
    {
      "cell_type": "code",
      "execution_count": null,
      "metadata": {
        "colab": {
          "base_uri": "https://localhost:8080/"
        },
        "id": "amNVLxnj8scS",
        "outputId": "fab7dc59-09ed-4206-dc91-129bdb985cc7"
      },
      "outputs": [
        {
          "output_type": "stream",
          "name": "stdout",
          "text": [
            "0 , 0 : 0.0\n",
            "0 , 1 : 1.0\n",
            "1 , 0 : 1.0\n",
            "1 , 1 : 1.0\n"
          ]
        }
      ],
      "source": [
        "xor = logic_gate(1,1,-0.5)\n",
        "test(xor)"
      ]
    },
    {
      "cell_type": "markdown",
      "metadata": {
        "id": "RCWd1U9B8scS"
      },
      "source": [
        "# XOR Gate"
      ]
    },
    {
      "cell_type": "code",
      "execution_count": null,
      "metadata": {
        "id": "0OB5NoK68scS"
      },
      "outputs": [],
      "source": [
        "def xor(x1,x2):\n",
        "    or_val = int(x1 or x2)\n",
        "    and_val = int(not(x1 and x2))\n",
        "    xor_val = int(or_val and and_val)\n",
        "    return xor_val"
      ]
    },
    {
      "cell_type": "code",
      "execution_count": null,
      "metadata": {
        "colab": {
          "base_uri": "https://localhost:8080/"
        },
        "id": "-aWnr_jW8scS",
        "outputId": "a6f2838d-18d2-4bf8-d26b-71ab0e790f03"
      },
      "outputs": [
        {
          "output_type": "stream",
          "name": "stdout",
          "text": [
            "0 , 0 : 0\n",
            "0 , 1 : 1\n",
            "1 , 0 : 1\n",
            "1 , 1 : 0\n"
          ]
        }
      ],
      "source": [
        "test(xor)"
      ]
    },
    {
      "cell_type": "markdown",
      "metadata": {
        "id": "EgCJrlA18scT"
      },
      "source": [
        "# Part-IV: Logic Gates using Keras library"
      ]
    },
    {
      "cell_type": "code",
      "execution_count": null,
      "metadata": {
        "id": "Emf6_cfA8scT"
      },
      "outputs": [],
      "source": [
        "import tensorflow as tf\n",
        "from tensorflow.keras.models import Sequential\n",
        "from tensorflow.keras.layers import Dense"
      ]
    },
    {
      "cell_type": "code",
      "source": [
        "# Function to create and run the model\n",
        "def run_logic_gate_model(gate_name, x_train, y_train):\n",
        "    # Create the model\n",
        "    model = Sequential()\n",
        "    model.add(Dense(16, input_dim=2, activation='relu'))\n",
        "    model.add(Dense(1, activation='sigmoid'))\n",
        "\n",
        "    # Compile the model\n",
        "    model.compile(optimizer='adam', loss='mean_squared_error', metrics=['binary_accuracy'])\n",
        "\n",
        "    # Train the model\n",
        "    model.fit(x_train, y_train, epochs=100, verbose=0)\n",
        "\n",
        "    # Predict the output values\n",
        "    predictions = model.predict(x_train)\n",
        "    predictions = np.round(predictions)\n",
        "\n",
        "    # Print the predictions\n",
        "    print(f\"{gate_name} Gate Predictions:\")\n",
        "    print(predictions.flatten().astype(int))\n",
        "    print()\n"
      ],
      "metadata": {
        "id": "pil5Kf5g_YfI"
      },
      "execution_count": null,
      "outputs": []
    },
    {
      "cell_type": "code",
      "source": [
        "\n",
        "# Input and output values for the logic gates\n",
        "input_values = np.array([[0, 0], [0, 1], [1, 0], [1, 1]])\n",
        "\n",
        "# AND gate\n",
        "and_output = np.array([0, 0, 0, 1])\n",
        "run_logic_gate_model(\"AND\", input_values, and_output)\n",
        "\n",
        "# OR gate\n",
        "or_output = np.array([0, 1, 1, 1])\n",
        "run_logic_gate_model(\"OR\", input_values, or_output)\n",
        "\n",
        "# NOT gate\n",
        "not_output = np.array([1, 0, 1, 0])\n",
        "run_logic_gate_model(\"NOT\", input_values, not_output)\n",
        "\n",
        "# NAND gate\n",
        "nand_output = np.array([1, 1, 1, 0])\n",
        "run_logic_gate_model(\"NAND\", input_values, nand_output)\n",
        "\n",
        "# NOR gate\n",
        "nor_output = np.array([1, 0, 0, 0])\n",
        "run_logic_gate_model(\"NOR\", input_values, nor_output)\n",
        "\n",
        "# XOR gate\n",
        "xor_output = np.array([0, 1, 1, 0])\n",
        "run_logic_gate_model(\"XOR\", input_values, xor_output)\n"
      ],
      "metadata": {
        "colab": {
          "base_uri": "https://localhost:8080/"
        },
        "id": "J9TvRCyC81O-",
        "outputId": "da29d66f-d8d7-49f9-e582-7e7fa957b84c"
      },
      "execution_count": null,
      "outputs": [
        {
          "output_type": "stream",
          "name": "stdout",
          "text": [
            "1/1 [==============================] - 0s 79ms/step\n",
            "AND Gate Predictions:\n",
            "[0 0 0 1]\n",
            "\n",
            "1/1 [==============================] - 0s 60ms/step\n",
            "OR Gate Predictions:\n",
            "[1 1 1 1]\n",
            "\n",
            "1/1 [==============================] - 0s 63ms/step\n",
            "NOT Gate Predictions:\n",
            "[1 0 0 0]\n",
            "\n",
            "1/1 [==============================] - 0s 52ms/step\n",
            "NAND Gate Predictions:\n",
            "[1 1 1 0]\n",
            "\n"
          ]
        },
        {
          "output_type": "stream",
          "name": "stderr",
          "text": [
            "WARNING:tensorflow:5 out of the last 5 calls to <function Model.make_predict_function.<locals>.predict_function at 0x7fef6c4cd090> triggered tf.function retracing. Tracing is expensive and the excessive number of tracings could be due to (1) creating @tf.function repeatedly in a loop, (2) passing tensors with different shapes, (3) passing Python objects instead of tensors. For (1), please define your @tf.function outside of the loop. For (2), @tf.function has reduce_retracing=True option that can avoid unnecessary retracing. For (3), please refer to https://www.tensorflow.org/guide/function#controlling_retracing and https://www.tensorflow.org/api_docs/python/tf/function for  more details.\n"
          ]
        },
        {
          "output_type": "stream",
          "name": "stdout",
          "text": [
            "1/1 [==============================] - 0s 54ms/step\n",
            "NOR Gate Predictions:\n",
            "[0 0 0 0]\n",
            "\n"
          ]
        },
        {
          "output_type": "stream",
          "name": "stderr",
          "text": [
            "WARNING:tensorflow:6 out of the last 6 calls to <function Model.make_predict_function.<locals>.predict_function at 0x7fef6c3f55a0> triggered tf.function retracing. Tracing is expensive and the excessive number of tracings could be due to (1) creating @tf.function repeatedly in a loop, (2) passing tensors with different shapes, (3) passing Python objects instead of tensors. For (1), please define your @tf.function outside of the loop. For (2), @tf.function has reduce_retracing=True option that can avoid unnecessary retracing. For (3), please refer to https://www.tensorflow.org/guide/function#controlling_retracing and https://www.tensorflow.org/api_docs/python/tf/function for  more details.\n"
          ]
        },
        {
          "output_type": "stream",
          "name": "stdout",
          "text": [
            "1/1 [==============================] - 0s 85ms/step\n",
            "XOR Gate Predictions:\n",
            "[1 0 1 0]\n",
            "\n"
          ]
        }
      ]
    },
    {
      "cell_type": "code",
      "source": [],
      "metadata": {
        "id": "xd2ZIClij0gu"
      },
      "execution_count": null,
      "outputs": []
    },
    {
      "cell_type": "code",
      "source": [
        "import numpy as np\n",
        "from tensorflow.keras.models import Sequential\n",
        "from tensorflow.keras.layers import Dense\n",
        "\n",
        "# Step 1: Create input and output data using NumPy arrays\n",
        "\n",
        "# Define the input data\n",
        "X = np.array([[0, 0], [0, 1], [1, 0], [1, 1]])\n",
        "\n",
        "# Step 2: Create neural network models for each logic gate\n",
        "\n",
        "def create_logic_gate_model():\n",
        "    model = Sequential()\n",
        "    model.add(Dense(16, input_dim=2, activation='relu'))\n",
        "    model.add(Dense(1, activation='sigmoid'))\n",
        "    return model\n",
        "\n",
        "# Logic Gates Implementation\n",
        "\n",
        "# AND Gate\n",
        "Y_AND = np.array([0, 0, 0, 1])\n",
        "\n",
        "# OR Gate\n",
        "Y_OR = np.array([0, 1, 1, 1])\n",
        "\n",
        "# NOT Gate\n",
        "Y_NOT = np.array([1, 0])\n",
        "\n",
        "# NAND Gate\n",
        "Y_NAND = np.array([1, 1, 1, 0])\n",
        "\n",
        "# NOR Gate\n",
        "Y_NOR = np.array([1, 0, 0, 0])\n",
        "\n",
        "# XOR Gate\n",
        "Y_XOR = np.array([0, 1, 1, 0])\n",
        "\n",
        "# Create models for each gate\n",
        "and_model = create_logic_gate_model()\n",
        "or_model = create_logic_gate_model()\n",
        "\n",
        "nand_model = create_logic_gate_model()\n",
        "nor_model = create_logic_gate_model()\n",
        "xor_model = create_logic_gate_model()\n",
        "\n",
        "# Compile models\n",
        "and_model.compile(loss='binary_crossentropy', optimizer='adam', metrics=['accuracy'])\n",
        "or_model.compile(loss='binary_crossentropy', optimizer='adam', metrics=['accuracy'])\n",
        "\n",
        "nand_model.compile(loss='binary_crossentropy', optimizer='adam', metrics=['accuracy'])\n",
        "nor_model.compile(loss='binary_crossentropy', optimizer='adam', metrics=['accuracy'])\n",
        "xor_model.compile(loss='binary_crossentropy', optimizer='adam', metrics=['accuracy'])\n",
        "\n",
        "# Train models for each gate\n",
        "and_model.fit(X, Y_AND, epochs=1000, verbose=0)\n",
        "or_model.fit(X, Y_OR, epochs=1000, verbose=0)\n",
        "\n",
        "nand_model.fit(X, Y_NAND, epochs=1000, verbose=0)\n",
        "nor_model.fit(X, Y_NOR, epochs=1000, verbose=0)\n",
        "xor_model.fit(X, Y_XOR, epochs=1000, verbose=0)\n",
        "\n",
        "# Evaluate the models\n",
        "loss_and, accuracy_and = and_model.evaluate(X, Y_AND)\n",
        "loss_or, accuracy_or = or_model.evaluate(X, Y_OR)\n",
        "\n",
        "loss_nand, accuracy_nand = nand_model.evaluate(X, Y_NAND)\n",
        "loss_nor, accuracy_nor = nor_model.evaluate(X, Y_NOR)\n",
        "loss_xor, accuracy_xor = xor_model.evaluate(X, Y_XOR)\n",
        "\n",
        "# Print the results\n",
        "print(\"AND Gate:\")\n",
        "print(f\"Loss: {loss_and:.4f}, Accuracy: {accuracy_and:.4f}\")\n",
        "\n",
        "print(\"\\nOR Gate:\")\n",
        "print(f\"Loss: {loss_or:.4f}, Accuracy: {accuracy_or:.4f}\")\n",
        "\n",
        "print(\"\\nNAND Gate:\")\n",
        "print(f\"Loss: {loss_nand:.4f}, Accuracy: {accuracy_nand:.4f}\")\n",
        "\n",
        "print(\"\\nNOR Gate:\")\n",
        "print(f\"Loss: {loss_nor:.4f}, Accuracy: {accuracy_nor:.4f}\")\n",
        "\n",
        "print(\"\\nXOR Gate:\")\n",
        "print(f\"Loss: {loss_xor:.4f}, Accuracy: {accuracy_xor:.4f}\")\n"
      ],
      "metadata": {
        "colab": {
          "base_uri": "https://localhost:8080/"
        },
        "id": "BAp87SPOj0da",
        "outputId": "1315172a-48c4-48a0-ba9c-04066e405124"
      },
      "execution_count": 4,
      "outputs": [
        {
          "output_type": "stream",
          "name": "stdout",
          "text": [
            "1/1 [==============================] - 0s 112ms/step - loss: 0.0364 - accuracy: 1.0000\n",
            "1/1 [==============================] - 0s 104ms/step - loss: 0.1688 - accuracy: 1.0000\n",
            "1/1 [==============================] - 0s 119ms/step - loss: 0.0335 - accuracy: 1.0000\n",
            "1/1 [==============================] - 0s 108ms/step - loss: 0.1347 - accuracy: 1.0000\n",
            "1/1 [==============================] - 0s 113ms/step - loss: 0.0881 - accuracy: 1.0000\n",
            "AND Gate:\n",
            "Loss: 0.0364, Accuracy: 1.0000\n",
            "\n",
            "OR Gate:\n",
            "Loss: 0.1688, Accuracy: 1.0000\n",
            "\n",
            "NAND Gate:\n",
            "Loss: 0.0335, Accuracy: 1.0000\n",
            "\n",
            "NOR Gate:\n",
            "Loss: 0.1347, Accuracy: 1.0000\n",
            "\n",
            "XOR Gate:\n",
            "Loss: 0.0881, Accuracy: 1.0000\n"
          ]
        }
      ]
    },
    {
      "cell_type": "code",
      "source": [
        "# Input data for XOR gate\n",
        "X_xor = np.array([[0, 0], [0, 1], [1, 0], [1, 1]])\n",
        "\n",
        "# Predict XOR gate outputs\n",
        "predictions_xor = xor_model.predict(X_xor)\n",
        "\n",
        "# Print the predictions\n",
        "for i in range(len(X_xor)):\n",
        "    input_data = X_xor[i]\n",
        "    predicted_output = predictions_xor[i][0]\n",
        "    print(f\"Input: {input_data}, Predicted Output: {round(predicted_output)}\")\n"
      ],
      "metadata": {
        "colab": {
          "base_uri": "https://localhost:8080/"
        },
        "id": "Nyw5kibllKrK",
        "outputId": "359b5958-ef00-424b-8bd0-be372a6c0aec"
      },
      "execution_count": 7,
      "outputs": [
        {
          "output_type": "stream",
          "name": "stdout",
          "text": [
            "1/1 [==============================] - 0s 47ms/step\n",
            "Input: [0 0], Predicted Output: 0\n",
            "Input: [0 1], Predicted Output: 1\n",
            "Input: [1 0], Predicted Output: 1\n",
            "Input: [1 1], Predicted Output: 0\n"
          ]
        }
      ]
    },
    {
      "cell_type": "code",
      "source": [],
      "metadata": {
        "id": "JlpgBr9elbU5"
      },
      "execution_count": null,
      "outputs": []
    }
  ],
  "metadata": {
    "kernelspec": {
      "display_name": "Python 3",
      "name": "python3"
    },
    "language_info": {
      "codemirror_mode": {
        "name": "ipython",
        "version": 3
      },
      "file_extension": ".py",
      "mimetype": "text/x-python",
      "name": "python",
      "nbconvert_exporter": "python",
      "pygments_lexer": "ipython3",
      "version": "3.6.4"
    },
    "colab": {
      "provenance": [],
      "gpuType": "T4"
    },
    "accelerator": "GPU"
  },
  "nbformat": 4,
  "nbformat_minor": 0
}