{
  "nbformat": 4,
  "nbformat_minor": 0,
  "metadata": {
    "colab": {
      "provenance": [],
      "gpuType": "T4"
    },
    "kernelspec": {
      "name": "python3",
      "display_name": "Python 3"
    },
    "language_info": {
      "name": "python"
    },
    "accelerator": "GPU"
  },
  "cells": [
    {
      "cell_type": "markdown",
      "source": [
        "# SURUTHI S\n",
        "# 225229141\n",
        "# PDL LAB 15\n",
        "# Text dataset creation and design of Simple RNN for Sentiment Analysis"
      ],
      "metadata": {
        "id": "h0FRwJKOFD4Z"
      }
    },
    {
      "cell_type": "code",
      "source": [
        "import tensorflow\n",
        "import keras\n",
        "import numpy as np\n",
        "\n",
        "from tensorflow.keras.preprocessing.text import Tokenizer\n",
        "from tensorflow.keras.preprocessing.sequence import pad_sequences\n",
        "from tensorflow.keras.models import Sequential\n",
        "from tensorflow.keras.layers import Dense,Flatten,Embedding,Activation,Dropout,SpatialDropout1D,Bidirectional,LSTM,SimpleRNN\n",
        "from tensorflow.keras.layers import Conv1D,MaxPooling1D,GlobalAveragePooling1D,GlobalMaxPooling1D\n",
        "\n",
        "import pandas as pd\n",
        "from sklearn.model_selection import train_test_split\n",
        "import nltk\n",
        "from nltk.corpus import stopwords\n",
        "import re\n",
        "from nltk.stem import WordNetLemmatizer"
      ],
      "metadata": {
        "id": "81zx5vsQ6JgM"
      },
      "execution_count": null,
      "outputs": []
    },
    {
      "cell_type": "code",
      "source": [
        "df = pd.read_csv(\"/content/drive/MyDrive/imdb.csv\").sample(500).reset_index()\n"
      ],
      "metadata": {
        "id": "bqbH8H4O6Ji-"
      },
      "execution_count": null,
      "outputs": []
    },
    {
      "cell_type": "code",
      "source": [
        "df"
      ],
      "metadata": {
        "colab": {
          "base_uri": "https://localhost:8080/",
          "height": 423
        },
        "id": "k18wTICB6JmG",
        "outputId": "e301ce3f-dfbb-44e1-a371-de5f98226831"
      },
      "execution_count": null,
      "outputs": [
        {
          "output_type": "execute_result",
          "data": {
            "text/plain": [
              "     index                                             review sentiment\n",
              "0    35640  Adela is a rebellious teenager with the attitu...  negative\n",
              "1     5060  Unfortunately, this film is typical of the wat...  negative\n",
              "2    39115  You know, as you get older, you somehow think ...  negative\n",
              "3    10376  When you read the summary of this film, you mi...  positive\n",
              "4    41625  As far as HEIST movies go, this one is pretty ...  negative\n",
              "..     ...                                                ...       ...\n",
              "495  47304  Even though The Shining is over a quarter of a...  positive\n",
              "496  13869  \"Die Sieger\" was highly recommended to be one ...  negative\n",
              "497  27116  This film may have been the biggest let-down I...  negative\n",
              "498  29571  I was really surprised to see that unlike most...  positive\n",
              "499  48480  This movie was amazing. Never before have I se...  positive\n",
              "\n",
              "[500 rows x 3 columns]"
            ],
            "text/html": [
              "\n",
              "  <div id=\"df-7ba4bc23-af8c-4ecc-809a-74a4b436f708\" class=\"colab-df-container\">\n",
              "    <div>\n",
              "<style scoped>\n",
              "    .dataframe tbody tr th:only-of-type {\n",
              "        vertical-align: middle;\n",
              "    }\n",
              "\n",
              "    .dataframe tbody tr th {\n",
              "        vertical-align: top;\n",
              "    }\n",
              "\n",
              "    .dataframe thead th {\n",
              "        text-align: right;\n",
              "    }\n",
              "</style>\n",
              "<table border=\"1\" class=\"dataframe\">\n",
              "  <thead>\n",
              "    <tr style=\"text-align: right;\">\n",
              "      <th></th>\n",
              "      <th>index</th>\n",
              "      <th>review</th>\n",
              "      <th>sentiment</th>\n",
              "    </tr>\n",
              "  </thead>\n",
              "  <tbody>\n",
              "    <tr>\n",
              "      <th>0</th>\n",
              "      <td>35640</td>\n",
              "      <td>Adela is a rebellious teenager with the attitu...</td>\n",
              "      <td>negative</td>\n",
              "    </tr>\n",
              "    <tr>\n",
              "      <th>1</th>\n",
              "      <td>5060</td>\n",
              "      <td>Unfortunately, this film is typical of the wat...</td>\n",
              "      <td>negative</td>\n",
              "    </tr>\n",
              "    <tr>\n",
              "      <th>2</th>\n",
              "      <td>39115</td>\n",
              "      <td>You know, as you get older, you somehow think ...</td>\n",
              "      <td>negative</td>\n",
              "    </tr>\n",
              "    <tr>\n",
              "      <th>3</th>\n",
              "      <td>10376</td>\n",
              "      <td>When you read the summary of this film, you mi...</td>\n",
              "      <td>positive</td>\n",
              "    </tr>\n",
              "    <tr>\n",
              "      <th>4</th>\n",
              "      <td>41625</td>\n",
              "      <td>As far as HEIST movies go, this one is pretty ...</td>\n",
              "      <td>negative</td>\n",
              "    </tr>\n",
              "    <tr>\n",
              "      <th>...</th>\n",
              "      <td>...</td>\n",
              "      <td>...</td>\n",
              "      <td>...</td>\n",
              "    </tr>\n",
              "    <tr>\n",
              "      <th>495</th>\n",
              "      <td>47304</td>\n",
              "      <td>Even though The Shining is over a quarter of a...</td>\n",
              "      <td>positive</td>\n",
              "    </tr>\n",
              "    <tr>\n",
              "      <th>496</th>\n",
              "      <td>13869</td>\n",
              "      <td>\"Die Sieger\" was highly recommended to be one ...</td>\n",
              "      <td>negative</td>\n",
              "    </tr>\n",
              "    <tr>\n",
              "      <th>497</th>\n",
              "      <td>27116</td>\n",
              "      <td>This film may have been the biggest let-down I...</td>\n",
              "      <td>negative</td>\n",
              "    </tr>\n",
              "    <tr>\n",
              "      <th>498</th>\n",
              "      <td>29571</td>\n",
              "      <td>I was really surprised to see that unlike most...</td>\n",
              "      <td>positive</td>\n",
              "    </tr>\n",
              "    <tr>\n",
              "      <th>499</th>\n",
              "      <td>48480</td>\n",
              "      <td>This movie was amazing. Never before have I se...</td>\n",
              "      <td>positive</td>\n",
              "    </tr>\n",
              "  </tbody>\n",
              "</table>\n",
              "<p>500 rows × 3 columns</p>\n",
              "</div>\n",
              "    <div class=\"colab-df-buttons\">\n",
              "\n",
              "  <div class=\"colab-df-container\">\n",
              "    <button class=\"colab-df-convert\" onclick=\"convertToInteractive('df-7ba4bc23-af8c-4ecc-809a-74a4b436f708')\"\n",
              "            title=\"Convert this dataframe to an interactive table.\"\n",
              "            style=\"display:none;\">\n",
              "\n",
              "  <svg xmlns=\"http://www.w3.org/2000/svg\" height=\"24px\" viewBox=\"0 -960 960 960\">\n",
              "    <path d=\"M120-120v-720h720v720H120Zm60-500h600v-160H180v160Zm220 220h160v-160H400v160Zm0 220h160v-160H400v160ZM180-400h160v-160H180v160Zm440 0h160v-160H620v160ZM180-180h160v-160H180v160Zm440 0h160v-160H620v160Z\"/>\n",
              "  </svg>\n",
              "    </button>\n",
              "\n",
              "  <style>\n",
              "    .colab-df-container {\n",
              "      display:flex;\n",
              "      gap: 12px;\n",
              "    }\n",
              "\n",
              "    .colab-df-convert {\n",
              "      background-color: #E8F0FE;\n",
              "      border: none;\n",
              "      border-radius: 50%;\n",
              "      cursor: pointer;\n",
              "      display: none;\n",
              "      fill: #1967D2;\n",
              "      height: 32px;\n",
              "      padding: 0 0 0 0;\n",
              "      width: 32px;\n",
              "    }\n",
              "\n",
              "    .colab-df-convert:hover {\n",
              "      background-color: #E2EBFA;\n",
              "      box-shadow: 0px 1px 2px rgba(60, 64, 67, 0.3), 0px 1px 3px 1px rgba(60, 64, 67, 0.15);\n",
              "      fill: #174EA6;\n",
              "    }\n",
              "\n",
              "    .colab-df-buttons div {\n",
              "      margin-bottom: 4px;\n",
              "    }\n",
              "\n",
              "    [theme=dark] .colab-df-convert {\n",
              "      background-color: #3B4455;\n",
              "      fill: #D2E3FC;\n",
              "    }\n",
              "\n",
              "    [theme=dark] .colab-df-convert:hover {\n",
              "      background-color: #434B5C;\n",
              "      box-shadow: 0px 1px 3px 1px rgba(0, 0, 0, 0.15);\n",
              "      filter: drop-shadow(0px 1px 2px rgba(0, 0, 0, 0.3));\n",
              "      fill: #FFFFFF;\n",
              "    }\n",
              "  </style>\n",
              "\n",
              "    <script>\n",
              "      const buttonEl =\n",
              "        document.querySelector('#df-7ba4bc23-af8c-4ecc-809a-74a4b436f708 button.colab-df-convert');\n",
              "      buttonEl.style.display =\n",
              "        google.colab.kernel.accessAllowed ? 'block' : 'none';\n",
              "\n",
              "      async function convertToInteractive(key) {\n",
              "        const element = document.querySelector('#df-7ba4bc23-af8c-4ecc-809a-74a4b436f708');\n",
              "        const dataTable =\n",
              "          await google.colab.kernel.invokeFunction('convertToInteractive',\n",
              "                                                    [key], {});\n",
              "        if (!dataTable) return;\n",
              "\n",
              "        const docLinkHtml = 'Like what you see? Visit the ' +\n",
              "          '<a target=\"_blank\" href=https://colab.research.google.com/notebooks/data_table.ipynb>data table notebook</a>'\n",
              "          + ' to learn more about interactive tables.';\n",
              "        element.innerHTML = '';\n",
              "        dataTable['output_type'] = 'display_data';\n",
              "        await google.colab.output.renderOutput(dataTable, element);\n",
              "        const docLink = document.createElement('div');\n",
              "        docLink.innerHTML = docLinkHtml;\n",
              "        element.appendChild(docLink);\n",
              "      }\n",
              "    </script>\n",
              "  </div>\n",
              "\n",
              "\n",
              "<div id=\"df-747e1dc2-f305-42d2-9bbd-9497ca47db39\">\n",
              "  <button class=\"colab-df-quickchart\" onclick=\"quickchart('df-747e1dc2-f305-42d2-9bbd-9497ca47db39')\"\n",
              "            title=\"Suggest charts.\"\n",
              "            style=\"display:none;\">\n",
              "\n",
              "<svg xmlns=\"http://www.w3.org/2000/svg\" height=\"24px\"viewBox=\"0 0 24 24\"\n",
              "     width=\"24px\">\n",
              "    <g>\n",
              "        <path d=\"M19 3H5c-1.1 0-2 .9-2 2v14c0 1.1.9 2 2 2h14c1.1 0 2-.9 2-2V5c0-1.1-.9-2-2-2zM9 17H7v-7h2v7zm4 0h-2V7h2v10zm4 0h-2v-4h2v4z\"/>\n",
              "    </g>\n",
              "</svg>\n",
              "  </button>\n",
              "\n",
              "<style>\n",
              "  .colab-df-quickchart {\n",
              "      --bg-color: #E8F0FE;\n",
              "      --fill-color: #1967D2;\n",
              "      --hover-bg-color: #E2EBFA;\n",
              "      --hover-fill-color: #174EA6;\n",
              "      --disabled-fill-color: #AAA;\n",
              "      --disabled-bg-color: #DDD;\n",
              "  }\n",
              "\n",
              "  [theme=dark] .colab-df-quickchart {\n",
              "      --bg-color: #3B4455;\n",
              "      --fill-color: #D2E3FC;\n",
              "      --hover-bg-color: #434B5C;\n",
              "      --hover-fill-color: #FFFFFF;\n",
              "      --disabled-bg-color: #3B4455;\n",
              "      --disabled-fill-color: #666;\n",
              "  }\n",
              "\n",
              "  .colab-df-quickchart {\n",
              "    background-color: var(--bg-color);\n",
              "    border: none;\n",
              "    border-radius: 50%;\n",
              "    cursor: pointer;\n",
              "    display: none;\n",
              "    fill: var(--fill-color);\n",
              "    height: 32px;\n",
              "    padding: 0;\n",
              "    width: 32px;\n",
              "  }\n",
              "\n",
              "  .colab-df-quickchart:hover {\n",
              "    background-color: var(--hover-bg-color);\n",
              "    box-shadow: 0 1px 2px rgba(60, 64, 67, 0.3), 0 1px 3px 1px rgba(60, 64, 67, 0.15);\n",
              "    fill: var(--button-hover-fill-color);\n",
              "  }\n",
              "\n",
              "  .colab-df-quickchart-complete:disabled,\n",
              "  .colab-df-quickchart-complete:disabled:hover {\n",
              "    background-color: var(--disabled-bg-color);\n",
              "    fill: var(--disabled-fill-color);\n",
              "    box-shadow: none;\n",
              "  }\n",
              "\n",
              "  .colab-df-spinner {\n",
              "    border: 2px solid var(--fill-color);\n",
              "    border-color: transparent;\n",
              "    border-bottom-color: var(--fill-color);\n",
              "    animation:\n",
              "      spin 1s steps(1) infinite;\n",
              "  }\n",
              "\n",
              "  @keyframes spin {\n",
              "    0% {\n",
              "      border-color: transparent;\n",
              "      border-bottom-color: var(--fill-color);\n",
              "      border-left-color: var(--fill-color);\n",
              "    }\n",
              "    20% {\n",
              "      border-color: transparent;\n",
              "      border-left-color: var(--fill-color);\n",
              "      border-top-color: var(--fill-color);\n",
              "    }\n",
              "    30% {\n",
              "      border-color: transparent;\n",
              "      border-left-color: var(--fill-color);\n",
              "      border-top-color: var(--fill-color);\n",
              "      border-right-color: var(--fill-color);\n",
              "    }\n",
              "    40% {\n",
              "      border-color: transparent;\n",
              "      border-right-color: var(--fill-color);\n",
              "      border-top-color: var(--fill-color);\n",
              "    }\n",
              "    60% {\n",
              "      border-color: transparent;\n",
              "      border-right-color: var(--fill-color);\n",
              "    }\n",
              "    80% {\n",
              "      border-color: transparent;\n",
              "      border-right-color: var(--fill-color);\n",
              "      border-bottom-color: var(--fill-color);\n",
              "    }\n",
              "    90% {\n",
              "      border-color: transparent;\n",
              "      border-bottom-color: var(--fill-color);\n",
              "    }\n",
              "  }\n",
              "</style>\n",
              "\n",
              "  <script>\n",
              "    async function quickchart(key) {\n",
              "      const quickchartButtonEl =\n",
              "        document.querySelector('#' + key + ' button');\n",
              "      quickchartButtonEl.disabled = true;  // To prevent multiple clicks.\n",
              "      quickchartButtonEl.classList.add('colab-df-spinner');\n",
              "      try {\n",
              "        const charts = await google.colab.kernel.invokeFunction(\n",
              "            'suggestCharts', [key], {});\n",
              "      } catch (error) {\n",
              "        console.error('Error during call to suggestCharts:', error);\n",
              "      }\n",
              "      quickchartButtonEl.classList.remove('colab-df-spinner');\n",
              "      quickchartButtonEl.classList.add('colab-df-quickchart-complete');\n",
              "    }\n",
              "    (() => {\n",
              "      let quickchartButtonEl =\n",
              "        document.querySelector('#df-747e1dc2-f305-42d2-9bbd-9497ca47db39 button');\n",
              "      quickchartButtonEl.style.display =\n",
              "        google.colab.kernel.accessAllowed ? 'block' : 'none';\n",
              "    })();\n",
              "  </script>\n",
              "</div>\n",
              "    </div>\n",
              "  </div>\n"
            ]
          },
          "metadata": {},
          "execution_count": 11
        }
      ]
    },
    {
      "cell_type": "code",
      "source": [
        "df['sentiment'].value_counts()"
      ],
      "metadata": {
        "colab": {
          "base_uri": "https://localhost:8080/"
        },
        "id": "qvKHmlYQ6Jot",
        "outputId": "6bfde2b5-741d-4007-d38b-183580bdcccb"
      },
      "execution_count": null,
      "outputs": [
        {
          "output_type": "execute_result",
          "data": {
            "text/plain": [
              "negative    267\n",
              "positive    233\n",
              "Name: sentiment, dtype: int64"
            ]
          },
          "metadata": {},
          "execution_count": 12
        }
      ]
    },
    {
      "cell_type": "code",
      "source": [
        "y = np.array([1 if label == 'positive' else 0 for label in df['sentiment']])"
      ],
      "metadata": {
        "id": "Bcy3Js7A9t7d"
      },
      "execution_count": null,
      "outputs": []
    },
    {
      "cell_type": "code",
      "source": [
        "y"
      ],
      "metadata": {
        "id": "onjTrTAR9t4E"
      },
      "execution_count": null,
      "outputs": []
    },
    {
      "cell_type": "code",
      "source": [
        "X_train"
      ],
      "metadata": {
        "id": "mcBdDbxG9t1e"
      },
      "execution_count": null,
      "outputs": []
    },
    {
      "cell_type": "code",
      "source": [
        "# downloading nltk dependencies\n",
        "nltk.download('stopwords')\n",
        "nltk.download('omw-1.4')\n",
        "nltk.download('wordnet')"
      ],
      "metadata": {
        "colab": {
          "base_uri": "https://localhost:8080/"
        },
        "id": "O_LZW4bj6_Ov",
        "outputId": "7ce9acf8-8464-472c-b238-0b813134b542"
      },
      "execution_count": null,
      "outputs": [
        {
          "output_type": "stream",
          "name": "stderr",
          "text": [
            "[nltk_data] Downloading package stopwords to /root/nltk_data...\n",
            "[nltk_data]   Unzipping corpora/stopwords.zip.\n",
            "[nltk_data] Downloading package omw-1.4 to /root/nltk_data...\n",
            "[nltk_data] Downloading package wordnet to /root/nltk_data...\n"
          ]
        },
        {
          "output_type": "execute_result",
          "data": {
            "text/plain": [
              "True"
            ]
          },
          "metadata": {},
          "execution_count": 14
        }
      ]
    },
    {
      "cell_type": "code",
      "source": [
        "all_stopwords = stopwords.words('english')\n",
        "negation = ['no','not']\n",
        "all_stopwords = [w for w in all_stopwords if w not in negation]\n",
        "\n",
        "def preprocessing(data):\n",
        "    corpus = []\n",
        "    for i in range(len(data)):\n",
        "        # remove urls\n",
        "        tweet = re.sub(r'http\\S+', ' ', data[i]) # links\n",
        "\n",
        "        # remove html tags\n",
        "        tweet = re.sub(r'<.*?>', ' ', tweet) # tags\n",
        "        tweet = re.sub('&\\w+([-.]\\w+)*', ' ', tweet) # colorcodes\n",
        "\n",
        "        # remove digits\n",
        "        tweet = re.sub(r'\\d+', ' ', tweet)\n",
        "        tweet = re.sub('@\\w+([-.]\\w+)*', ' ', tweet) # mentions\n",
        "\n",
        "        # remove emojis\n",
        "        emoji_pattern = re.compile(\"[\"\n",
        "        u\"\\U0001F600-\\U0001F64F\"  # emoticons\n",
        "        u\"\\U0001F300-\\U0001F5FF\"  # symbols & pictographs\n",
        "        u\"\\U0001F680-\\U0001F6FF\"  # transport & map symbols\n",
        "        u\"\\U0001F1E0-\\U0001F1FF\"  # flags (iOS)\n",
        "                           \"]+\", flags=re.UNICODE)\n",
        "        tweet = emoji_pattern.sub(r'', tweet) # no emoji\n",
        "\n",
        "        # remove hashtags\n",
        "        tweet = re.sub(r'#\\w+', ' ', tweet) # hashtags\n",
        "        review = re.sub('[^a-zA-Z]', ' ', tweet) # any characters other than alphabets\n",
        "        review = review.lower() # casefolding\n",
        "        review = review.split()\n",
        "        lemma= WordNetLemmatizer() # lemmatization\n",
        "        review = [lemma.lemmatize(word) for word in review if word not in all_stopwords]\n",
        "        review = ' '.join(review)\n",
        "        corpus.append(review)\n",
        "    return corpus"
      ],
      "metadata": {
        "id": "X5iVAiNy6_K9"
      },
      "execution_count": null,
      "outputs": []
    },
    {
      "cell_type": "code",
      "source": [
        "review = preprocessing(df['review'])"
      ],
      "metadata": {
        "id": "VW219YPR6_Hz"
      },
      "execution_count": null,
      "outputs": []
    },
    {
      "cell_type": "code",
      "source": [
        "X_train, X_test,y_train,y_test = train_test_split(review,y,test_size=0.30,stratify = y,random_state=42)"
      ],
      "metadata": {
        "id": "rbC_GQkx6_Ex"
      },
      "execution_count": null,
      "outputs": []
    },
    {
      "cell_type": "code",
      "source": [
        "y_train"
      ],
      "metadata": {
        "id": "nY4yVEWx-NWw"
      },
      "execution_count": null,
      "outputs": []
    },
    {
      "cell_type": "code",
      "source": [
        "token = Tokenizer()\n",
        "token.fit_on_texts(X_train)"
      ],
      "metadata": {
        "id": "G3698meU6_B7"
      },
      "execution_count": null,
      "outputs": []
    },
    {
      "cell_type": "code",
      "source": [
        "# Convert text data to sequences of integers\n",
        "train_sequences = token.texts_to_sequences(X_train)\n",
        "valid_sequences = token.texts_to_sequences(X_test)"
      ],
      "metadata": {
        "id": "SZy8vuW46-_H"
      },
      "execution_count": null,
      "outputs": []
    },
    {
      "cell_type": "code",
      "source": [
        "vocab_size = len(token.word_index)+1\n",
        "vocab_size\n",
        "\n",
        "# there are 9049 unique words in the corpus\n",
        "# we will feed this to the input_dim of embedding layer\n",
        "# +1 because the index starts from 0"
      ],
      "metadata": {
        "colab": {
          "base_uri": "https://localhost:8080/"
        },
        "id": "G7_VnLe_7RMb",
        "outputId": "e5475e48-8162-4d73-cbf0-5d8b8b6c4c87"
      },
      "execution_count": null,
      "outputs": [
        {
          "output_type": "execute_result",
          "data": {
            "text/plain": [
              "9049"
            ]
          },
          "metadata": {},
          "execution_count": 27
        }
      ]
    },
    {
      "cell_type": "code",
      "source": [
        "maxlen = 100 # specifies the maximum length of the sequences after padding or truncating.\n",
        "\n",
        "X_train = np.array(pad_sequences(train_sequences, maxlen=maxlen,padding = 'post'))\n",
        "X_test = np.array(pad_sequences(valid_sequences, maxlen=maxlen,padding = 'post'))"
      ],
      "metadata": {
        "id": "VCZIr3I06JzH"
      },
      "execution_count": null,
      "outputs": []
    },
    {
      "cell_type": "code",
      "source": [
        "y_train = np.array(y_train)\n",
        "y_test = np.array(y_test)"
      ],
      "metadata": {
        "id": "0Jhrne4Q_MYO"
      },
      "execution_count": null,
      "outputs": []
    },
    {
      "cell_type": "code",
      "source": [
        "X_train.shape"
      ],
      "metadata": {
        "colab": {
          "base_uri": "https://localhost:8080/"
        },
        "id": "aMFMUYFE6J5M",
        "outputId": "47785397-b3eb-41b5-8eab-4cf5ef8d2a09"
      },
      "execution_count": null,
      "outputs": [
        {
          "output_type": "execute_result",
          "data": {
            "text/plain": [
              "(350, 100)"
            ]
          },
          "metadata": {},
          "execution_count": 57
        }
      ]
    },
    {
      "cell_type": "code",
      "source": [
        "vec_size = 300\n",
        "\n",
        "model = Sequential()\n",
        "model.add(Embedding(input_dim = vocab_size,\n",
        "                   output_dim = vec_size,\n",
        "                  input_length=maxlen))\n",
        "\n",
        "model.add(SimpleRNN(units=16))\n",
        "model.add(Dense(1, activation='sigmoid'))"
      ],
      "metadata": {
        "id": "a_0oM0Nn7b9e"
      },
      "execution_count": null,
      "outputs": []
    },
    {
      "cell_type": "code",
      "source": [
        "model.compile(optimizer='adam',\n",
        "              loss='binary_crossentropy', metrics=['accuracy'])"
      ],
      "metadata": {
        "id": "n4HpJ7Ib7b8h"
      },
      "execution_count": null,
      "outputs": []
    },
    {
      "cell_type": "code",
      "source": [
        "model.summary()"
      ],
      "metadata": {
        "colab": {
          "base_uri": "https://localhost:8080/"
        },
        "id": "AQ_T4pq87b3C",
        "outputId": "3dd99eea-f952-41a9-d852-78537a6435a8"
      },
      "execution_count": null,
      "outputs": [
        {
          "output_type": "stream",
          "name": "stdout",
          "text": [
            "Model: \"sequential_7\"\n",
            "_________________________________________________________________\n",
            " Layer (type)                Output Shape              Param #   \n",
            "=================================================================\n",
            " embedding_7 (Embedding)     (None, 100, 300)          2714700   \n",
            "                                                                 \n",
            " simple_rnn_7 (SimpleRNN)    (None, 16)                5072      \n",
            "                                                                 \n",
            " dense_6 (Dense)             (None, 1)                 17        \n",
            "                                                                 \n",
            "=================================================================\n",
            "Total params: 2719789 (10.38 MB)\n",
            "Trainable params: 2719789 (10.38 MB)\n",
            "Non-trainable params: 0 (0.00 Byte)\n",
            "_________________________________________________________________\n"
          ]
        }
      ]
    },
    {
      "cell_type": "code",
      "source": [
        "rnn_history = model.fit(X_train,y_train,epochs=10,validation_data=(X_test,y_test))"
      ],
      "metadata": {
        "colab": {
          "base_uri": "https://localhost:8080/"
        },
        "id": "1uYQTh2Z7b0v",
        "outputId": "ea81b331-ba42-4db2-ee5a-7dc4b2683b31"
      },
      "execution_count": null,
      "outputs": [
        {
          "output_type": "stream",
          "name": "stdout",
          "text": [
            "Epoch 1/10\n",
            "11/11 [==============================] - 6s 422ms/step - loss: 0.6912 - accuracy: 0.5429 - val_loss: 0.6912 - val_accuracy: 0.5000\n",
            "Epoch 2/10\n",
            "11/11 [==============================] - 3s 259ms/step - loss: 0.4060 - accuracy: 0.9200 - val_loss: 0.6988 - val_accuracy: 0.5333\n",
            "Epoch 3/10\n",
            "11/11 [==============================] - 2s 198ms/step - loss: 0.2483 - accuracy: 0.9943 - val_loss: 0.7114 - val_accuracy: 0.5267\n",
            "Epoch 4/10\n",
            "11/11 [==============================] - 3s 254ms/step - loss: 0.1651 - accuracy: 1.0000 - val_loss: 0.7313 - val_accuracy: 0.5067\n",
            "Epoch 5/10\n",
            "11/11 [==============================] - 4s 363ms/step - loss: 0.1200 - accuracy: 1.0000 - val_loss: 0.7938 - val_accuracy: 0.4533\n",
            "Epoch 6/10\n",
            "11/11 [==============================] - 3s 319ms/step - loss: 0.0895 - accuracy: 1.0000 - val_loss: 0.8317 - val_accuracy: 0.5000\n",
            "Epoch 7/10\n",
            "11/11 [==============================] - 2s 204ms/step - loss: 0.0701 - accuracy: 1.0000 - val_loss: 0.8551 - val_accuracy: 0.5000\n",
            "Epoch 8/10\n",
            "11/11 [==============================] - 2s 171ms/step - loss: 0.0566 - accuracy: 1.0000 - val_loss: 0.8707 - val_accuracy: 0.4867\n",
            "Epoch 9/10\n",
            "11/11 [==============================] - 2s 182ms/step - loss: 0.0470 - accuracy: 1.0000 - val_loss: 0.8777 - val_accuracy: 0.5000\n",
            "Epoch 10/10\n",
            "11/11 [==============================] - 2s 190ms/step - loss: 0.0400 - accuracy: 1.0000 - val_loss: 0.8960 - val_accuracy: 0.4867\n"
          ]
        }
      ]
    },
    {
      "cell_type": "code",
      "source": [
        "import matplotlib.pyplot as plt\n",
        "\n",
        "def accuracy_plot(history):\n",
        "  plt.plot(history.history['accuracy'])\n",
        "  plt.title(\" Accuracy \")\n",
        "  plt.ylabel(\"Accuracy\")\n",
        "  plt.xlabel(\"Epochs\")\n",
        "  plt.legend(['Train'],loc='best')\n",
        "  plt.show()\n",
        "\n",
        "def loss_plot(history):\n",
        "  plt.plot(history.history['loss'])\n",
        "  plt.title(\" Loss \")\n",
        "  plt.ylabel(\"Loss\")\n",
        "  plt.xlabel(\"Epochs\")\n",
        "  plt.legend(['Train'],loc='best')\n",
        "  plt.show()\n",
        "\n"
      ],
      "metadata": {
        "id": "pKtGnAOa7bzP"
      },
      "execution_count": null,
      "outputs": []
    },
    {
      "cell_type": "code",
      "source": [
        "accuracy_plot(rnn_history)"
      ],
      "metadata": {
        "colab": {
          "base_uri": "https://localhost:8080/",
          "height": 427
        },
        "id": "T0lvvbE87bts",
        "outputId": "8edfc43e-2ae9-4222-e388-37fa490c9ffd"
      },
      "execution_count": null,
      "outputs": [
        {
          "output_type": "display_data",
          "data": {
            "text/plain": [
              "<Figure size 640x480 with 1 Axes>"
            ],
            "image/png": "[encoded data removed]"
          },
          "metadata": {}
        }
      ]
    },
    {
      "cell_type": "code",
      "source": [
        "loss_plot(rnn_history)"
      ],
      "metadata": {
        "colab": {
          "base_uri": "https://localhost:8080/",
          "height": 427
        },
        "id": "nH4MnGsc7bsZ",
        "outputId": "986f3b43-e63a-4729-9262-ae77a9bbfe51"
      },
      "execution_count": null,
      "outputs": [
        {
          "output_type": "display_data",
          "data": {
            "text/plain": [
              "<Figure size 640x480 with 1 Axes>"
            ],
            "image/png": "[encoded data removed]"
          },
          "metadata": {}
        }
      ]
    },
    {
      "cell_type": "code",
      "source": [
        "for num_layers in [2, 3, 4]:\n",
        "    model = Sequential()\n",
        "    model.add(Embedding(input_dim=vocab_size, output_dim=vec_size, input_length=maxlen))\n",
        "\n",
        "    # Add SimpleRNN layers\n",
        "    for _ in range(num_layers):\n",
        "        model.add(SimpleRNN(units=32, return_sequences=True))  # Use return_sequences for all but the last layer\n",
        "\n",
        "    model.add(SimpleRNN(units=32))  # Final SimpleRNN layer\n",
        "    model.add(Dense(1, activation='sigmoid'))\n",
        "\n",
        "    model.compile(optimizer='adam', loss='binary_crossentropy', metrics=['accuracy'])\n",
        "\n",
        "    print(f\"Training model with {num_layers} SimpleRNN layers:\")\n",
        "    history = model.fit(X_train, y_train, epochs=10,  validation_data=(X_test, y_test))\n",
        "\n",
        "    # Evaluate the model\n",
        "    loss, accuracy = model.evaluate(X_test, y_test)\n",
        "    print(f\"Test Loss: {loss:.4f}\")\n",
        "    print(f\"Test Accuracy: {accuracy:.4f}\")\n",
        "    print()\n",
        "# This code defines a for loop that iterates through the specified numbers of SimpleRNN layers (2, 3, and 4). For each number of layers, it creates and trains a model, then evaluates its performance.\n"
      ],
      "metadata": {
        "colab": {
          "base_uri": "https://localhost:8080/"
        },
        "id": "3ZM6Cg7h7bpE",
        "outputId": "fc93ddf4-7ccb-433e-d321-e1949ffd0d67"
      },
      "execution_count": null,
      "outputs": [
        {
          "output_type": "stream",
          "name": "stdout",
          "text": [
            "Training model with 2 SimpleRNN layers:\n",
            "Epoch 1/10\n",
            "11/11 [==============================] - 19s 982ms/step - loss: 0.7163 - accuracy: 0.5029 - val_loss: 0.6950 - val_accuracy: 0.5400\n",
            "Epoch 2/10\n",
            "11/11 [==============================] - 13s 1s/step - loss: 0.3724 - accuracy: 0.8514 - val_loss: 0.7560 - val_accuracy: 0.5000\n",
            "Epoch 3/10\n",
            "11/11 [==============================] - 7s 616ms/step - loss: 0.1495 - accuracy: 0.9543 - val_loss: 0.9039 - val_accuracy: 0.4733\n",
            "Epoch 4/10\n",
            "11/11 [==============================] - 6s 470ms/step - loss: 0.0313 - accuracy: 0.9971 - val_loss: 1.2846 - val_accuracy: 0.4733\n",
            "Epoch 5/10\n",
            "11/11 [==============================] - 4s 375ms/step - loss: 0.0098 - accuracy: 1.0000 - val_loss: 1.2838 - val_accuracy: 0.4733\n",
            "Epoch 6/10\n",
            "11/11 [==============================] - 6s 616ms/step - loss: 0.0059 - accuracy: 1.0000 - val_loss: 1.3196 - val_accuracy: 0.4600\n",
            "Epoch 7/10\n",
            "11/11 [==============================] - 4s 386ms/step - loss: 0.0042 - accuracy: 1.0000 - val_loss: 1.4056 - val_accuracy: 0.4467\n",
            "Epoch 8/10\n",
            "11/11 [==============================] - 4s 384ms/step - loss: 0.0035 - accuracy: 1.0000 - val_loss: 1.4315 - val_accuracy: 0.4400\n",
            "Epoch 9/10\n",
            "11/11 [==============================] - 6s 570ms/step - loss: 0.0030 - accuracy: 1.0000 - val_loss: 1.4301 - val_accuracy: 0.4467\n",
            "Epoch 10/10\n",
            "11/11 [==============================] - 5s 416ms/step - loss: 0.0027 - accuracy: 1.0000 - val_loss: 1.4366 - val_accuracy: 0.4467\n",
            "5/5 [==============================] - 0s 25ms/step - loss: 1.4366 - accuracy: 0.4467\n",
            "Test Loss: 1.4366\n",
            "Test Accuracy: 0.4467\n",
            "\n",
            "Training model with 3 SimpleRNN layers:\n",
            "Epoch 1/10\n",
            "11/11 [==============================] - 59s 762ms/step - loss: 0.7250 - accuracy: 0.5114 - val_loss: 0.7019 - val_accuracy: 0.5467\n",
            "Epoch 2/10\n",
            "11/11 [==============================] - 6s 503ms/step - loss: 0.2938 - accuracy: 0.9371 - val_loss: 0.7940 - val_accuracy: 0.5200\n",
            "Epoch 3/10\n",
            "11/11 [==============================] - 10s 943ms/step - loss: 0.0958 - accuracy: 0.9857 - val_loss: 0.9468 - val_accuracy: 0.4867\n",
            "Epoch 4/10\n",
            "11/11 [==============================] - 6s 544ms/step - loss: 0.0267 - accuracy: 1.0000 - val_loss: 1.0885 - val_accuracy: 0.5467\n",
            "Epoch 5/10\n",
            "11/11 [==============================] - 7s 672ms/step - loss: 0.0131 - accuracy: 1.0000 - val_loss: 1.1867 - val_accuracy: 0.5400\n",
            "Epoch 6/10\n",
            "11/11 [==============================] - 5s 496ms/step - loss: 0.0083 - accuracy: 1.0000 - val_loss: 1.2547 - val_accuracy: 0.5333\n",
            "Epoch 7/10\n",
            "11/11 [==============================] - 7s 681ms/step - loss: 0.0064 - accuracy: 1.0000 - val_loss: 1.2665 - val_accuracy: 0.5333\n",
            "Epoch 8/10\n",
            "11/11 [==============================] - 5s 449ms/step - loss: 0.0053 - accuracy: 1.0000 - val_loss: 1.2892 - val_accuracy: 0.5400\n",
            "Epoch 9/10\n",
            "11/11 [==============================] - 7s 666ms/step - loss: 0.0045 - accuracy: 1.0000 - val_loss: 1.3144 - val_accuracy: 0.5467\n",
            "Epoch 10/10\n",
            "11/11 [==============================] - 5s 461ms/step - loss: 0.0040 - accuracy: 1.0000 - val_loss: 1.3286 - val_accuracy: 0.5400\n",
            "5/5 [==============================] - 0s 33ms/step - loss: 1.3286 - accuracy: 0.5400\n",
            "Test Loss: 1.3286\n",
            "Test Accuracy: 0.5400\n",
            "\n",
            "Training model with 4 SimpleRNN layers:\n",
            "Epoch 1/10\n",
            "11/11 [==============================] - 14s 643ms/step - loss: 0.7460 - accuracy: 0.4971 - val_loss: 0.7266 - val_accuracy: 0.4600\n",
            "Epoch 2/10\n",
            "11/11 [==============================] - 8s 762ms/step - loss: 0.4005 - accuracy: 0.8286 - val_loss: 0.7453 - val_accuracy: 0.6067\n",
            "Epoch 3/10\n",
            "11/11 [==============================] - 6s 570ms/step - loss: 0.1404 - accuracy: 0.9629 - val_loss: 0.8152 - val_accuracy: 0.5800\n",
            "Epoch 4/10\n",
            "11/11 [==============================] - 9s 822ms/step - loss: 0.0293 - accuracy: 1.0000 - val_loss: 1.0326 - val_accuracy: 0.5267\n",
            "Epoch 5/10\n",
            "11/11 [==============================] - 6s 574ms/step - loss: 0.0101 - accuracy: 1.0000 - val_loss: 1.0747 - val_accuracy: 0.5867\n",
            "Epoch 6/10\n",
            "11/11 [==============================] - 8s 757ms/step - loss: 0.0059 - accuracy: 1.0000 - val_loss: 1.0993 - val_accuracy: 0.5600\n",
            "Epoch 7/10\n",
            "11/11 [==============================] - 6s 531ms/step - loss: 0.0045 - accuracy: 1.0000 - val_loss: 1.1236 - val_accuracy: 0.5733\n",
            "Epoch 8/10\n",
            "11/11 [==============================] - 8s 755ms/step - loss: 0.0038 - accuracy: 1.0000 - val_loss: 1.1459 - val_accuracy: 0.5667\n",
            "Epoch 9/10\n",
            "11/11 [==============================] - 6s 527ms/step - loss: 0.0033 - accuracy: 1.0000 - val_loss: 1.1652 - val_accuracy: 0.5667\n",
            "Epoch 10/10\n",
            "11/11 [==============================] - 8s 731ms/step - loss: 0.0030 - accuracy: 1.0000 - val_loss: 1.1839 - val_accuracy: 0.5600\n",
            "5/5 [==============================] - 0s 43ms/step - loss: 1.1839 - accuracy: 0.5600\n",
            "Test Loss: 1.1839\n",
            "Test Accuracy: 0.5600\n",
            "\n"
          ]
        }
      ]
    },
    {
      "cell_type": "code",
      "source": [],
      "metadata": {
        "id": "scUasa8F7bme"
      },
      "execution_count": null,
      "outputs": []
    },
    {
      "cell_type": "code",
      "source": [],
      "metadata": {
        "id": "5DSGFHHO7bjV"
      },
      "execution_count": null,
      "outputs": []
    },
    {
      "cell_type": "code",
      "source": [],
      "metadata": {
        "id": "xagYHaCf7bgt"
      },
      "execution_count": null,
      "outputs": []
    },
    {
      "cell_type": "code",
      "source": [],
      "metadata": {
        "id": "WdswD8yr7beF"
      },
      "execution_count": null,
      "outputs": []
    },
    {
      "cell_type": "code",
      "source": [],
      "metadata": {
        "id": "tOK9ITzC7bbH"
      },
      "execution_count": null,
      "outputs": []
    },
    {
      "cell_type": "code",
      "source": [],
      "metadata": {
        "id": "gbuu7-xm7bYO"
      },
      "execution_count": null,
      "outputs": []
    }
  ]
}